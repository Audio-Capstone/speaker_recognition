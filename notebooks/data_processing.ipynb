{
 "cells": [
  {
   "cell_type": "markdown",
   "id": "f69bd6f2-a2a2-438d-8fc8-59906fbb6a0e",
   "metadata": {},
   "source": [
    "# Data Processing Notebook:"
   ]
  },
  {
   "cell_type": "code",
   "execution_count": 9,
   "id": "ece3aadb-4fbc-44c9-bf27-66974551e9f1",
   "metadata": {},
   "outputs": [],
   "source": [
    "# Uncomment and install any needed dependencies\n",
    "# !pip install pydub\n",
    "# !pip install librosa\n",
    "# !pip install regex\n",
    "# !pip install soundfile\n",
    "# !pip install noisereduce"
   ]
  },
  {
   "cell_type": "code",
   "execution_count": 2,
   "id": "8220007d-fd83-481e-953d-9288579e049f",
   "metadata": {},
   "outputs": [],
   "source": [
    "import os\n",
    "import sys\n",
    "sys.path.append('../')\n",
    "\n",
    "from functions import processing_funcs, utils\n",
    "from pydub.utils import mediainfo"
   ]
  },
  {
   "cell_type": "markdown",
   "id": "30392c1b-743e-4be7-8e37-be47317c9167",
   "metadata": {},
   "source": [
    "## First, we need to get some files."
   ]
  },
  {
   "cell_type": "code",
   "execution_count": 3,
   "id": "a23ef379-cab8-4f22-a343-9d9dcd3bca14",
   "metadata": {},
   "outputs": [
    {
     "name": "stdout",
     "output_type": "stream",
     "text": [
      "Creating directory at ../voice_data...\n",
      "\n",
      "../voice_data already exists.\n",
      "\n",
      "Downloading 31 files from https://media.talkbank.org/ca/CallFriend/eng-n/0wav/\n",
      "12.9% done...\n",
      "22.58% done...\n",
      "32.26% done...\n",
      "41.94% done...\n",
      "51.61% done...\n",
      "61.29% done...\n",
      "70.97% done...\n",
      "80.65% done...\n",
      "90.32% done...\n",
      "100.0% done...\n",
      "All 31 downloaded to the ../voice_data directory\n",
      "CPU times: user 10.7 s, sys: 8.77 s, total: 19.4 s\n",
      "Wall time: 7min 4s\n"
     ]
    }
   ],
   "source": [
    "%%time\n",
    "voice_dir = os.path.join('..', 'voice_data')\n",
    "utils.make_dir(voice_dir)\n",
    "utils.get_voice_data(voice_dir)"
   ]
  },
  {
   "cell_type": "markdown",
   "id": "846268b6-9bc0-4b0e-80d9-c0f712f4a89a",
   "metadata": {},
   "source": [
    "### Split stereo channels into mono:"
   ]
  },
  {
   "cell_type": "code",
   "execution_count": 4,
   "id": "27f8c0a7-f631-4689-8031-c34cb3576694",
   "metadata": {},
   "outputs": [
    {
     "name": "stdout",
     "output_type": "stream",
     "text": [
      "Creating directory at ../voice_data/mono_channels...\n",
      "\n",
      "../voice_data/mono_channels already exists.\n",
      "\n",
      "Collecting all files in ../voice_data/ matching regular expression [0-9]+\\.wav.\n",
      "\n",
      "Removing noise from the 31 files in ../voice_data/mono_channels\n",
      "12.9% done...\n",
      "22.58% done...\n",
      "32.26% done...\n",
      "41.94% done...\n",
      "51.61% done...\n",
      "61.29% done...\n",
      "70.97% done...\n",
      "80.65% done...\n",
      "90.32% done...\n",
      "100.0% done...\n",
      "Splitting complete.\n",
      "\n",
      "CPU times: user 12.8 s, sys: 903 ms, total: 13.7 s\n",
      "Wall time: 18.6 s\n"
     ]
    }
   ],
   "source": [
    "%%time\n",
    "mono_dir_path = os.path.join(voice_dir, 'mono_channels')\n",
    "utils.make_dir(mono_dir_path)\n",
    "processing_funcs.split_stereo_audio(voice_dir_path = '../voice_data/')"
   ]
  },
  {
   "cell_type": "markdown",
   "id": "3d098d33-4527-4964-b78a-327398d6ae38",
   "metadata": {},
   "source": [
    "### All of our stereo audio should now be split into mono channels:"
   ]
  },
  {
   "cell_type": "code",
   "execution_count": 5,
   "id": "82acf070-f4c1-4f59-821e-da1a0ef726fd",
   "metadata": {},
   "outputs": [
    {
     "name": "stdout",
     "output_type": "stream",
     "text": [
      "Collecting all files in ../voice_data/mono_channels matching regular expression [0-9]+\\_(?:L|R)\\.wav.\n",
      "\n",
      "Total number of mono files: 62 \n",
      "\n",
      "4175_L.wav\n",
      "4175_R.wav\n",
      "4504_L.wav\n",
      "4504_R.wav\n",
      "4708_L.wav\n",
      "4708_R.wav\n",
      "4745_L.wav\n",
      "4745_R.wav\n",
      "4823_L.wav\n",
      "4823_R.wav\n",
      "4874_L.wav\n",
      "4874_R.wav\n",
      "4889_L.wav\n",
      "4889_R.wav\n",
      "4984_L.wav\n",
      "4984_R.wav\n",
      "5000_L.wav\n",
      "5000_R.wav\n",
      "5051_L.wav\n",
      "5051_R.wav\n",
      "5220_L.wav\n",
      "5220_R.wav\n",
      "5635_L.wav\n",
      "5635_R.wav\n",
      "5926_L.wav\n",
      "5926_R.wav\n",
      "6015_L.wav\n",
      "6015_R.wav\n",
      "6062_L.wav\n",
      "6062_R.wav\n",
      "6065_L.wav\n",
      "6065_R.wav\n",
      "6093_L.wav\n",
      "6093_R.wav\n",
      "6126_L.wav\n",
      "6126_R.wav\n",
      "6157_L.wav\n",
      "6157_R.wav\n",
      "6193_L.wav\n",
      "6193_R.wav\n",
      "6239_L.wav\n",
      "6239_R.wav\n",
      "6255_L.wav\n",
      "6255_R.wav\n",
      "6278_L.wav\n",
      "6278_R.wav\n",
      "6372_L.wav\n",
      "6372_R.wav\n",
      "6379_L.wav\n",
      "6379_R.wav\n",
      "6476_L.wav\n",
      "6476_R.wav\n",
      "6862_L.wav\n",
      "6862_R.wav\n",
      "6869_L.wav\n",
      "6869_R.wav\n",
      "6899_L.wav\n",
      "6899_R.wav\n",
      "6938_L.wav\n",
      "6938_R.wav\n",
      "6952_L.wav\n",
      "6952_R.wav\n"
     ]
    }
   ],
   "source": [
    "mono_dir = utils.read_dir_files(dir_path = mono_dir_path,\n",
    "                                file_regex = r'[0-9]+\\_(?:L|R)\\.wav')\n",
    "\n",
    "print('Total number of mono files:', len(mono_dir), '\\n')\n",
    "\n",
    "for mono_file in mono_dir:\n",
    "    print(mono_file)"
   ]
  },
  {
   "cell_type": "markdown",
   "id": "4336acbc-1359-46ba-9bb5-7351567d90f1",
   "metadata": {},
   "source": [
    "### We now have 62 mono files: 2 * 31 original files. This makes sense!\n",
    "\n",
    "Now to check to make sure they look okay:"
   ]
  },
  {
   "cell_type": "code",
   "execution_count": 6,
   "id": "17c47085-5b48-40be-a139-374307928d8b",
   "metadata": {},
   "outputs": [
    {
     "name": "stdout",
     "output_type": "stream",
     "text": [
      "Here is the file information for the first 10 files:\n",
      "File: ../voice_data/mono_channels/4175_L.wav | Number of Channels: 1 | Sampling Rate: 8000 | Duration (secs): 1800.000000\n",
      "File: ../voice_data/mono_channels/4175_R.wav | Number of Channels: 1 | Sampling Rate: 8000 | Duration (secs): 1800.000000\n",
      "File: ../voice_data/mono_channels/4504_L.wav | Number of Channels: 1 | Sampling Rate: 8000 | Duration (secs): 470.760000\n",
      "File: ../voice_data/mono_channels/4504_R.wav | Number of Channels: 1 | Sampling Rate: 8000 | Duration (secs): 470.760000\n",
      "File: ../voice_data/mono_channels/4708_L.wav | Number of Channels: 1 | Sampling Rate: 8000 | Duration (secs): 1800.000000\n",
      "File: ../voice_data/mono_channels/4708_R.wav | Number of Channels: 1 | Sampling Rate: 8000 | Duration (secs): 1800.000000\n",
      "File: ../voice_data/mono_channels/4745_L.wav | Number of Channels: 1 | Sampling Rate: 8000 | Duration (secs): 1425.450000\n",
      "File: ../voice_data/mono_channels/4745_R.wav | Number of Channels: 1 | Sampling Rate: 8000 | Duration (secs): 1425.450000\n",
      "File: ../voice_data/mono_channels/4823_L.wav | Number of Channels: 1 | Sampling Rate: 8000 | Duration (secs): 1800.000000\n",
      "File: ../voice_data/mono_channels/4823_R.wav | Number of Channels: 1 | Sampling Rate: 8000 | Duration (secs): 1800.000000\n"
     ]
    }
   ],
   "source": [
    "print(\"Here is the file information for the first 10 files:\")\n",
    "index = 0\n",
    "for file in mono_dir:\n",
    "    file_path = os.path.join(mono_dir_path, file)\n",
    "    file_info = mediainfo(file_path)\n",
    "    print('File:', file_path, '|',\n",
    "          'Number of Channels:', file_info['channels'], '|',\n",
    "          'Sampling Rate:', file_info['sample_rate'], '|',\n",
    "          'Duration (secs):', utils.get_file_duration(file_path))\n",
    "    index += 1\n",
    "    if index == 10:\n",
    "        break"
   ]
  },
  {
   "cell_type": "markdown",
   "id": "3b5740fe-43b6-4de0-a481-3c6e1ed74060",
   "metadata": {},
   "source": [
    "### Channels and duration look good, and the native sampling rate was preserved. Perfect."
   ]
  },
  {
   "cell_type": "markdown",
   "id": "17947f0f-9d3d-4f68-b97a-d4f8102c0429",
   "metadata": {},
   "source": [
    "### Now to eliminate noise as much as possible from the mono files:"
   ]
  },
  {
   "cell_type": "markdown",
   "id": "abaf7da2-de6a-4b1e-b51d-7d32dfc64e7f",
   "metadata": {},
   "source": [
    "We'll use the 'noisereduce' package and see how that affects our data:"
   ]
  },
  {
   "cell_type": "markdown",
   "id": "d7671ac9-9c49-4000-af4a-6da0b179313a",
   "metadata": {},
   "source": [
    "noisereduce package information here:\n",
    "https://pypi.org/project/noisereduce/#:~:text=Noisereduce%20is%20a%20noise%20reduction,a%20form%20of%20Noise%20Gate.\n",
    "\n",
    "We'll be using the simplest implementation to start out with and we can try out different methods later on."
   ]
  },
  {
   "cell_type": "markdown",
   "id": "b30b73e4-bf27-418f-95e7-e3fa32bed7bc",
   "metadata": {},
   "source": [
    "@software{tim_sainburg_2019_3243139,\n",
    "  author       = {Tim Sainburg},\n",
    "  title        = {timsainb/noisereduce: v1.0},\n",
    "  month        = jun,\n",
    "  year         = 2019,\n",
    "  publisher    = {Zenodo},\n",
    "  version      = {db94fe2},\n",
    "  doi          = {10.5281/zenodo.3243139},\n",
    "  url          = {https://doi.org/10.5281/zenodo.3243139}\n",
    "}\n",
    "\n",
    "\n",
    "@article{sainburg2020finding,\n",
    "  title={Finding, visualizing, and quantifying latent structure across diverse animal vocal repertoires},\n",
    "  author={Sainburg, Tim and Thielk, Marvin and Gentner, Timothy Q},\n",
    "  journal={PLoS computational biology},\n",
    "  volume={16},\n",
    "  number={10},\n",
    "  pages={e1008228},\n",
    "  year={2020},\n",
    "  publisher={Public Library of Science}\n",
    "}"
   ]
  },
  {
   "cell_type": "code",
   "execution_count": 7,
   "id": "a432d96f-d953-492b-8b79-fe76332383e0",
   "metadata": {},
   "outputs": [
    {
     "name": "stdout",
     "output_type": "stream",
     "text": [
      "Collecting all files in ../voice_data/mono_channels matching regular expression [0-9]+\\_(?:L|R)\\.wav.\n",
      "\n",
      "Removing noise from the 62 files in ../voice_data/mono_channels\n",
      "11.29% done...\n",
      "20.97% done...\n",
      "30.65% done...\n",
      "40.32% done...\n",
      "50.0% done...\n",
      "61.29% done...\n",
      "70.97% done...\n",
      "80.65% done...\n",
      "90.32% done...\n",
      "100.0% done...\n",
      "Noise reduction complete.\n",
      "\n",
      "CPU times: user 4min 39s, sys: 22.9 s, total: 5min 1s\n",
      "Wall time: 5min 6s\n"
     ]
    }
   ],
   "source": [
    "%%time\n",
    "\n",
    "processing_funcs.reduce_noise(voice_dir_path = voice_dir)"
   ]
  },
  {
   "cell_type": "markdown",
   "id": "d957774a-4489-4636-a356-f5f11f5a20a2",
   "metadata": {},
   "source": [
    "### Now to remove silence from the audio files:\n",
    "Since most of the files were 30 minutes and they were all recorded with 2 speakers each on a separate channel, we should reduce the single channel voice files to just the timeframes that the individual is speaking."
   ]
  },
  {
   "cell_type": "code",
   "execution_count": 8,
   "id": "9ea4ff0f-5106-4313-a629-be1628f406f9",
   "metadata": {},
   "outputs": [
    {
     "name": "stdout",
     "output_type": "stream",
     "text": [
      "Creating directory at ../voice_data/mono_channels/silence_removed...\n",
      "\n",
      "../voice_data/mono_channels/silence_removed already exists.\n",
      "\n",
      "Collecting all files in ../voice_data/mono_channels matching regular expression [0-9]+\\_(?:L|R)\\.wav.\n",
      "\n",
      "Removing periods of silence from 62 files...\n",
      "\n",
      "11.29% done...\n",
      "20.97% done...\n",
      "30.65% done...\n",
      "40.32% done...\n",
      "50.0% done...\n",
      "61.29% done...\n",
      "70.97% done...\n",
      "80.65% done...\n",
      "90.32% done...\n",
      "100.0% done...\n",
      "Removing silence process complete.\n",
      "\n",
      "CPU times: user 40.9 s, sys: 4.18 s, total: 45.1 s\n",
      "Wall time: 46.4 s\n"
     ]
    }
   ],
   "source": [
    "%%time\n",
    "silence_dir_path = os.path.join(mono_dir_path, 'silence_removed')\n",
    "utils.make_dir(silence_dir_path)\n",
    "processing_funcs.remove_silence(mono_channel_dir = mono_dir_path)"
   ]
  }
 ],
 "metadata": {
  "kernelspec": {
   "display_name": "Python 3 (ipykernel)",
   "language": "python",
   "name": "python3"
  },
  "language_info": {
   "codemirror_mode": {
    "name": "ipython",
    "version": 3
   },
   "file_extension": ".py",
   "mimetype": "text/x-python",
   "name": "python",
   "nbconvert_exporter": "python",
   "pygments_lexer": "ipython3",
   "version": "3.9.7"
  }
 },
 "nbformat": 4,
 "nbformat_minor": 5
}
