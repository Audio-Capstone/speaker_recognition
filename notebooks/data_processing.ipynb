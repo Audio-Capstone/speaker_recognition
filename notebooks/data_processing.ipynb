{
 "cells": [
  {
   "cell_type": "markdown",
   "id": "f69bd6f2-a2a2-438d-8fc8-59906fbb6a0e",
   "metadata": {},
   "source": [
    "# Data Processing Notebook:"
   ]
  },
  {
   "cell_type": "code",
   "execution_count": 1,
   "id": "8220007d-fd83-481e-953d-9288579e049f",
   "metadata": {},
   "outputs": [],
   "source": [
    "import sys\n",
    "sys.path.append('../')\n",
    "\n",
    "from functions import processing_funcs, utils\n",
    "from pydub.utils import mediainfo"
   ]
  },
  {
   "cell_type": "markdown",
   "id": "846268b6-9bc0-4b0e-80d9-c0f712f4a89a",
   "metadata": {},
   "source": [
    "### Split stereo channels into mono:"
   ]
  },
  {
   "cell_type": "code",
   "execution_count": 2,
   "id": "27f8c0a7-f631-4689-8031-c34cb3576694",
   "metadata": {},
   "outputs": [
    {
     "name": "stdout",
     "output_type": "stream",
     "text": [
      "Collecting all files in ../voice_data/ matching regular expression [0-9]+\\.wav.\n",
      "\n",
      "Splitting file 1 of 31 at ../voice_data/4175.wav...\n",
      "\n",
      "Splitting file 2 of 31 at ../voice_data/4504.wav...\n",
      "\n",
      "Splitting file 3 of 31 at ../voice_data/4708.wav...\n",
      "\n",
      "Splitting file 4 of 31 at ../voice_data/4745.wav...\n",
      "\n",
      "Splitting file 5 of 31 at ../voice_data/4823.wav...\n",
      "\n",
      "Splitting file 6 of 31 at ../voice_data/4874.wav...\n",
      "\n",
      "Splitting file 7 of 31 at ../voice_data/4889.wav...\n",
      "\n",
      "Splitting file 8 of 31 at ../voice_data/4984.wav...\n",
      "\n",
      "Splitting file 9 of 31 at ../voice_data/5000.wav...\n",
      "\n",
      "Splitting file 10 of 31 at ../voice_data/5051.wav...\n",
      "\n",
      "Splitting file 11 of 31 at ../voice_data/5220.wav...\n",
      "\n",
      "Splitting file 12 of 31 at ../voice_data/5635.wav...\n",
      "\n",
      "Splitting file 13 of 31 at ../voice_data/5926.wav...\n",
      "\n",
      "Splitting file 14 of 31 at ../voice_data/6015.wav...\n",
      "\n",
      "Splitting file 15 of 31 at ../voice_data/6062.wav...\n",
      "\n",
      "Splitting file 16 of 31 at ../voice_data/6065.wav...\n",
      "\n",
      "Splitting file 17 of 31 at ../voice_data/6093.wav...\n",
      "\n",
      "Splitting file 18 of 31 at ../voice_data/6126.wav...\n",
      "\n",
      "Splitting file 19 of 31 at ../voice_data/6157.wav...\n",
      "\n",
      "Splitting file 20 of 31 at ../voice_data/6193.wav...\n",
      "\n",
      "Splitting file 21 of 31 at ../voice_data/6239.wav...\n",
      "\n",
      "Splitting file 22 of 31 at ../voice_data/6255.wav...\n",
      "\n",
      "Splitting file 23 of 31 at ../voice_data/6278.wav...\n",
      "\n",
      "Splitting file 24 of 31 at ../voice_data/6372.wav...\n",
      "\n",
      "Splitting file 25 of 31 at ../voice_data/6379.wav...\n",
      "\n",
      "Splitting file 26 of 31 at ../voice_data/6476.wav...\n",
      "\n",
      "Splitting file 27 of 31 at ../voice_data/6862.wav...\n",
      "\n",
      "Splitting file 28 of 31 at ../voice_data/6869.wav...\n",
      "\n",
      "Splitting file 29 of 31 at ../voice_data/6899.wav...\n",
      "\n",
      "Splitting file 30 of 31 at ../voice_data/6938.wav...\n",
      "\n",
      "Splitting file 31 of 31 at ../voice_data/6952.wav...\n",
      "\n",
      "Splitting complete.\n",
      "\n",
      "Wall time: 19.2 s\n"
     ]
    }
   ],
   "source": [
    "%%time\n",
    "\n",
    "processing_funcs.split_stereo_audio(voice_dir_path = '../voice_data/')"
   ]
  },
  {
   "cell_type": "markdown",
   "id": "3d098d33-4527-4964-b78a-327398d6ae38",
   "metadata": {},
   "source": [
    "### All of our stereo audio should now be split into mono channels:"
   ]
  },
  {
   "cell_type": "code",
   "execution_count": 3,
   "id": "82acf070-f4c1-4f59-821e-da1a0ef726fd",
   "metadata": {},
   "outputs": [
    {
     "name": "stdout",
     "output_type": "stream",
     "text": [
      "Collecting all files in ../voice_data/mono_channels/ matching regular expression [0-9]+\\_(?:L|R)\\.wav.\n",
      "\n",
      "Total number of mono files: 62 \n",
      "\n",
      "4175_L.wav\n",
      "4175_R.wav\n",
      "4504_L.wav\n",
      "4504_R.wav\n",
      "4708_L.wav\n",
      "4708_R.wav\n",
      "4745_L.wav\n",
      "4745_R.wav\n",
      "4823_L.wav\n",
      "4823_R.wav\n",
      "4874_L.wav\n",
      "4874_R.wav\n",
      "4889_L.wav\n",
      "4889_R.wav\n",
      "4984_L.wav\n",
      "4984_R.wav\n",
      "5000_L.wav\n",
      "5000_R.wav\n",
      "5051_L.wav\n",
      "5051_R.wav\n",
      "5220_L.wav\n",
      "5220_R.wav\n",
      "5635_L.wav\n",
      "5635_R.wav\n",
      "5926_L.wav\n",
      "5926_R.wav\n",
      "6015_L.wav\n",
      "6015_R.wav\n",
      "6062_L.wav\n",
      "6062_R.wav\n",
      "6065_L.wav\n",
      "6065_R.wav\n",
      "6093_L.wav\n",
      "6093_R.wav\n",
      "6126_L.wav\n",
      "6126_R.wav\n",
      "6157_L.wav\n",
      "6157_R.wav\n",
      "6193_L.wav\n",
      "6193_R.wav\n",
      "6239_L.wav\n",
      "6239_R.wav\n",
      "6255_L.wav\n",
      "6255_R.wav\n",
      "6278_L.wav\n",
      "6278_R.wav\n",
      "6372_L.wav\n",
      "6372_R.wav\n",
      "6379_L.wav\n",
      "6379_R.wav\n",
      "6476_L.wav\n",
      "6476_R.wav\n",
      "6862_L.wav\n",
      "6862_R.wav\n",
      "6869_L.wav\n",
      "6869_R.wav\n",
      "6899_L.wav\n",
      "6899_R.wav\n",
      "6938_L.wav\n",
      "6938_R.wav\n",
      "6952_L.wav\n",
      "6952_R.wav\n"
     ]
    }
   ],
   "source": [
    "mono_dir_path = '../voice_data/mono_channels/'\n",
    "mono_dir = utils.read_dir_files(dir_path = mono_dir_path,\n",
    "                                file_regex = r'[0-9]+\\_(?:L|R)\\.wav')\n",
    "\n",
    "print('Total number of mono files:', len(mono_dir), '\\n')\n",
    "\n",
    "for mono_file in mono_dir:\n",
    "    print(mono_file)"
   ]
  },
  {
   "cell_type": "markdown",
   "id": "4336acbc-1359-46ba-9bb5-7351567d90f1",
   "metadata": {},
   "source": [
    "### We now have 62 mono files: 2 * 31 original files. This makes sense!\n",
    "\n",
    "Now to check to make sure they look okay:"
   ]
  },
  {
   "cell_type": "code",
   "execution_count": 4,
   "id": "17c47085-5b48-40be-a139-374307928d8b",
   "metadata": {},
   "outputs": [
    {
     "name": "stdout",
     "output_type": "stream",
     "text": [
      "File: ../voice_data/mono_channels/4175_L.wav | Number of Channels: 1 | Sampling Rate: 8000 | Duration (mins): 30.0\n",
      "File: ../voice_data/mono_channels/4175_R.wav | Number of Channels: 1 | Sampling Rate: 8000 | Duration (mins): 30.0\n",
      "File: ../voice_data/mono_channels/4504_L.wav | Number of Channels: 1 | Sampling Rate: 8000 | Duration (mins): 7.85\n",
      "File: ../voice_data/mono_channels/4504_R.wav | Number of Channels: 1 | Sampling Rate: 8000 | Duration (mins): 7.85\n",
      "File: ../voice_data/mono_channels/4708_L.wav | Number of Channels: 1 | Sampling Rate: 8000 | Duration (mins): 30.0\n",
      "File: ../voice_data/mono_channels/4708_R.wav | Number of Channels: 1 | Sampling Rate: 8000 | Duration (mins): 30.0\n",
      "File: ../voice_data/mono_channels/4745_L.wav | Number of Channels: 1 | Sampling Rate: 8000 | Duration (mins): 23.76\n",
      "File: ../voice_data/mono_channels/4745_R.wav | Number of Channels: 1 | Sampling Rate: 8000 | Duration (mins): 23.76\n",
      "File: ../voice_data/mono_channels/4823_L.wav | Number of Channels: 1 | Sampling Rate: 8000 | Duration (mins): 30.0\n",
      "File: ../voice_data/mono_channels/4823_R.wav | Number of Channels: 1 | Sampling Rate: 8000 | Duration (mins): 30.0\n",
      "File: ../voice_data/mono_channels/4874_L.wav | Number of Channels: 1 | Sampling Rate: 8000 | Duration (mins): 30.0\n",
      "File: ../voice_data/mono_channels/4874_R.wav | Number of Channels: 1 | Sampling Rate: 8000 | Duration (mins): 30.0\n",
      "File: ../voice_data/mono_channels/4889_L.wav | Number of Channels: 1 | Sampling Rate: 8000 | Duration (mins): 25.32\n",
      "File: ../voice_data/mono_channels/4889_R.wav | Number of Channels: 1 | Sampling Rate: 8000 | Duration (mins): 25.32\n",
      "File: ../voice_data/mono_channels/4984_L.wav | Number of Channels: 1 | Sampling Rate: 8000 | Duration (mins): 30.0\n",
      "File: ../voice_data/mono_channels/4984_R.wav | Number of Channels: 1 | Sampling Rate: 8000 | Duration (mins): 30.0\n",
      "File: ../voice_data/mono_channels/5000_L.wav | Number of Channels: 1 | Sampling Rate: 8000 | Duration (mins): 30.0\n",
      "File: ../voice_data/mono_channels/5000_R.wav | Number of Channels: 1 | Sampling Rate: 8000 | Duration (mins): 30.0\n",
      "File: ../voice_data/mono_channels/5051_L.wav | Number of Channels: 1 | Sampling Rate: 8000 | Duration (mins): 26.33\n",
      "File: ../voice_data/mono_channels/5051_R.wav | Number of Channels: 1 | Sampling Rate: 8000 | Duration (mins): 26.33\n",
      "File: ../voice_data/mono_channels/5220_L.wav | Number of Channels: 1 | Sampling Rate: 8000 | Duration (mins): 30.0\n",
      "File: ../voice_data/mono_channels/5220_R.wav | Number of Channels: 1 | Sampling Rate: 8000 | Duration (mins): 30.0\n",
      "File: ../voice_data/mono_channels/5635_L.wav | Number of Channels: 1 | Sampling Rate: 8000 | Duration (mins): 30.0\n",
      "File: ../voice_data/mono_channels/5635_R.wav | Number of Channels: 1 | Sampling Rate: 8000 | Duration (mins): 30.0\n",
      "File: ../voice_data/mono_channels/5926_L.wav | Number of Channels: 1 | Sampling Rate: 8000 | Duration (mins): 30.0\n",
      "File: ../voice_data/mono_channels/5926_R.wav | Number of Channels: 1 | Sampling Rate: 8000 | Duration (mins): 30.0\n",
      "File: ../voice_data/mono_channels/6015_L.wav | Number of Channels: 1 | Sampling Rate: 8000 | Duration (mins): 30.0\n",
      "File: ../voice_data/mono_channels/6015_R.wav | Number of Channels: 1 | Sampling Rate: 8000 | Duration (mins): 30.0\n",
      "File: ../voice_data/mono_channels/6062_L.wav | Number of Channels: 1 | Sampling Rate: 8000 | Duration (mins): 30.0\n",
      "File: ../voice_data/mono_channels/6062_R.wav | Number of Channels: 1 | Sampling Rate: 8000 | Duration (mins): 30.0\n",
      "File: ../voice_data/mono_channels/6065_L.wav | Number of Channels: 1 | Sampling Rate: 8000 | Duration (mins): 30.0\n",
      "File: ../voice_data/mono_channels/6065_R.wav | Number of Channels: 1 | Sampling Rate: 8000 | Duration (mins): 30.0\n",
      "File: ../voice_data/mono_channels/6093_L.wav | Number of Channels: 1 | Sampling Rate: 8000 | Duration (mins): 24.29\n",
      "File: ../voice_data/mono_channels/6093_R.wav | Number of Channels: 1 | Sampling Rate: 8000 | Duration (mins): 24.29\n",
      "File: ../voice_data/mono_channels/6126_L.wav | Number of Channels: 1 | Sampling Rate: 8000 | Duration (mins): 30.0\n",
      "File: ../voice_data/mono_channels/6126_R.wav | Number of Channels: 1 | Sampling Rate: 8000 | Duration (mins): 30.0\n",
      "File: ../voice_data/mono_channels/6157_L.wav | Number of Channels: 1 | Sampling Rate: 8000 | Duration (mins): 30.0\n",
      "File: ../voice_data/mono_channels/6157_R.wav | Number of Channels: 1 | Sampling Rate: 8000 | Duration (mins): 30.0\n",
      "File: ../voice_data/mono_channels/6193_L.wav | Number of Channels: 1 | Sampling Rate: 8000 | Duration (mins): 30.0\n",
      "File: ../voice_data/mono_channels/6193_R.wav | Number of Channels: 1 | Sampling Rate: 8000 | Duration (mins): 30.0\n",
      "File: ../voice_data/mono_channels/6239_L.wav | Number of Channels: 1 | Sampling Rate: 8000 | Duration (mins): 30.0\n",
      "File: ../voice_data/mono_channels/6239_R.wav | Number of Channels: 1 | Sampling Rate: 8000 | Duration (mins): 30.0\n",
      "File: ../voice_data/mono_channels/6255_L.wav | Number of Channels: 1 | Sampling Rate: 8000 | Duration (mins): 30.0\n",
      "File: ../voice_data/mono_channels/6255_R.wav | Number of Channels: 1 | Sampling Rate: 8000 | Duration (mins): 30.0\n",
      "File: ../voice_data/mono_channels/6278_L.wav | Number of Channels: 1 | Sampling Rate: 8000 | Duration (mins): 8.74\n",
      "File: ../voice_data/mono_channels/6278_R.wav | Number of Channels: 1 | Sampling Rate: 8000 | Duration (mins): 8.74\n",
      "File: ../voice_data/mono_channels/6372_L.wav | Number of Channels: 1 | Sampling Rate: 8000 | Duration (mins): 30.0\n",
      "File: ../voice_data/mono_channels/6372_R.wav | Number of Channels: 1 | Sampling Rate: 8000 | Duration (mins): 30.0\n",
      "File: ../voice_data/mono_channels/6379_L.wav | Number of Channels: 1 | Sampling Rate: 8000 | Duration (mins): 30.0\n",
      "File: ../voice_data/mono_channels/6379_R.wav | Number of Channels: 1 | Sampling Rate: 8000 | Duration (mins): 30.0\n",
      "File: ../voice_data/mono_channels/6476_L.wav | Number of Channels: 1 | Sampling Rate: 8000 | Duration (mins): 30.0\n",
      "File: ../voice_data/mono_channels/6476_R.wav | Number of Channels: 1 | Sampling Rate: 8000 | Duration (mins): 30.0\n",
      "File: ../voice_data/mono_channels/6862_L.wav | Number of Channels: 1 | Sampling Rate: 8000 | Duration (mins): 18.1\n",
      "File: ../voice_data/mono_channels/6862_R.wav | Number of Channels: 1 | Sampling Rate: 8000 | Duration (mins): 18.1\n",
      "File: ../voice_data/mono_channels/6869_L.wav | Number of Channels: 1 | Sampling Rate: 8000 | Duration (mins): 10.17\n",
      "File: ../voice_data/mono_channels/6869_R.wav | Number of Channels: 1 | Sampling Rate: 8000 | Duration (mins): 10.17\n",
      "File: ../voice_data/mono_channels/6899_L.wav | Number of Channels: 1 | Sampling Rate: 8000 | Duration (mins): 30.0\n",
      "File: ../voice_data/mono_channels/6899_R.wav | Number of Channels: 1 | Sampling Rate: 8000 | Duration (mins): 30.0\n",
      "File: ../voice_data/mono_channels/6938_L.wav | Number of Channels: 1 | Sampling Rate: 8000 | Duration (mins): 30.0\n",
      "File: ../voice_data/mono_channels/6938_R.wav | Number of Channels: 1 | Sampling Rate: 8000 | Duration (mins): 30.0\n",
      "File: ../voice_data/mono_channels/6952_L.wav | Number of Channels: 1 | Sampling Rate: 8000 | Duration (mins): 30.0\n",
      "File: ../voice_data/mono_channels/6952_R.wav | Number of Channels: 1 | Sampling Rate: 8000 | Duration (mins): 30.0\n"
     ]
    }
   ],
   "source": [
    "for file in mono_dir:\n",
    "    file_path = mono_dir_path + file\n",
    "    file_info = mediainfo(file_path)\n",
    "    print('File:', file_path, '|',\n",
    "          'Number of Channels:', file_info['channels'], '|',\n",
    "          'Sampling Rate:', file_info['sample_rate'], '|',\n",
    "          'Duration (mins):', utils.get_file_duration(file_path))"
   ]
  },
  {
   "cell_type": "markdown",
   "id": "3b5740fe-43b6-4de0-a481-3c6e1ed74060",
   "metadata": {},
   "source": [
    "### Channels and duration look good, and the native sampling rate was preserved. Perfect."
   ]
  },
  {
   "cell_type": "markdown",
   "id": "17947f0f-9d3d-4f68-b97a-d4f8102c0429",
   "metadata": {},
   "source": [
    "### Now to eliminate noise as much as possible from the mono files:"
   ]
  },
  {
   "cell_type": "markdown",
   "id": "abaf7da2-de6a-4b1e-b51d-7d32dfc64e7f",
   "metadata": {},
   "source": [
    "We'll use the 'noisereduce' package and see how that affects our data:"
   ]
  },
  {
   "cell_type": "markdown",
   "id": "d7671ac9-9c49-4000-af4a-6da0b179313a",
   "metadata": {},
   "source": [
    "noisereduce package information here:\n",
    "https://pypi.org/project/noisereduce/#:~:text=Noisereduce%20is%20a%20noise%20reduction,a%20form%20of%20Noise%20Gate.\n",
    "\n",
    "We'll be using the simplest implementation to start out with and we can try out different methods later on."
   ]
  },
  {
   "cell_type": "markdown",
   "id": "b30b73e4-bf27-418f-95e7-e3fa32bed7bc",
   "metadata": {},
   "source": [
    "@software{tim_sainburg_2019_3243139,\n",
    "  author       = {Tim Sainburg},\n",
    "  title        = {timsainb/noisereduce: v1.0},\n",
    "  month        = jun,\n",
    "  year         = 2019,\n",
    "  publisher    = {Zenodo},\n",
    "  version      = {db94fe2},\n",
    "  doi          = {10.5281/zenodo.3243139},\n",
    "  url          = {https://doi.org/10.5281/zenodo.3243139}\n",
    "}\n",
    "\n",
    "\n",
    "@article{sainburg2020finding,\n",
    "  title={Finding, visualizing, and quantifying latent structure across diverse animal vocal repertoires},\n",
    "  author={Sainburg, Tim and Thielk, Marvin and Gentner, Timothy Q},\n",
    "  journal={PLoS computational biology},\n",
    "  volume={16},\n",
    "  number={10},\n",
    "  pages={e1008228},\n",
    "  year={2020},\n",
    "  publisher={Public Library of Science}\n",
    "}"
   ]
  },
  {
   "cell_type": "code",
   "execution_count": 5,
   "id": "a432d96f-d953-492b-8b79-fe76332383e0",
   "metadata": {},
   "outputs": [
    {
     "name": "stdout",
     "output_type": "stream",
     "text": [
      "Collecting all files in ../voice_data//mono_channels/ matching regular expression [0-9]+\\_(?:L|R)\\.wav.\n",
      "\n",
      "Removing noise from file 1 of 62 at ../voice_data//mono_channels/4175_L.wav...\n",
      "\n"
     ]
    },
    {
     "data": {
      "application/vnd.jupyter.widget-view+json": {
       "model_id": "2e59a15f8d6e4f679a92fe0f4ad4729b",
       "version_major": 2,
       "version_minor": 0
      },
      "text/plain": [
       "  0%|          | 0/24 [00:00<?, ?it/s]"
      ]
     },
     "metadata": {},
     "output_type": "display_data"
    },
    {
     "name": "stdout",
     "output_type": "stream",
     "text": [
      "Removing noise from file 2 of 62 at ../voice_data//mono_channels/4175_R.wav...\n",
      "\n"
     ]
    },
    {
     "data": {
      "application/vnd.jupyter.widget-view+json": {
       "model_id": "5a17889c786b423486d3d73a36b53204",
       "version_major": 2,
       "version_minor": 0
      },
      "text/plain": [
       "  0%|          | 0/24 [00:00<?, ?it/s]"
      ]
     },
     "metadata": {},
     "output_type": "display_data"
    },
    {
     "name": "stdout",
     "output_type": "stream",
     "text": [
      "Removing noise from file 3 of 62 at ../voice_data//mono_channels/4504_L.wav...\n",
      "\n"
     ]
    },
    {
     "data": {
      "application/vnd.jupyter.widget-view+json": {
       "model_id": "cb8c3570d95346d0bd542e43c99fa0b8",
       "version_major": 2,
       "version_minor": 0
      },
      "text/plain": [
       "  0%|          | 0/7 [00:00<?, ?it/s]"
      ]
     },
     "metadata": {},
     "output_type": "display_data"
    },
    {
     "name": "stdout",
     "output_type": "stream",
     "text": [
      "Removing noise from file 4 of 62 at ../voice_data//mono_channels/4504_R.wav...\n",
      "\n"
     ]
    },
    {
     "data": {
      "application/vnd.jupyter.widget-view+json": {
       "model_id": "d62c678ce2294f3aa0da8437e8771b17",
       "version_major": 2,
       "version_minor": 0
      },
      "text/plain": [
       "  0%|          | 0/7 [00:00<?, ?it/s]"
      ]
     },
     "metadata": {},
     "output_type": "display_data"
    },
    {
     "name": "stdout",
     "output_type": "stream",
     "text": [
      "Removing noise from file 5 of 62 at ../voice_data//mono_channels/4708_L.wav...\n",
      "\n"
     ]
    },
    {
     "data": {
      "application/vnd.jupyter.widget-view+json": {
       "model_id": "ddcf293cfa9349beb95f83a29babfb74",
       "version_major": 2,
       "version_minor": 0
      },
      "text/plain": [
       "  0%|          | 0/24 [00:00<?, ?it/s]"
      ]
     },
     "metadata": {},
     "output_type": "display_data"
    },
    {
     "name": "stdout",
     "output_type": "stream",
     "text": [
      "Removing noise from file 6 of 62 at ../voice_data//mono_channels/4708_R.wav...\n",
      "\n"
     ]
    },
    {
     "data": {
      "application/vnd.jupyter.widget-view+json": {
       "model_id": "f54846759ea04321a2f4fda1c190830d",
       "version_major": 2,
       "version_minor": 0
      },
      "text/plain": [
       "  0%|          | 0/24 [00:00<?, ?it/s]"
      ]
     },
     "metadata": {},
     "output_type": "display_data"
    },
    {
     "name": "stdout",
     "output_type": "stream",
     "text": [
      "Removing noise from file 7 of 62 at ../voice_data//mono_channels/4745_L.wav...\n",
      "\n"
     ]
    },
    {
     "data": {
      "application/vnd.jupyter.widget-view+json": {
       "model_id": "045515635c08411fbdfa61efffdfb91e",
       "version_major": 2,
       "version_minor": 0
      },
      "text/plain": [
       "  0%|          | 0/20 [00:00<?, ?it/s]"
      ]
     },
     "metadata": {},
     "output_type": "display_data"
    },
    {
     "name": "stdout",
     "output_type": "stream",
     "text": [
      "Removing noise from file 8 of 62 at ../voice_data//mono_channels/4745_R.wav...\n",
      "\n"
     ]
    },
    {
     "data": {
      "application/vnd.jupyter.widget-view+json": {
       "model_id": "99056a670f984c7da1c9fff387fc069e",
       "version_major": 2,
       "version_minor": 0
      },
      "text/plain": [
       "  0%|          | 0/20 [00:00<?, ?it/s]"
      ]
     },
     "metadata": {},
     "output_type": "display_data"
    },
    {
     "name": "stdout",
     "output_type": "stream",
     "text": [
      "Removing noise from file 9 of 62 at ../voice_data//mono_channels/4823_L.wav...\n",
      "\n"
     ]
    },
    {
     "data": {
      "application/vnd.jupyter.widget-view+json": {
       "model_id": "0a2ce0310886466f9163d2cdcdf1e643",
       "version_major": 2,
       "version_minor": 0
      },
      "text/plain": [
       "  0%|          | 0/24 [00:00<?, ?it/s]"
      ]
     },
     "metadata": {},
     "output_type": "display_data"
    },
    {
     "name": "stdout",
     "output_type": "stream",
     "text": [
      "Removing noise from file 10 of 62 at ../voice_data//mono_channels/4823_R.wav...\n",
      "\n"
     ]
    },
    {
     "data": {
      "application/vnd.jupyter.widget-view+json": {
       "model_id": "55a8568575a045b6a2dab603a5da5994",
       "version_major": 2,
       "version_minor": 0
      },
      "text/plain": [
       "  0%|          | 0/24 [00:00<?, ?it/s]"
      ]
     },
     "metadata": {},
     "output_type": "display_data"
    },
    {
     "name": "stdout",
     "output_type": "stream",
     "text": [
      "Removing noise from file 11 of 62 at ../voice_data//mono_channels/4874_L.wav...\n",
      "\n"
     ]
    },
    {
     "data": {
      "application/vnd.jupyter.widget-view+json": {
       "model_id": "621d71a34eb540159138c7f0f1ebd558",
       "version_major": 2,
       "version_minor": 0
      },
      "text/plain": [
       "  0%|          | 0/24 [00:00<?, ?it/s]"
      ]
     },
     "metadata": {},
     "output_type": "display_data"
    },
    {
     "name": "stdout",
     "output_type": "stream",
     "text": [
      "Removing noise from file 12 of 62 at ../voice_data//mono_channels/4874_R.wav...\n",
      "\n"
     ]
    },
    {
     "data": {
      "application/vnd.jupyter.widget-view+json": {
       "model_id": "9d3c6ec1fd464fcfa0d4983161f83198",
       "version_major": 2,
       "version_minor": 0
      },
      "text/plain": [
       "  0%|          | 0/24 [00:00<?, ?it/s]"
      ]
     },
     "metadata": {},
     "output_type": "display_data"
    },
    {
     "name": "stdout",
     "output_type": "stream",
     "text": [
      "Removing noise from file 13 of 62 at ../voice_data//mono_channels/4889_L.wav...\n",
      "\n"
     ]
    },
    {
     "data": {
      "application/vnd.jupyter.widget-view+json": {
       "model_id": "d55ae11f332a4572b299603adab011a6",
       "version_major": 2,
       "version_minor": 0
      },
      "text/plain": [
       "  0%|          | 0/21 [00:00<?, ?it/s]"
      ]
     },
     "metadata": {},
     "output_type": "display_data"
    },
    {
     "name": "stdout",
     "output_type": "stream",
     "text": [
      "Removing noise from file 14 of 62 at ../voice_data//mono_channels/4889_R.wav...\n",
      "\n"
     ]
    },
    {
     "data": {
      "application/vnd.jupyter.widget-view+json": {
       "model_id": "53dd5ec630fb43f0ade335c766655457",
       "version_major": 2,
       "version_minor": 0
      },
      "text/plain": [
       "  0%|          | 0/21 [00:00<?, ?it/s]"
      ]
     },
     "metadata": {},
     "output_type": "display_data"
    },
    {
     "name": "stdout",
     "output_type": "stream",
     "text": [
      "Removing noise from file 15 of 62 at ../voice_data//mono_channels/4984_L.wav...\n",
      "\n"
     ]
    },
    {
     "data": {
      "application/vnd.jupyter.widget-view+json": {
       "model_id": "f592687ecc634d58bce913e4ccf384e3",
       "version_major": 2,
       "version_minor": 0
      },
      "text/plain": [
       "  0%|          | 0/24 [00:00<?, ?it/s]"
      ]
     },
     "metadata": {},
     "output_type": "display_data"
    },
    {
     "name": "stdout",
     "output_type": "stream",
     "text": [
      "Removing noise from file 16 of 62 at ../voice_data//mono_channels/4984_R.wav...\n",
      "\n"
     ]
    },
    {
     "data": {
      "application/vnd.jupyter.widget-view+json": {
       "model_id": "086db1fa7ba248c1b04f0e180a2cae05",
       "version_major": 2,
       "version_minor": 0
      },
      "text/plain": [
       "  0%|          | 0/24 [00:00<?, ?it/s]"
      ]
     },
     "metadata": {},
     "output_type": "display_data"
    },
    {
     "name": "stdout",
     "output_type": "stream",
     "text": [
      "Removing noise from file 17 of 62 at ../voice_data//mono_channels/5000_L.wav...\n",
      "\n"
     ]
    },
    {
     "data": {
      "application/vnd.jupyter.widget-view+json": {
       "model_id": "9444bec13c124c6bbcedb864fe1506ba",
       "version_major": 2,
       "version_minor": 0
      },
      "text/plain": [
       "  0%|          | 0/24 [00:00<?, ?it/s]"
      ]
     },
     "metadata": {},
     "output_type": "display_data"
    },
    {
     "name": "stdout",
     "output_type": "stream",
     "text": [
      "Removing noise from file 18 of 62 at ../voice_data//mono_channels/5000_R.wav...\n",
      "\n"
     ]
    },
    {
     "data": {
      "application/vnd.jupyter.widget-view+json": {
       "model_id": "9bf9362056834860843cb1e2a3d74789",
       "version_major": 2,
       "version_minor": 0
      },
      "text/plain": [
       "  0%|          | 0/24 [00:00<?, ?it/s]"
      ]
     },
     "metadata": {},
     "output_type": "display_data"
    },
    {
     "name": "stdout",
     "output_type": "stream",
     "text": [
      "Removing noise from file 19 of 62 at ../voice_data//mono_channels/5051_L.wav...\n",
      "\n"
     ]
    },
    {
     "data": {
      "application/vnd.jupyter.widget-view+json": {
       "model_id": "7960b8658e9647358a7104e7a0b0f21c",
       "version_major": 2,
       "version_minor": 0
      },
      "text/plain": [
       "  0%|          | 0/22 [00:00<?, ?it/s]"
      ]
     },
     "metadata": {},
     "output_type": "display_data"
    },
    {
     "name": "stdout",
     "output_type": "stream",
     "text": [
      "Removing noise from file 20 of 62 at ../voice_data//mono_channels/5051_R.wav...\n",
      "\n"
     ]
    },
    {
     "data": {
      "application/vnd.jupyter.widget-view+json": {
       "model_id": "83ddf08021cc4ef3b4ab4c0990bc494e",
       "version_major": 2,
       "version_minor": 0
      },
      "text/plain": [
       "  0%|          | 0/22 [00:00<?, ?it/s]"
      ]
     },
     "metadata": {},
     "output_type": "display_data"
    },
    {
     "name": "stdout",
     "output_type": "stream",
     "text": [
      "Removing noise from file 21 of 62 at ../voice_data//mono_channels/5220_L.wav...\n",
      "\n"
     ]
    },
    {
     "data": {
      "application/vnd.jupyter.widget-view+json": {
       "model_id": "cf72ad294d7648988e5055cfe27d19ee",
       "version_major": 2,
       "version_minor": 0
      },
      "text/plain": [
       "  0%|          | 0/24 [00:00<?, ?it/s]"
      ]
     },
     "metadata": {},
     "output_type": "display_data"
    },
    {
     "name": "stdout",
     "output_type": "stream",
     "text": [
      "Removing noise from file 22 of 62 at ../voice_data//mono_channels/5220_R.wav...\n",
      "\n"
     ]
    },
    {
     "data": {
      "application/vnd.jupyter.widget-view+json": {
       "model_id": "b2cdb5c79a854365b36ff3ef8ede6476",
       "version_major": 2,
       "version_minor": 0
      },
      "text/plain": [
       "  0%|          | 0/24 [00:00<?, ?it/s]"
      ]
     },
     "metadata": {},
     "output_type": "display_data"
    },
    {
     "name": "stdout",
     "output_type": "stream",
     "text": [
      "Removing noise from file 23 of 62 at ../voice_data//mono_channels/5635_L.wav...\n",
      "\n"
     ]
    },
    {
     "data": {
      "application/vnd.jupyter.widget-view+json": {
       "model_id": "1f4726569e0c4928977de4ee46a07c32",
       "version_major": 2,
       "version_minor": 0
      },
      "text/plain": [
       "  0%|          | 0/24 [00:00<?, ?it/s]"
      ]
     },
     "metadata": {},
     "output_type": "display_data"
    },
    {
     "name": "stdout",
     "output_type": "stream",
     "text": [
      "Removing noise from file 24 of 62 at ../voice_data//mono_channels/5635_R.wav...\n",
      "\n"
     ]
    },
    {
     "data": {
      "application/vnd.jupyter.widget-view+json": {
       "model_id": "3692da68759844af86e88551d7f2de88",
       "version_major": 2,
       "version_minor": 0
      },
      "text/plain": [
       "  0%|          | 0/24 [00:00<?, ?it/s]"
      ]
     },
     "metadata": {},
     "output_type": "display_data"
    },
    {
     "name": "stdout",
     "output_type": "stream",
     "text": [
      "Removing noise from file 25 of 62 at ../voice_data//mono_channels/5926_L.wav...\n",
      "\n"
     ]
    },
    {
     "data": {
      "application/vnd.jupyter.widget-view+json": {
       "model_id": "9e034126170047c387f1ff5aac01807a",
       "version_major": 2,
       "version_minor": 0
      },
      "text/plain": [
       "  0%|          | 0/24 [00:00<?, ?it/s]"
      ]
     },
     "metadata": {},
     "output_type": "display_data"
    },
    {
     "name": "stdout",
     "output_type": "stream",
     "text": [
      "Removing noise from file 26 of 62 at ../voice_data//mono_channels/5926_R.wav...\n",
      "\n"
     ]
    },
    {
     "data": {
      "application/vnd.jupyter.widget-view+json": {
       "model_id": "13e40cafc06f49ffa18c9c264613bd9b",
       "version_major": 2,
       "version_minor": 0
      },
      "text/plain": [
       "  0%|          | 0/24 [00:00<?, ?it/s]"
      ]
     },
     "metadata": {},
     "output_type": "display_data"
    },
    {
     "name": "stdout",
     "output_type": "stream",
     "text": [
      "Removing noise from file 27 of 62 at ../voice_data//mono_channels/6015_L.wav...\n",
      "\n"
     ]
    },
    {
     "data": {
      "application/vnd.jupyter.widget-view+json": {
       "model_id": "f52cbf9a89474235b1464c7dc76a3fae",
       "version_major": 2,
       "version_minor": 0
      },
      "text/plain": [
       "  0%|          | 0/24 [00:00<?, ?it/s]"
      ]
     },
     "metadata": {},
     "output_type": "display_data"
    },
    {
     "name": "stdout",
     "output_type": "stream",
     "text": [
      "Removing noise from file 28 of 62 at ../voice_data//mono_channels/6015_R.wav...\n",
      "\n"
     ]
    },
    {
     "data": {
      "application/vnd.jupyter.widget-view+json": {
       "model_id": "922d52efc22c422c854b1140a90dc4da",
       "version_major": 2,
       "version_minor": 0
      },
      "text/plain": [
       "  0%|          | 0/24 [00:00<?, ?it/s]"
      ]
     },
     "metadata": {},
     "output_type": "display_data"
    },
    {
     "name": "stdout",
     "output_type": "stream",
     "text": [
      "Removing noise from file 29 of 62 at ../voice_data//mono_channels/6062_L.wav...\n",
      "\n"
     ]
    },
    {
     "data": {
      "application/vnd.jupyter.widget-view+json": {
       "model_id": "83374afc4f5547d58b4317609f0e23a1",
       "version_major": 2,
       "version_minor": 0
      },
      "text/plain": [
       "  0%|          | 0/24 [00:00<?, ?it/s]"
      ]
     },
     "metadata": {},
     "output_type": "display_data"
    },
    {
     "name": "stdout",
     "output_type": "stream",
     "text": [
      "Removing noise from file 30 of 62 at ../voice_data//mono_channels/6062_R.wav...\n",
      "\n"
     ]
    },
    {
     "data": {
      "application/vnd.jupyter.widget-view+json": {
       "model_id": "9f5c85cff75149b2932f8803b023f9db",
       "version_major": 2,
       "version_minor": 0
      },
      "text/plain": [
       "  0%|          | 0/24 [00:00<?, ?it/s]"
      ]
     },
     "metadata": {},
     "output_type": "display_data"
    },
    {
     "name": "stdout",
     "output_type": "stream",
     "text": [
      "Removing noise from file 31 of 62 at ../voice_data//mono_channels/6065_L.wav...\n",
      "\n"
     ]
    },
    {
     "data": {
      "application/vnd.jupyter.widget-view+json": {
       "model_id": "195b09805c4f431bbdb82a826c4f4e1c",
       "version_major": 2,
       "version_minor": 0
      },
      "text/plain": [
       "  0%|          | 0/24 [00:00<?, ?it/s]"
      ]
     },
     "metadata": {},
     "output_type": "display_data"
    },
    {
     "name": "stdout",
     "output_type": "stream",
     "text": [
      "Removing noise from file 32 of 62 at ../voice_data//mono_channels/6065_R.wav...\n",
      "\n"
     ]
    },
    {
     "data": {
      "application/vnd.jupyter.widget-view+json": {
       "model_id": "316ace9c79024b79bde1543b5c69e9f7",
       "version_major": 2,
       "version_minor": 0
      },
      "text/plain": [
       "  0%|          | 0/24 [00:00<?, ?it/s]"
      ]
     },
     "metadata": {},
     "output_type": "display_data"
    },
    {
     "name": "stdout",
     "output_type": "stream",
     "text": [
      "Removing noise from file 33 of 62 at ../voice_data//mono_channels/6093_L.wav...\n",
      "\n"
     ]
    },
    {
     "data": {
      "application/vnd.jupyter.widget-view+json": {
       "model_id": "9cc59f6329c949b990d61d81e093c055",
       "version_major": 2,
       "version_minor": 0
      },
      "text/plain": [
       "  0%|          | 0/20 [00:00<?, ?it/s]"
      ]
     },
     "metadata": {},
     "output_type": "display_data"
    },
    {
     "name": "stdout",
     "output_type": "stream",
     "text": [
      "Removing noise from file 34 of 62 at ../voice_data//mono_channels/6093_R.wav...\n",
      "\n"
     ]
    },
    {
     "data": {
      "application/vnd.jupyter.widget-view+json": {
       "model_id": "217171ed93d649d4a0dbef091d68bda1",
       "version_major": 2,
       "version_minor": 0
      },
      "text/plain": [
       "  0%|          | 0/20 [00:00<?, ?it/s]"
      ]
     },
     "metadata": {},
     "output_type": "display_data"
    },
    {
     "name": "stdout",
     "output_type": "stream",
     "text": [
      "Removing noise from file 35 of 62 at ../voice_data//mono_channels/6126_L.wav...\n",
      "\n"
     ]
    },
    {
     "data": {
      "application/vnd.jupyter.widget-view+json": {
       "model_id": "b9f09e2cd12b4d44a6099b4f139d84c3",
       "version_major": 2,
       "version_minor": 0
      },
      "text/plain": [
       "  0%|          | 0/24 [00:00<?, ?it/s]"
      ]
     },
     "metadata": {},
     "output_type": "display_data"
    },
    {
     "name": "stdout",
     "output_type": "stream",
     "text": [
      "Removing noise from file 36 of 62 at ../voice_data//mono_channels/6126_R.wav...\n",
      "\n"
     ]
    },
    {
     "data": {
      "application/vnd.jupyter.widget-view+json": {
       "model_id": "9a2f8b644bcb431bbe898e3c107de8f5",
       "version_major": 2,
       "version_minor": 0
      },
      "text/plain": [
       "  0%|          | 0/24 [00:00<?, ?it/s]"
      ]
     },
     "metadata": {},
     "output_type": "display_data"
    },
    {
     "name": "stdout",
     "output_type": "stream",
     "text": [
      "Removing noise from file 37 of 62 at ../voice_data//mono_channels/6157_L.wav...\n",
      "\n"
     ]
    },
    {
     "data": {
      "application/vnd.jupyter.widget-view+json": {
       "model_id": "e5cbb304a6b143df8c6566e041ad418a",
       "version_major": 2,
       "version_minor": 0
      },
      "text/plain": [
       "  0%|          | 0/24 [00:00<?, ?it/s]"
      ]
     },
     "metadata": {},
     "output_type": "display_data"
    },
    {
     "name": "stdout",
     "output_type": "stream",
     "text": [
      "Removing noise from file 38 of 62 at ../voice_data//mono_channels/6157_R.wav...\n",
      "\n"
     ]
    },
    {
     "data": {
      "application/vnd.jupyter.widget-view+json": {
       "model_id": "b426f7dd32624b61a64b054ab59ba925",
       "version_major": 2,
       "version_minor": 0
      },
      "text/plain": [
       "  0%|          | 0/24 [00:00<?, ?it/s]"
      ]
     },
     "metadata": {},
     "output_type": "display_data"
    },
    {
     "name": "stdout",
     "output_type": "stream",
     "text": [
      "Removing noise from file 39 of 62 at ../voice_data//mono_channels/6193_L.wav...\n",
      "\n"
     ]
    },
    {
     "data": {
      "application/vnd.jupyter.widget-view+json": {
       "model_id": "09688a5304eb4a5d88397feac4171c47",
       "version_major": 2,
       "version_minor": 0
      },
      "text/plain": [
       "  0%|          | 0/24 [00:00<?, ?it/s]"
      ]
     },
     "metadata": {},
     "output_type": "display_data"
    },
    {
     "name": "stdout",
     "output_type": "stream",
     "text": [
      "Removing noise from file 40 of 62 at ../voice_data//mono_channels/6193_R.wav...\n",
      "\n"
     ]
    },
    {
     "data": {
      "application/vnd.jupyter.widget-view+json": {
       "model_id": "f7b8830fa28b4a59b7e08fd29135ac65",
       "version_major": 2,
       "version_minor": 0
      },
      "text/plain": [
       "  0%|          | 0/24 [00:00<?, ?it/s]"
      ]
     },
     "metadata": {},
     "output_type": "display_data"
    },
    {
     "name": "stdout",
     "output_type": "stream",
     "text": [
      "Removing noise from file 41 of 62 at ../voice_data//mono_channels/6239_L.wav...\n",
      "\n"
     ]
    },
    {
     "data": {
      "application/vnd.jupyter.widget-view+json": {
       "model_id": "80a4e1fd4b2d49689347ba64f8bff3f5",
       "version_major": 2,
       "version_minor": 0
      },
      "text/plain": [
       "  0%|          | 0/24 [00:00<?, ?it/s]"
      ]
     },
     "metadata": {},
     "output_type": "display_data"
    },
    {
     "name": "stdout",
     "output_type": "stream",
     "text": [
      "Removing noise from file 42 of 62 at ../voice_data//mono_channels/6239_R.wav...\n",
      "\n"
     ]
    },
    {
     "data": {
      "application/vnd.jupyter.widget-view+json": {
       "model_id": "1afd7cd0cbfd4d1ba2347110290fd82a",
       "version_major": 2,
       "version_minor": 0
      },
      "text/plain": [
       "  0%|          | 0/24 [00:00<?, ?it/s]"
      ]
     },
     "metadata": {},
     "output_type": "display_data"
    },
    {
     "name": "stdout",
     "output_type": "stream",
     "text": [
      "Removing noise from file 43 of 62 at ../voice_data//mono_channels/6255_L.wav...\n",
      "\n"
     ]
    },
    {
     "data": {
      "application/vnd.jupyter.widget-view+json": {
       "model_id": "863c92beb2a9471d8569be5f3483720e",
       "version_major": 2,
       "version_minor": 0
      },
      "text/plain": [
       "  0%|          | 0/24 [00:00<?, ?it/s]"
      ]
     },
     "metadata": {},
     "output_type": "display_data"
    },
    {
     "name": "stdout",
     "output_type": "stream",
     "text": [
      "Removing noise from file 44 of 62 at ../voice_data//mono_channels/6255_R.wav...\n",
      "\n"
     ]
    },
    {
     "data": {
      "application/vnd.jupyter.widget-view+json": {
       "model_id": "267d332d6c2e469f998fbf60fa4eb37e",
       "version_major": 2,
       "version_minor": 0
      },
      "text/plain": [
       "  0%|          | 0/24 [00:00<?, ?it/s]"
      ]
     },
     "metadata": {},
     "output_type": "display_data"
    },
    {
     "name": "stdout",
     "output_type": "stream",
     "text": [
      "Removing noise from file 45 of 62 at ../voice_data//mono_channels/6278_L.wav...\n",
      "\n"
     ]
    },
    {
     "data": {
      "application/vnd.jupyter.widget-view+json": {
       "model_id": "9b3a57ce382649c8be2081facf51cc66",
       "version_major": 2,
       "version_minor": 0
      },
      "text/plain": [
       "  0%|          | 0/7 [00:00<?, ?it/s]"
      ]
     },
     "metadata": {},
     "output_type": "display_data"
    },
    {
     "name": "stdout",
     "output_type": "stream",
     "text": [
      "Removing noise from file 46 of 62 at ../voice_data//mono_channels/6278_R.wav...\n",
      "\n"
     ]
    },
    {
     "data": {
      "application/vnd.jupyter.widget-view+json": {
       "model_id": "05def410ba504485b8120bb6ecf8983a",
       "version_major": 2,
       "version_minor": 0
      },
      "text/plain": [
       "  0%|          | 0/7 [00:00<?, ?it/s]"
      ]
     },
     "metadata": {},
     "output_type": "display_data"
    },
    {
     "name": "stdout",
     "output_type": "stream",
     "text": [
      "Removing noise from file 47 of 62 at ../voice_data//mono_channels/6372_L.wav...\n",
      "\n"
     ]
    },
    {
     "data": {
      "application/vnd.jupyter.widget-view+json": {
       "model_id": "30fb9b2217014f30a7e6c0d180112974",
       "version_major": 2,
       "version_minor": 0
      },
      "text/plain": [
       "  0%|          | 0/24 [00:00<?, ?it/s]"
      ]
     },
     "metadata": {},
     "output_type": "display_data"
    },
    {
     "name": "stdout",
     "output_type": "stream",
     "text": [
      "Removing noise from file 48 of 62 at ../voice_data//mono_channels/6372_R.wav...\n",
      "\n"
     ]
    },
    {
     "data": {
      "application/vnd.jupyter.widget-view+json": {
       "model_id": "7dbf6f3780b64178855cd66b6608c89b",
       "version_major": 2,
       "version_minor": 0
      },
      "text/plain": [
       "  0%|          | 0/24 [00:00<?, ?it/s]"
      ]
     },
     "metadata": {},
     "output_type": "display_data"
    },
    {
     "name": "stdout",
     "output_type": "stream",
     "text": [
      "Removing noise from file 49 of 62 at ../voice_data//mono_channels/6379_L.wav...\n",
      "\n"
     ]
    },
    {
     "data": {
      "application/vnd.jupyter.widget-view+json": {
       "model_id": "0a15f77349134611b75fe64e93fba7a8",
       "version_major": 2,
       "version_minor": 0
      },
      "text/plain": [
       "  0%|          | 0/24 [00:00<?, ?it/s]"
      ]
     },
     "metadata": {},
     "output_type": "display_data"
    },
    {
     "name": "stdout",
     "output_type": "stream",
     "text": [
      "Removing noise from file 50 of 62 at ../voice_data//mono_channels/6379_R.wav...\n",
      "\n"
     ]
    },
    {
     "data": {
      "application/vnd.jupyter.widget-view+json": {
       "model_id": "4463e9f1580c428f84f09b89059f0dfd",
       "version_major": 2,
       "version_minor": 0
      },
      "text/plain": [
       "  0%|          | 0/24 [00:00<?, ?it/s]"
      ]
     },
     "metadata": {},
     "output_type": "display_data"
    },
    {
     "name": "stdout",
     "output_type": "stream",
     "text": [
      "Removing noise from file 51 of 62 at ../voice_data//mono_channels/6476_L.wav...\n",
      "\n"
     ]
    },
    {
     "data": {
      "application/vnd.jupyter.widget-view+json": {
       "model_id": "d7a41243ef434459b1a6ca01c83487cb",
       "version_major": 2,
       "version_minor": 0
      },
      "text/plain": [
       "  0%|          | 0/24 [00:00<?, ?it/s]"
      ]
     },
     "metadata": {},
     "output_type": "display_data"
    },
    {
     "name": "stdout",
     "output_type": "stream",
     "text": [
      "Removing noise from file 52 of 62 at ../voice_data//mono_channels/6476_R.wav...\n",
      "\n"
     ]
    },
    {
     "data": {
      "application/vnd.jupyter.widget-view+json": {
       "model_id": "658f825c07d04e0088c003d51c97eee4",
       "version_major": 2,
       "version_minor": 0
      },
      "text/plain": [
       "  0%|          | 0/24 [00:00<?, ?it/s]"
      ]
     },
     "metadata": {},
     "output_type": "display_data"
    },
    {
     "name": "stdout",
     "output_type": "stream",
     "text": [
      "Removing noise from file 53 of 62 at ../voice_data//mono_channels/6862_L.wav...\n",
      "\n"
     ]
    },
    {
     "data": {
      "application/vnd.jupyter.widget-view+json": {
       "model_id": "764940577e3f4eac9c1a9b77f7cd5f42",
       "version_major": 2,
       "version_minor": 0
      },
      "text/plain": [
       "  0%|          | 0/15 [00:00<?, ?it/s]"
      ]
     },
     "metadata": {},
     "output_type": "display_data"
    },
    {
     "name": "stdout",
     "output_type": "stream",
     "text": [
      "Removing noise from file 54 of 62 at ../voice_data//mono_channels/6862_R.wav...\n",
      "\n"
     ]
    },
    {
     "data": {
      "application/vnd.jupyter.widget-view+json": {
       "model_id": "baa3ed34c51a43bbade87867116947c6",
       "version_major": 2,
       "version_minor": 0
      },
      "text/plain": [
       "  0%|          | 0/15 [00:00<?, ?it/s]"
      ]
     },
     "metadata": {},
     "output_type": "display_data"
    },
    {
     "name": "stdout",
     "output_type": "stream",
     "text": [
      "Removing noise from file 55 of 62 at ../voice_data//mono_channels/6869_L.wav...\n",
      "\n"
     ]
    },
    {
     "data": {
      "application/vnd.jupyter.widget-view+json": {
       "model_id": "9011af6336834b17a03b184111d5342f",
       "version_major": 2,
       "version_minor": 0
      },
      "text/plain": [
       "  0%|          | 0/9 [00:00<?, ?it/s]"
      ]
     },
     "metadata": {},
     "output_type": "display_data"
    },
    {
     "name": "stdout",
     "output_type": "stream",
     "text": [
      "Removing noise from file 56 of 62 at ../voice_data//mono_channels/6869_R.wav...\n",
      "\n"
     ]
    },
    {
     "data": {
      "application/vnd.jupyter.widget-view+json": {
       "model_id": "b61deff782fb4384849a57cd8105cda4",
       "version_major": 2,
       "version_minor": 0
      },
      "text/plain": [
       "  0%|          | 0/9 [00:00<?, ?it/s]"
      ]
     },
     "metadata": {},
     "output_type": "display_data"
    },
    {
     "name": "stdout",
     "output_type": "stream",
     "text": [
      "Removing noise from file 57 of 62 at ../voice_data//mono_channels/6899_L.wav...\n",
      "\n"
     ]
    },
    {
     "data": {
      "application/vnd.jupyter.widget-view+json": {
       "model_id": "e0928601cc5a4f83b9f4faeaea45cb27",
       "version_major": 2,
       "version_minor": 0
      },
      "text/plain": [
       "  0%|          | 0/24 [00:00<?, ?it/s]"
      ]
     },
     "metadata": {},
     "output_type": "display_data"
    },
    {
     "name": "stdout",
     "output_type": "stream",
     "text": [
      "Removing noise from file 58 of 62 at ../voice_data//mono_channels/6899_R.wav...\n",
      "\n"
     ]
    },
    {
     "data": {
      "application/vnd.jupyter.widget-view+json": {
       "model_id": "4e2626e21ea14cfe9cf1a3dadcdf370f",
       "version_major": 2,
       "version_minor": 0
      },
      "text/plain": [
       "  0%|          | 0/24 [00:00<?, ?it/s]"
      ]
     },
     "metadata": {},
     "output_type": "display_data"
    },
    {
     "name": "stdout",
     "output_type": "stream",
     "text": [
      "Removing noise from file 59 of 62 at ../voice_data//mono_channels/6938_L.wav...\n",
      "\n"
     ]
    },
    {
     "data": {
      "application/vnd.jupyter.widget-view+json": {
       "model_id": "d1d80631b855426090afab7a9d6787a5",
       "version_major": 2,
       "version_minor": 0
      },
      "text/plain": [
       "  0%|          | 0/24 [00:00<?, ?it/s]"
      ]
     },
     "metadata": {},
     "output_type": "display_data"
    },
    {
     "name": "stdout",
     "output_type": "stream",
     "text": [
      "Removing noise from file 60 of 62 at ../voice_data//mono_channels/6938_R.wav...\n",
      "\n"
     ]
    },
    {
     "data": {
      "application/vnd.jupyter.widget-view+json": {
       "model_id": "65679b0d143d4a80a039bd66620ba7d9",
       "version_major": 2,
       "version_minor": 0
      },
      "text/plain": [
       "  0%|          | 0/24 [00:00<?, ?it/s]"
      ]
     },
     "metadata": {},
     "output_type": "display_data"
    },
    {
     "name": "stdout",
     "output_type": "stream",
     "text": [
      "Removing noise from file 61 of 62 at ../voice_data//mono_channels/6952_L.wav...\n",
      "\n"
     ]
    },
    {
     "data": {
      "application/vnd.jupyter.widget-view+json": {
       "model_id": "3ca3633f099b4b0e9eda3b294dafb3c5",
       "version_major": 2,
       "version_minor": 0
      },
      "text/plain": [
       "  0%|          | 0/24 [00:00<?, ?it/s]"
      ]
     },
     "metadata": {},
     "output_type": "display_data"
    },
    {
     "name": "stdout",
     "output_type": "stream",
     "text": [
      "Removing noise from file 62 of 62 at ../voice_data//mono_channels/6952_R.wav...\n",
      "\n"
     ]
    },
    {
     "data": {
      "application/vnd.jupyter.widget-view+json": {
       "model_id": "b7a0fed8bb6645788d1d2d1f64f00a66",
       "version_major": 2,
       "version_minor": 0
      },
      "text/plain": [
       "  0%|          | 0/24 [00:00<?, ?it/s]"
      ]
     },
     "metadata": {},
     "output_type": "display_data"
    },
    {
     "name": "stdout",
     "output_type": "stream",
     "text": [
      "Noise reduction complete.\n",
      "\n",
      "Wall time: 6min 4s\n"
     ]
    }
   ],
   "source": [
    "%%time\n",
    "\n",
    "processing_funcs.reduce_noise(voice_dir_path = '../voice_data/')"
   ]
  },
  {
   "cell_type": "markdown",
   "id": "d957774a-4489-4636-a356-f5f11f5a20a2",
   "metadata": {},
   "source": [
    "### Now to remove silence from the audio files:"
   ]
  },
  {
   "cell_type": "code",
   "execution_count": 6,
   "id": "9ea4ff0f-5106-4313-a629-be1628f406f9",
   "metadata": {},
   "outputs": [
    {
     "name": "stdout",
     "output_type": "stream",
     "text": [
      "Collecting all files in ../voice_data/mono_channels/ matching regular expression [0-9]+\\_(?:L|R)\\.wav.\n",
      "\n",
      "Removing periods of silence from file 1 of 62...\n",
      "\n",
      "Removing periods of silence from file 2 of 62...\n",
      "\n",
      "Removing periods of silence from file 3 of 62...\n",
      "\n",
      "Removing periods of silence from file 4 of 62...\n",
      "\n",
      "Removing periods of silence from file 5 of 62...\n",
      "\n",
      "Removing periods of silence from file 6 of 62...\n",
      "\n",
      "Removing periods of silence from file 7 of 62...\n",
      "\n",
      "Removing periods of silence from file 8 of 62...\n",
      "\n",
      "Removing periods of silence from file 9 of 62...\n",
      "\n",
      "Removing periods of silence from file 10 of 62...\n",
      "\n",
      "Removing periods of silence from file 11 of 62...\n",
      "\n",
      "Removing periods of silence from file 12 of 62...\n",
      "\n",
      "Removing periods of silence from file 13 of 62...\n",
      "\n",
      "Removing periods of silence from file 14 of 62...\n",
      "\n",
      "Removing periods of silence from file 15 of 62...\n",
      "\n",
      "Removing periods of silence from file 16 of 62...\n",
      "\n",
      "Removing periods of silence from file 17 of 62...\n",
      "\n",
      "Removing periods of silence from file 18 of 62...\n",
      "\n",
      "Removing periods of silence from file 19 of 62...\n",
      "\n",
      "Removing periods of silence from file 20 of 62...\n",
      "\n",
      "Removing periods of silence from file 21 of 62...\n",
      "\n",
      "Removing periods of silence from file 22 of 62...\n",
      "\n",
      "Removing periods of silence from file 23 of 62...\n",
      "\n",
      "Removing periods of silence from file 24 of 62...\n",
      "\n",
      "Removing periods of silence from file 25 of 62...\n",
      "\n",
      "Removing periods of silence from file 26 of 62...\n",
      "\n",
      "Removing periods of silence from file 27 of 62...\n",
      "\n",
      "Removing periods of silence from file 28 of 62...\n",
      "\n",
      "Removing periods of silence from file 29 of 62...\n",
      "\n",
      "Removing periods of silence from file 30 of 62...\n",
      "\n",
      "Removing periods of silence from file 31 of 62...\n",
      "\n",
      "Removing periods of silence from file 32 of 62...\n",
      "\n",
      "Removing periods of silence from file 33 of 62...\n",
      "\n",
      "Removing periods of silence from file 34 of 62...\n",
      "\n",
      "Removing periods of silence from file 35 of 62...\n",
      "\n",
      "Removing periods of silence from file 36 of 62...\n",
      "\n",
      "Removing periods of silence from file 37 of 62...\n",
      "\n",
      "Removing periods of silence from file 38 of 62...\n",
      "\n",
      "Removing periods of silence from file 39 of 62...\n",
      "\n",
      "Removing periods of silence from file 40 of 62...\n",
      "\n",
      "Removing periods of silence from file 41 of 62...\n",
      "\n",
      "Removing periods of silence from file 42 of 62...\n",
      "\n",
      "Removing periods of silence from file 43 of 62...\n",
      "\n",
      "Removing periods of silence from file 44 of 62...\n",
      "\n",
      "Removing periods of silence from file 45 of 62...\n",
      "\n",
      "Removing periods of silence from file 46 of 62...\n",
      "\n",
      "Removing periods of silence from file 47 of 62...\n",
      "\n",
      "Removing periods of silence from file 48 of 62...\n",
      "\n",
      "Removing periods of silence from file 49 of 62...\n",
      "\n",
      "Removing periods of silence from file 50 of 62...\n",
      "\n",
      "Removing periods of silence from file 51 of 62...\n",
      "\n",
      "Removing periods of silence from file 52 of 62...\n",
      "\n",
      "Removing periods of silence from file 53 of 62...\n",
      "\n",
      "Removing periods of silence from file 54 of 62...\n",
      "\n",
      "Removing periods of silence from file 55 of 62...\n",
      "\n",
      "Removing periods of silence from file 56 of 62...\n",
      "\n",
      "Removing periods of silence from file 57 of 62...\n",
      "\n",
      "Removing periods of silence from file 58 of 62...\n",
      "\n",
      "Removing periods of silence from file 59 of 62...\n",
      "\n",
      "Removing periods of silence from file 60 of 62...\n",
      "\n",
      "Removing periods of silence from file 61 of 62...\n",
      "\n",
      "Removing periods of silence from file 62 of 62...\n",
      "\n",
      "Removing silence process complete.\n",
      "\n",
      "Wall time: 35.6 s\n"
     ]
    }
   ],
   "source": [
    "%%time\n",
    "\n",
    "processing_funcs.remove_silence(mono_channel_dir = '../voice_data/mono_channels/')"
   ]
  },
  {
   "cell_type": "code",
   "execution_count": null,
   "id": "6169532c-09ec-4b6a-87c3-4c434f633162",
   "metadata": {},
   "outputs": [],
   "source": []
  },
  {
   "cell_type": "code",
   "execution_count": null,
   "id": "18631b82-dea2-461d-a0f2-9a5a31fa9459",
   "metadata": {},
   "outputs": [],
   "source": []
  },
  {
   "cell_type": "code",
   "execution_count": null,
   "id": "a8444218-9b1a-4b4b-84e9-a7a8d87ad94c",
   "metadata": {},
   "outputs": [],
   "source": []
  },
  {
   "cell_type": "code",
   "execution_count": null,
   "id": "4cf0dbbf-46dc-4cbf-88b3-5902b77bae56",
   "metadata": {},
   "outputs": [],
   "source": []
  }
 ],
 "metadata": {
  "kernelspec": {
   "display_name": "Python 3 (ipykernel)",
   "language": "python",
   "name": "python3"
  },
  "language_info": {
   "codemirror_mode": {
    "name": "ipython",
    "version": 3
   },
   "file_extension": ".py",
   "mimetype": "text/x-python",
   "name": "python",
   "nbconvert_exporter": "python",
   "pygments_lexer": "ipython3",
   "version": "3.9.7"
  }
 },
 "nbformat": 4,
 "nbformat_minor": 5
}
