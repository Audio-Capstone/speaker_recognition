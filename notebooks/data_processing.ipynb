{
 "cells": [
  {
   "cell_type": "markdown",
   "id": "f69bd6f2-a2a2-438d-8fc8-59906fbb6a0e",
   "metadata": {},
   "source": [
    "# Data Processing Notebook:"
   ]
  },
  {
   "cell_type": "code",
   "execution_count": 1,
   "id": "ece3aadb-4fbc-44c9-bf27-66974551e9f1",
   "metadata": {},
   "outputs": [
    {
     "name": "stdout",
     "output_type": "stream",
     "text": [
      "Collecting pydub\n",
      "  Downloading pydub-0.25.1-py2.py3-none-any.whl (32 kB)\n",
      "Installing collected packages: pydub\n",
      "Successfully installed pydub-0.25.1\n",
      "Collecting librosa\n",
      "  Downloading librosa-0.9.1-py3-none-any.whl (213 kB)\n",
      "     |████████████████████████████████| 213 kB 5.8 MB/s            \n",
      "\u001b[?25hCollecting soundfile>=0.10.2\n",
      "  Downloading SoundFile-0.10.3.post1-py2.py3-none-any.whl (21 kB)\n",
      "Requirement already satisfied: packaging>=20.0 in /opt/conda/lib/python3.9/site-packages (from librosa) (21.2)\n",
      "Requirement already satisfied: numba>=0.45.1 in /opt/conda/lib/python3.9/site-packages (from librosa) (0.54.1)\n",
      "Requirement already satisfied: pooch>=1.0 in /opt/conda/lib/python3.9/site-packages (from librosa) (1.5.2)\n",
      "Collecting audioread>=2.1.5\n",
      "  Downloading audioread-2.1.9.tar.gz (377 kB)\n",
      "     |████████████████████████████████| 377 kB 10.9 MB/s            \n",
      "\u001b[?25h  Preparing metadata (setup.py) ... \u001b[?25ldone\n",
      "\u001b[?25hCollecting resampy>=0.2.2\n",
      "  Downloading resampy-0.2.2.tar.gz (323 kB)\n",
      "     |████████████████████████████████| 323 kB 9.0 MB/s            \n",
      "\u001b[?25h  Preparing metadata (setup.py) ... \u001b[?25ldone\n",
      "\u001b[?25hRequirement already satisfied: scipy>=1.2.0 in /opt/conda/lib/python3.9/site-packages (from librosa) (1.7.1)\n",
      "Requirement already satisfied: scikit-learn>=0.19.1 in /opt/conda/lib/python3.9/site-packages (from librosa) (1.0.1)\n",
      "Requirement already satisfied: decorator>=4.0.10 in /opt/conda/lib/python3.9/site-packages (from librosa) (5.1.0)\n",
      "Requirement already satisfied: numpy>=1.17.0 in /opt/conda/lib/python3.9/site-packages (from librosa) (1.20.3)\n",
      "Requirement already satisfied: joblib>=0.14 in /opt/conda/lib/python3.9/site-packages (from librosa) (1.1.0)\n",
      "Requirement already satisfied: llvmlite<0.38,>=0.37.0rc1 in /opt/conda/lib/python3.9/site-packages (from numba>=0.45.1->librosa) (0.37.0)\n",
      "Requirement already satisfied: setuptools in /opt/conda/lib/python3.9/site-packages (from numba>=0.45.1->librosa) (58.3.0)\n",
      "Requirement already satisfied: pyparsing<3,>=2.0.2 in /opt/conda/lib/python3.9/site-packages (from packaging>=20.0->librosa) (2.4.7)\n",
      "Requirement already satisfied: requests in /opt/conda/lib/python3.9/site-packages (from pooch>=1.0->librosa) (2.26.0)\n",
      "Requirement already satisfied: appdirs in /opt/conda/lib/python3.9/site-packages (from pooch>=1.0->librosa) (1.4.4)\n",
      "Requirement already satisfied: six>=1.3 in /opt/conda/lib/python3.9/site-packages (from resampy>=0.2.2->librosa) (1.16.0)\n",
      "Requirement already satisfied: threadpoolctl>=2.0.0 in /opt/conda/lib/python3.9/site-packages (from scikit-learn>=0.19.1->librosa) (3.0.0)\n",
      "Requirement already satisfied: cffi>=1.0 in /opt/conda/lib/python3.9/site-packages (from soundfile>=0.10.2->librosa) (1.14.6)\n",
      "Requirement already satisfied: pycparser in /opt/conda/lib/python3.9/site-packages (from cffi>=1.0->soundfile>=0.10.2->librosa) (2.20)\n",
      "Requirement already satisfied: charset-normalizer~=2.0.0 in /opt/conda/lib/python3.9/site-packages (from requests->pooch>=1.0->librosa) (2.0.0)\n",
      "Requirement already satisfied: certifi>=2017.4.17 in /opt/conda/lib/python3.9/site-packages (from requests->pooch>=1.0->librosa) (2021.10.8)\n",
      "Requirement already satisfied: idna<4,>=2.5 in /opt/conda/lib/python3.9/site-packages (from requests->pooch>=1.0->librosa) (3.1)\n",
      "Requirement already satisfied: urllib3<1.27,>=1.21.1 in /opt/conda/lib/python3.9/site-packages (from requests->pooch>=1.0->librosa) (1.26.7)\n",
      "Building wheels for collected packages: audioread, resampy\n",
      "  Building wheel for audioread (setup.py) ... \u001b[?25ldone\n",
      "\u001b[?25h  Created wheel for audioread: filename=audioread-2.1.9-py3-none-any.whl size=23154 sha256=385c9dddf071338dae485504abf0b2bbc46b3b07fb5466c55a6e9723deccdeb4\n",
      "  Stored in directory: /home/jovyan/.cache/pip/wheels/a2/a3/bd/ec1568ce7515115a11ab686d509ad302124c782af065de47ee\n",
      "  Building wheel for resampy (setup.py) ... \u001b[?25ldone\n",
      "\u001b[?25h  Created wheel for resampy: filename=resampy-0.2.2-py3-none-any.whl size=320731 sha256=899e0b07161adc0964de65518a8720acebd96378cf319ec9cb68597879f91fbd\n",
      "  Stored in directory: /home/jovyan/.cache/pip/wheels/86/2c/7d/46a32a246b0e5939cea2c5ec1492164073e0c5d16d666ae2cd\n",
      "Successfully built audioread resampy\n",
      "Installing collected packages: soundfile, resampy, audioread, librosa\n",
      "Successfully installed audioread-2.1.9 librosa-0.9.1 resampy-0.2.2 soundfile-0.10.3.post1\n",
      "Collecting regex\n",
      "  Downloading regex-2022.4.24-cp39-cp39-manylinux_2_17_x86_64.manylinux2014_x86_64.whl (763 kB)\n",
      "     |████████████████████████████████| 763 kB 6.6 MB/s            \n",
      "\u001b[?25hInstalling collected packages: regex\n",
      "Successfully installed regex-2022.4.24\n",
      "Requirement already satisfied: soundfile in /opt/conda/lib/python3.9/site-packages (0.10.3.post1)\n",
      "Requirement already satisfied: cffi>=1.0 in /opt/conda/lib/python3.9/site-packages (from soundfile) (1.14.6)\n",
      "Requirement already satisfied: pycparser in /opt/conda/lib/python3.9/site-packages (from cffi>=1.0->soundfile) (2.20)\n",
      "Collecting noisereduce\n",
      "  Downloading noisereduce-2.0.0-py3-none-any.whl (15 kB)\n",
      "Requirement already satisfied: numpy in /opt/conda/lib/python3.9/site-packages (from noisereduce) (1.20.3)\n",
      "Requirement already satisfied: tqdm in /opt/conda/lib/python3.9/site-packages (from noisereduce) (4.62.3)\n",
      "Requirement already satisfied: joblib in /opt/conda/lib/python3.9/site-packages (from noisereduce) (1.1.0)\n",
      "Requirement already satisfied: scipy in /opt/conda/lib/python3.9/site-packages (from noisereduce) (1.7.1)\n",
      "Requirement already satisfied: librosa in /opt/conda/lib/python3.9/site-packages (from noisereduce) (0.9.1)\n",
      "Requirement already satisfied: matplotlib in /opt/conda/lib/python3.9/site-packages (from noisereduce) (3.4.3)\n",
      "Requirement already satisfied: scikit-learn>=0.19.1 in /opt/conda/lib/python3.9/site-packages (from librosa->noisereduce) (1.0.1)\n",
      "Requirement already satisfied: soundfile>=0.10.2 in /opt/conda/lib/python3.9/site-packages (from librosa->noisereduce) (0.10.3.post1)\n",
      "Requirement already satisfied: numba>=0.45.1 in /opt/conda/lib/python3.9/site-packages (from librosa->noisereduce) (0.54.1)\n",
      "Requirement already satisfied: pooch>=1.0 in /opt/conda/lib/python3.9/site-packages (from librosa->noisereduce) (1.5.2)\n",
      "Requirement already satisfied: decorator>=4.0.10 in /opt/conda/lib/python3.9/site-packages (from librosa->noisereduce) (5.1.0)\n",
      "Requirement already satisfied: packaging>=20.0 in /opt/conda/lib/python3.9/site-packages (from librosa->noisereduce) (21.2)\n",
      "Requirement already satisfied: resampy>=0.2.2 in /opt/conda/lib/python3.9/site-packages (from librosa->noisereduce) (0.2.2)\n",
      "Requirement already satisfied: audioread>=2.1.5 in /opt/conda/lib/python3.9/site-packages (from librosa->noisereduce) (2.1.9)\n",
      "Requirement already satisfied: python-dateutil>=2.7 in /opt/conda/lib/python3.9/site-packages (from matplotlib->noisereduce) (2.8.2)\n",
      "Requirement already satisfied: pillow>=6.2.0 in /opt/conda/lib/python3.9/site-packages (from matplotlib->noisereduce) (8.3.2)\n",
      "Requirement already satisfied: pyparsing>=2.2.1 in /opt/conda/lib/python3.9/site-packages (from matplotlib->noisereduce) (2.4.7)\n",
      "Requirement already satisfied: cycler>=0.10 in /opt/conda/lib/python3.9/site-packages (from matplotlib->noisereduce) (0.11.0)\n",
      "Requirement already satisfied: kiwisolver>=1.0.1 in /opt/conda/lib/python3.9/site-packages (from matplotlib->noisereduce) (1.3.2)\n",
      "Requirement already satisfied: llvmlite<0.38,>=0.37.0rc1 in /opt/conda/lib/python3.9/site-packages (from numba>=0.45.1->librosa->noisereduce) (0.37.0)\n",
      "Requirement already satisfied: setuptools in /opt/conda/lib/python3.9/site-packages (from numba>=0.45.1->librosa->noisereduce) (58.3.0)\n",
      "Requirement already satisfied: requests in /opt/conda/lib/python3.9/site-packages (from pooch>=1.0->librosa->noisereduce) (2.26.0)\n",
      "Requirement already satisfied: appdirs in /opt/conda/lib/python3.9/site-packages (from pooch>=1.0->librosa->noisereduce) (1.4.4)\n",
      "Requirement already satisfied: six>=1.5 in /opt/conda/lib/python3.9/site-packages (from python-dateutil>=2.7->matplotlib->noisereduce) (1.16.0)\n",
      "Requirement already satisfied: threadpoolctl>=2.0.0 in /opt/conda/lib/python3.9/site-packages (from scikit-learn>=0.19.1->librosa->noisereduce) (3.0.0)\n",
      "Requirement already satisfied: cffi>=1.0 in /opt/conda/lib/python3.9/site-packages (from soundfile>=0.10.2->librosa->noisereduce) (1.14.6)\n",
      "Requirement already satisfied: pycparser in /opt/conda/lib/python3.9/site-packages (from cffi>=1.0->soundfile>=0.10.2->librosa->noisereduce) (2.20)\n",
      "Requirement already satisfied: urllib3<1.27,>=1.21.1 in /opt/conda/lib/python3.9/site-packages (from requests->pooch>=1.0->librosa->noisereduce) (1.26.7)\n",
      "Requirement already satisfied: charset-normalizer~=2.0.0 in /opt/conda/lib/python3.9/site-packages (from requests->pooch>=1.0->librosa->noisereduce) (2.0.0)\n",
      "Requirement already satisfied: idna<4,>=2.5 in /opt/conda/lib/python3.9/site-packages (from requests->pooch>=1.0->librosa->noisereduce) (3.1)\n",
      "Requirement already satisfied: certifi>=2017.4.17 in /opt/conda/lib/python3.9/site-packages (from requests->pooch>=1.0->librosa->noisereduce) (2021.10.8)\n",
      "Installing collected packages: noisereduce\n",
      "Successfully installed noisereduce-2.0.0\n"
     ]
    }
   ],
   "source": [
    "# Install any needed dependencies\n",
    "!pip install pydub\n",
    "!pip install librosa\n",
    "!pip install regex\n",
    "!pip install soundfile\n",
    "!pip install noisereduce"
   ]
  },
  {
   "cell_type": "code",
   "execution_count": 2,
   "id": "8220007d-fd83-481e-953d-9288579e049f",
   "metadata": {},
   "outputs": [],
   "source": [
    "import os\n",
    "import sys\n",
    "sys.path.append('../')\n",
    "\n",
    "from functions import processing_funcs, utils\n",
    "from pydub.utils import mediainfo"
   ]
  },
  {
   "cell_type": "markdown",
   "id": "30392c1b-743e-4be7-8e37-be47317c9167",
   "metadata": {},
   "source": [
    "## First, we need to get some files."
   ]
  },
  {
   "cell_type": "code",
   "execution_count": 4,
   "id": "a23ef379-cab8-4f22-a343-9d9dcd3bca14",
   "metadata": {},
   "outputs": [
    {
     "name": "stdout",
     "output_type": "stream",
     "text": [
      "Creating directory at ../voice_data...\n",
      "\n",
      "../voice_data already exists.\n",
      "\n",
      "Downloading file 1 of 31...\n",
      "\n",
      "Downloading file 2 of 31...\n",
      "\n",
      "Downloading file 3 of 31...\n",
      "\n",
      "Downloading file 4 of 31...\n",
      "\n",
      "Downloading file 5 of 31...\n",
      "\n",
      "Downloading file 6 of 31...\n",
      "\n",
      "Downloading file 7 of 31...\n",
      "\n",
      "Downloading file 8 of 31...\n",
      "\n",
      "Downloading file 9 of 31...\n",
      "\n",
      "Downloading file 10 of 31...\n",
      "\n",
      "Downloading file 11 of 31...\n",
      "\n",
      "Downloading file 12 of 31...\n",
      "\n",
      "Downloading file 13 of 31...\n",
      "\n",
      "Downloading file 14 of 31...\n",
      "\n",
      "Downloading file 15 of 31...\n",
      "\n",
      "Downloading file 16 of 31...\n",
      "\n",
      "Downloading file 17 of 31...\n",
      "\n",
      "Downloading file 18 of 31...\n",
      "\n",
      "Downloading file 19 of 31...\n",
      "\n",
      "Downloading file 20 of 31...\n",
      "\n",
      "Downloading file 21 of 31...\n",
      "\n",
      "Downloading file 22 of 31...\n",
      "\n",
      "Downloading file 23 of 31...\n",
      "\n",
      "Downloading file 24 of 31...\n",
      "\n",
      "Downloading file 25 of 31...\n",
      "\n",
      "Downloading file 26 of 31...\n",
      "\n",
      "Downloading file 27 of 31...\n",
      "\n",
      "Downloading file 28 of 31...\n",
      "\n",
      "Downloading file 29 of 31...\n",
      "\n",
      "Downloading file 30 of 31...\n",
      "\n",
      "Downloading file 31 of 31...\n",
      "\n",
      "CPU times: user 6.27 s, sys: 4.6 s, total: 10.9 s\n",
      "Wall time: 2min 28s\n"
     ]
    }
   ],
   "source": [
    "%%time\n",
    "voice_dir = os.path.join('..', 'voice_data')\n",
    "utils.make_dir(voice_dir)\n",
    "utils.get_voice_data(voice_dir)"
   ]
  },
  {
   "cell_type": "markdown",
   "id": "846268b6-9bc0-4b0e-80d9-c0f712f4a89a",
   "metadata": {},
   "source": [
    "### Split stereo channels into mono:"
   ]
  },
  {
   "cell_type": "code",
   "execution_count": 6,
   "id": "27f8c0a7-f631-4689-8031-c34cb3576694",
   "metadata": {},
   "outputs": [
    {
     "name": "stdout",
     "output_type": "stream",
     "text": [
      "Creating directory at ../voice_data/mono_channels...\n",
      "\n",
      "Collecting all files in ../voice_data/ matching regular expression [0-9]+\\.wav.\n",
      "\n",
      "Splitting file 1 of 31 at ../voice_data/4175.wav...\n",
      "\n",
      "Splitting file 2 of 31 at ../voice_data/4504.wav...\n",
      "\n",
      "Splitting file 3 of 31 at ../voice_data/4708.wav...\n",
      "\n",
      "Splitting file 4 of 31 at ../voice_data/4745.wav...\n",
      "\n",
      "Splitting file 5 of 31 at ../voice_data/4823.wav...\n",
      "\n",
      "Splitting file 6 of 31 at ../voice_data/4874.wav...\n",
      "\n",
      "Splitting file 7 of 31 at ../voice_data/4889.wav...\n",
      "\n",
      "Splitting file 8 of 31 at ../voice_data/4984.wav...\n",
      "\n",
      "Splitting file 9 of 31 at ../voice_data/5000.wav...\n",
      "\n",
      "Splitting file 10 of 31 at ../voice_data/5051.wav...\n",
      "\n",
      "Splitting file 11 of 31 at ../voice_data/5220.wav...\n",
      "\n",
      "Splitting file 12 of 31 at ../voice_data/5635.wav...\n",
      "\n",
      "Splitting file 13 of 31 at ../voice_data/5926.wav...\n",
      "\n",
      "Splitting file 14 of 31 at ../voice_data/6015.wav...\n",
      "\n",
      "Splitting file 15 of 31 at ../voice_data/6062.wav...\n",
      "\n",
      "Splitting file 16 of 31 at ../voice_data/6065.wav...\n",
      "\n",
      "Splitting file 17 of 31 at ../voice_data/6093.wav...\n",
      "\n",
      "Splitting file 18 of 31 at ../voice_data/6126.wav...\n",
      "\n",
      "Splitting file 19 of 31 at ../voice_data/6157.wav...\n",
      "\n",
      "Splitting file 20 of 31 at ../voice_data/6193.wav...\n",
      "\n",
      "Splitting file 21 of 31 at ../voice_data/6239.wav...\n",
      "\n",
      "Splitting file 22 of 31 at ../voice_data/6255.wav...\n",
      "\n",
      "Splitting file 23 of 31 at ../voice_data/6278.wav...\n",
      "\n",
      "Splitting file 24 of 31 at ../voice_data/6372.wav...\n",
      "\n",
      "Splitting file 25 of 31 at ../voice_data/6379.wav...\n",
      "\n",
      "Splitting file 26 of 31 at ../voice_data/6476.wav...\n",
      "\n",
      "Splitting file 27 of 31 at ../voice_data/6862.wav...\n",
      "\n",
      "Splitting file 28 of 31 at ../voice_data/6869.wav...\n",
      "\n",
      "Splitting file 29 of 31 at ../voice_data/6899.wav...\n",
      "\n",
      "Splitting file 30 of 31 at ../voice_data/6938.wav...\n",
      "\n",
      "Splitting file 31 of 31 at ../voice_data/6952.wav...\n",
      "\n",
      "Splitting complete.\n",
      "\n",
      "CPU times: user 13.4 s, sys: 2.33 s, total: 15.7 s\n",
      "Wall time: 24.2 s\n"
     ]
    }
   ],
   "source": [
    "%%time\n",
    "mono_dir_path = os.path.join(voice_dir, 'mono_channels')\n",
    "utils.make_dir(mono_dir_path)\n",
    "processing_funcs.split_stereo_audio(voice_dir_path = '../voice_data/')"
   ]
  },
  {
   "cell_type": "markdown",
   "id": "3d098d33-4527-4964-b78a-327398d6ae38",
   "metadata": {},
   "source": [
    "### All of our stereo audio should now be split into mono channels:"
   ]
  },
  {
   "cell_type": "code",
   "execution_count": 7,
   "id": "82acf070-f4c1-4f59-821e-da1a0ef726fd",
   "metadata": {},
   "outputs": [
    {
     "name": "stdout",
     "output_type": "stream",
     "text": [
      "Collecting all files in ../voice_data/mono_channels matching regular expression [0-9]+\\_(?:L|R)\\.wav.\n",
      "\n",
      "Total number of mono files: 62 \n",
      "\n",
      "4175_L.wav\n",
      "4175_R.wav\n",
      "4504_L.wav\n",
      "4504_R.wav\n",
      "4708_L.wav\n",
      "4708_R.wav\n",
      "4745_L.wav\n",
      "4745_R.wav\n",
      "4823_L.wav\n",
      "4823_R.wav\n",
      "4874_L.wav\n",
      "4874_R.wav\n",
      "4889_L.wav\n",
      "4889_R.wav\n",
      "4984_L.wav\n",
      "4984_R.wav\n",
      "5000_L.wav\n",
      "5000_R.wav\n",
      "5051_L.wav\n",
      "5051_R.wav\n",
      "5220_L.wav\n",
      "5220_R.wav\n",
      "5635_L.wav\n",
      "5635_R.wav\n",
      "5926_L.wav\n",
      "5926_R.wav\n",
      "6015_L.wav\n",
      "6015_R.wav\n",
      "6062_L.wav\n",
      "6062_R.wav\n",
      "6065_L.wav\n",
      "6065_R.wav\n",
      "6093_L.wav\n",
      "6093_R.wav\n",
      "6126_L.wav\n",
      "6126_R.wav\n",
      "6157_L.wav\n",
      "6157_R.wav\n",
      "6193_L.wav\n",
      "6193_R.wav\n",
      "6239_L.wav\n",
      "6239_R.wav\n",
      "6255_L.wav\n",
      "6255_R.wav\n",
      "6278_L.wav\n",
      "6278_R.wav\n",
      "6372_L.wav\n",
      "6372_R.wav\n",
      "6379_L.wav\n",
      "6379_R.wav\n",
      "6476_L.wav\n",
      "6476_R.wav\n",
      "6862_L.wav\n",
      "6862_R.wav\n",
      "6869_L.wav\n",
      "6869_R.wav\n",
      "6899_L.wav\n",
      "6899_R.wav\n",
      "6938_L.wav\n",
      "6938_R.wav\n",
      "6952_L.wav\n",
      "6952_R.wav\n"
     ]
    }
   ],
   "source": [
    "mono_dir = utils.read_dir_files(dir_path = mono_dir_path,\n",
    "                                file_regex = r'[0-9]+\\_(?:L|R)\\.wav')\n",
    "\n",
    "print('Total number of mono files:', len(mono_dir), '\\n')\n",
    "\n",
    "for mono_file in mono_dir:\n",
    "    print(mono_file)"
   ]
  },
  {
   "cell_type": "markdown",
   "id": "4336acbc-1359-46ba-9bb5-7351567d90f1",
   "metadata": {},
   "source": [
    "### We now have 62 mono files: 2 * 31 original files. This makes sense!\n",
    "\n",
    "Now to check to make sure they look okay:"
   ]
  },
  {
   "cell_type": "code",
   "execution_count": 8,
   "id": "17c47085-5b48-40be-a139-374307928d8b",
   "metadata": {},
   "outputs": [
    {
     "name": "stdout",
     "output_type": "stream",
     "text": [
      "File: ../voice_data/mono_channels/4175_L.wav | Number of Channels: 1 | Sampling Rate: 8000 | Duration (mins): 1800.000000\n",
      "File: ../voice_data/mono_channels/4175_R.wav | Number of Channels: 1 | Sampling Rate: 8000 | Duration (mins): 1800.000000\n",
      "File: ../voice_data/mono_channels/4504_L.wav | Number of Channels: 1 | Sampling Rate: 8000 | Duration (mins): 470.760000\n",
      "File: ../voice_data/mono_channels/4504_R.wav | Number of Channels: 1 | Sampling Rate: 8000 | Duration (mins): 470.760000\n",
      "File: ../voice_data/mono_channels/4708_L.wav | Number of Channels: 1 | Sampling Rate: 8000 | Duration (mins): 1800.000000\n",
      "File: ../voice_data/mono_channels/4708_R.wav | Number of Channels: 1 | Sampling Rate: 8000 | Duration (mins): 1800.000000\n",
      "File: ../voice_data/mono_channels/4745_L.wav | Number of Channels: 1 | Sampling Rate: 8000 | Duration (mins): 1425.450000\n",
      "File: ../voice_data/mono_channels/4745_R.wav | Number of Channels: 1 | Sampling Rate: 8000 | Duration (mins): 1425.450000\n",
      "File: ../voice_data/mono_channels/4823_L.wav | Number of Channels: 1 | Sampling Rate: 8000 | Duration (mins): 1800.000000\n",
      "File: ../voice_data/mono_channels/4823_R.wav | Number of Channels: 1 | Sampling Rate: 8000 | Duration (mins): 1800.000000\n",
      "File: ../voice_data/mono_channels/4874_L.wav | Number of Channels: 1 | Sampling Rate: 8000 | Duration (mins): 1800.000000\n",
      "File: ../voice_data/mono_channels/4874_R.wav | Number of Channels: 1 | Sampling Rate: 8000 | Duration (mins): 1800.000000\n",
      "File: ../voice_data/mono_channels/4889_L.wav | Number of Channels: 1 | Sampling Rate: 8000 | Duration (mins): 1519.500000\n",
      "File: ../voice_data/mono_channels/4889_R.wav | Number of Channels: 1 | Sampling Rate: 8000 | Duration (mins): 1519.500000\n",
      "File: ../voice_data/mono_channels/4984_L.wav | Number of Channels: 1 | Sampling Rate: 8000 | Duration (mins): 1800.000000\n",
      "File: ../voice_data/mono_channels/4984_R.wav | Number of Channels: 1 | Sampling Rate: 8000 | Duration (mins): 1800.000000\n",
      "File: ../voice_data/mono_channels/5000_L.wav | Number of Channels: 1 | Sampling Rate: 8000 | Duration (mins): 1800.000000\n",
      "File: ../voice_data/mono_channels/5000_R.wav | Number of Channels: 1 | Sampling Rate: 8000 | Duration (mins): 1800.000000\n",
      "File: ../voice_data/mono_channels/5051_L.wav | Number of Channels: 1 | Sampling Rate: 8000 | Duration (mins): 1579.960000\n",
      "File: ../voice_data/mono_channels/5051_R.wav | Number of Channels: 1 | Sampling Rate: 8000 | Duration (mins): 1579.960000\n",
      "File: ../voice_data/mono_channels/5220_L.wav | Number of Channels: 1 | Sampling Rate: 8000 | Duration (mins): 1800.000000\n",
      "File: ../voice_data/mono_channels/5220_R.wav | Number of Channels: 1 | Sampling Rate: 8000 | Duration (mins): 1800.000000\n",
      "File: ../voice_data/mono_channels/5635_L.wav | Number of Channels: 1 | Sampling Rate: 8000 | Duration (mins): 1800.000000\n",
      "File: ../voice_data/mono_channels/5635_R.wav | Number of Channels: 1 | Sampling Rate: 8000 | Duration (mins): 1800.000000\n",
      "File: ../voice_data/mono_channels/5926_L.wav | Number of Channels: 1 | Sampling Rate: 8000 | Duration (mins): 1800.000000\n",
      "File: ../voice_data/mono_channels/5926_R.wav | Number of Channels: 1 | Sampling Rate: 8000 | Duration (mins): 1800.000000\n",
      "File: ../voice_data/mono_channels/6015_L.wav | Number of Channels: 1 | Sampling Rate: 8000 | Duration (mins): 1800.000000\n",
      "File: ../voice_data/mono_channels/6015_R.wav | Number of Channels: 1 | Sampling Rate: 8000 | Duration (mins): 1800.000000\n",
      "File: ../voice_data/mono_channels/6062_L.wav | Number of Channels: 1 | Sampling Rate: 8000 | Duration (mins): 1800.000000\n",
      "File: ../voice_data/mono_channels/6062_R.wav | Number of Channels: 1 | Sampling Rate: 8000 | Duration (mins): 1800.000000\n",
      "File: ../voice_data/mono_channels/6065_L.wav | Number of Channels: 1 | Sampling Rate: 8000 | Duration (mins): 1800.000000\n",
      "File: ../voice_data/mono_channels/6065_R.wav | Number of Channels: 1 | Sampling Rate: 8000 | Duration (mins): 1800.000000\n",
      "File: ../voice_data/mono_channels/6093_L.wav | Number of Channels: 1 | Sampling Rate: 8000 | Duration (mins): 1457.560000\n",
      "File: ../voice_data/mono_channels/6093_R.wav | Number of Channels: 1 | Sampling Rate: 8000 | Duration (mins): 1457.560000\n",
      "File: ../voice_data/mono_channels/6126_L.wav | Number of Channels: 1 | Sampling Rate: 8000 | Duration (mins): 1800.000000\n",
      "File: ../voice_data/mono_channels/6126_R.wav | Number of Channels: 1 | Sampling Rate: 8000 | Duration (mins): 1800.000000\n",
      "File: ../voice_data/mono_channels/6157_L.wav | Number of Channels: 1 | Sampling Rate: 8000 | Duration (mins): 1800.000000\n",
      "File: ../voice_data/mono_channels/6157_R.wav | Number of Channels: 1 | Sampling Rate: 8000 | Duration (mins): 1800.000000\n",
      "File: ../voice_data/mono_channels/6193_L.wav | Number of Channels: 1 | Sampling Rate: 8000 | Duration (mins): 1800.000000\n",
      "File: ../voice_data/mono_channels/6193_R.wav | Number of Channels: 1 | Sampling Rate: 8000 | Duration (mins): 1800.000000\n",
      "File: ../voice_data/mono_channels/6239_L.wav | Number of Channels: 1 | Sampling Rate: 8000 | Duration (mins): 1800.000000\n",
      "File: ../voice_data/mono_channels/6239_R.wav | Number of Channels: 1 | Sampling Rate: 8000 | Duration (mins): 1800.000000\n",
      "File: ../voice_data/mono_channels/6255_L.wav | Number of Channels: 1 | Sampling Rate: 8000 | Duration (mins): 1800.000000\n",
      "File: ../voice_data/mono_channels/6255_R.wav | Number of Channels: 1 | Sampling Rate: 8000 | Duration (mins): 1800.000000\n",
      "File: ../voice_data/mono_channels/6278_L.wav | Number of Channels: 1 | Sampling Rate: 8000 | Duration (mins): 524.440000\n",
      "File: ../voice_data/mono_channels/6278_R.wav | Number of Channels: 1 | Sampling Rate: 8000 | Duration (mins): 524.440000\n",
      "File: ../voice_data/mono_channels/6372_L.wav | Number of Channels: 1 | Sampling Rate: 8000 | Duration (mins): 1800.000000\n",
      "File: ../voice_data/mono_channels/6372_R.wav | Number of Channels: 1 | Sampling Rate: 8000 | Duration (mins): 1800.000000\n",
      "File: ../voice_data/mono_channels/6379_L.wav | Number of Channels: 1 | Sampling Rate: 8000 | Duration (mins): 1800.000000\n",
      "File: ../voice_data/mono_channels/6379_R.wav | Number of Channels: 1 | Sampling Rate: 8000 | Duration (mins): 1800.000000\n",
      "File: ../voice_data/mono_channels/6476_L.wav | Number of Channels: 1 | Sampling Rate: 8000 | Duration (mins): 1800.000000\n",
      "File: ../voice_data/mono_channels/6476_R.wav | Number of Channels: 1 | Sampling Rate: 8000 | Duration (mins): 1800.000000\n",
      "File: ../voice_data/mono_channels/6862_L.wav | Number of Channels: 1 | Sampling Rate: 8000 | Duration (mins): 1086.040000\n",
      "File: ../voice_data/mono_channels/6862_R.wav | Number of Channels: 1 | Sampling Rate: 8000 | Duration (mins): 1086.040000\n",
      "File: ../voice_data/mono_channels/6869_L.wav | Number of Channels: 1 | Sampling Rate: 8000 | Duration (mins): 610.360000\n",
      "File: ../voice_data/mono_channels/6869_R.wav | Number of Channels: 1 | Sampling Rate: 8000 | Duration (mins): 610.360000\n",
      "File: ../voice_data/mono_channels/6899_L.wav | Number of Channels: 1 | Sampling Rate: 8000 | Duration (mins): 1800.000000\n",
      "File: ../voice_data/mono_channels/6899_R.wav | Number of Channels: 1 | Sampling Rate: 8000 | Duration (mins): 1800.000000\n",
      "File: ../voice_data/mono_channels/6938_L.wav | Number of Channels: 1 | Sampling Rate: 8000 | Duration (mins): 1800.000000\n",
      "File: ../voice_data/mono_channels/6938_R.wav | Number of Channels: 1 | Sampling Rate: 8000 | Duration (mins): 1800.000000\n",
      "File: ../voice_data/mono_channels/6952_L.wav | Number of Channels: 1 | Sampling Rate: 8000 | Duration (mins): 1800.000000\n",
      "File: ../voice_data/mono_channels/6952_R.wav | Number of Channels: 1 | Sampling Rate: 8000 | Duration (mins): 1800.000000\n"
     ]
    }
   ],
   "source": [
    "for file in mono_dir:\n",
    "    file_path = os.path.join(mono_dir_path, file)\n",
    "    file_info = mediainfo(file_path)\n",
    "    print('File:', file_path, '|',\n",
    "          'Number of Channels:', file_info['channels'], '|',\n",
    "          'Sampling Rate:', file_info['sample_rate'], '|',\n",
    "          'Duration (mins):', utils.get_file_duration(file_path))"
   ]
  },
  {
   "cell_type": "markdown",
   "id": "3b5740fe-43b6-4de0-a481-3c6e1ed74060",
   "metadata": {},
   "source": [
    "### Channels and duration look good, and the native sampling rate was preserved. Perfect."
   ]
  },
  {
   "cell_type": "markdown",
   "id": "17947f0f-9d3d-4f68-b97a-d4f8102c0429",
   "metadata": {},
   "source": [
    "### Now to eliminate noise as much as possible from the mono files:"
   ]
  },
  {
   "cell_type": "markdown",
   "id": "abaf7da2-de6a-4b1e-b51d-7d32dfc64e7f",
   "metadata": {},
   "source": [
    "We'll use the 'noisereduce' package and see how that affects our data:"
   ]
  },
  {
   "cell_type": "markdown",
   "id": "d7671ac9-9c49-4000-af4a-6da0b179313a",
   "metadata": {},
   "source": [
    "noisereduce package information here:\n",
    "https://pypi.org/project/noisereduce/#:~:text=Noisereduce%20is%20a%20noise%20reduction,a%20form%20of%20Noise%20Gate.\n",
    "\n",
    "We'll be using the simplest implementation to start out with and we can try out different methods later on."
   ]
  },
  {
   "cell_type": "markdown",
   "id": "b30b73e4-bf27-418f-95e7-e3fa32bed7bc",
   "metadata": {},
   "source": [
    "@software{tim_sainburg_2019_3243139,\n",
    "  author       = {Tim Sainburg},\n",
    "  title        = {timsainb/noisereduce: v1.0},\n",
    "  month        = jun,\n",
    "  year         = 2019,\n",
    "  publisher    = {Zenodo},\n",
    "  version      = {db94fe2},\n",
    "  doi          = {10.5281/zenodo.3243139},\n",
    "  url          = {https://doi.org/10.5281/zenodo.3243139}\n",
    "}\n",
    "\n",
    "\n",
    "@article{sainburg2020finding,\n",
    "  title={Finding, visualizing, and quantifying latent structure across diverse animal vocal repertoires},\n",
    "  author={Sainburg, Tim and Thielk, Marvin and Gentner, Timothy Q},\n",
    "  journal={PLoS computational biology},\n",
    "  volume={16},\n",
    "  number={10},\n",
    "  pages={e1008228},\n",
    "  year={2020},\n",
    "  publisher={Public Library of Science}\n",
    "}"
   ]
  },
  {
   "cell_type": "code",
   "execution_count": 9,
   "id": "a432d96f-d953-492b-8b79-fe76332383e0",
   "metadata": {},
   "outputs": [
    {
     "name": "stdout",
     "output_type": "stream",
     "text": [
      "Collecting all files in ../voice_data/mono_channels matching regular expression [0-9]+\\_(?:L|R)\\.wav.\n",
      "\n",
      "Removing noise from file 1 of 62 at ../voice_data/mono_channels/4175_L.wav...\n",
      "\n"
     ]
    },
    {
     "data": {
      "application/vnd.jupyter.widget-view+json": {
       "model_id": "9f52abebd11e4412b9c5a23038d8649b",
       "version_major": 2,
       "version_minor": 0
      },
      "text/plain": [
       "  0%|          | 0/24 [00:00<?, ?it/s]"
      ]
     },
     "metadata": {},
     "output_type": "display_data"
    },
    {
     "name": "stdout",
     "output_type": "stream",
     "text": [
      "Removing noise from file 2 of 62 at ../voice_data/mono_channels/4175_R.wav...\n",
      "\n"
     ]
    },
    {
     "data": {
      "application/vnd.jupyter.widget-view+json": {
       "model_id": "0e4c2e9734d74e909075af6f377fe3f4",
       "version_major": 2,
       "version_minor": 0
      },
      "text/plain": [
       "  0%|          | 0/24 [00:00<?, ?it/s]"
      ]
     },
     "metadata": {},
     "output_type": "display_data"
    },
    {
     "name": "stdout",
     "output_type": "stream",
     "text": [
      "Removing noise from file 3 of 62 at ../voice_data/mono_channels/4504_L.wav...\n",
      "\n"
     ]
    },
    {
     "data": {
      "application/vnd.jupyter.widget-view+json": {
       "model_id": "6db984b4728245829346373d21b956d2",
       "version_major": 2,
       "version_minor": 0
      },
      "text/plain": [
       "  0%|          | 0/7 [00:00<?, ?it/s]"
      ]
     },
     "metadata": {},
     "output_type": "display_data"
    },
    {
     "name": "stdout",
     "output_type": "stream",
     "text": [
      "Removing noise from file 4 of 62 at ../voice_data/mono_channels/4504_R.wav...\n",
      "\n"
     ]
    },
    {
     "data": {
      "application/vnd.jupyter.widget-view+json": {
       "model_id": "8fc001df8bab41b8809213561c100273",
       "version_major": 2,
       "version_minor": 0
      },
      "text/plain": [
       "  0%|          | 0/7 [00:00<?, ?it/s]"
      ]
     },
     "metadata": {},
     "output_type": "display_data"
    },
    {
     "name": "stdout",
     "output_type": "stream",
     "text": [
      "Removing noise from file 5 of 62 at ../voice_data/mono_channels/4708_L.wav...\n",
      "\n"
     ]
    },
    {
     "data": {
      "application/vnd.jupyter.widget-view+json": {
       "model_id": "895ac15497e04dee9fa56c34034efe3d",
       "version_major": 2,
       "version_minor": 0
      },
      "text/plain": [
       "  0%|          | 0/24 [00:00<?, ?it/s]"
      ]
     },
     "metadata": {},
     "output_type": "display_data"
    },
    {
     "name": "stdout",
     "output_type": "stream",
     "text": [
      "Removing noise from file 6 of 62 at ../voice_data/mono_channels/4708_R.wav...\n",
      "\n"
     ]
    },
    {
     "data": {
      "application/vnd.jupyter.widget-view+json": {
       "model_id": "07666cdd10b945d087f97d6c38aec3a2",
       "version_major": 2,
       "version_minor": 0
      },
      "text/plain": [
       "  0%|          | 0/24 [00:00<?, ?it/s]"
      ]
     },
     "metadata": {},
     "output_type": "display_data"
    },
    {
     "name": "stdout",
     "output_type": "stream",
     "text": [
      "Removing noise from file 7 of 62 at ../voice_data/mono_channels/4745_L.wav...\n",
      "\n"
     ]
    },
    {
     "data": {
      "application/vnd.jupyter.widget-view+json": {
       "model_id": "8d11ede765324ae6ac23f69dbf57b36d",
       "version_major": 2,
       "version_minor": 0
      },
      "text/plain": [
       "  0%|          | 0/20 [00:00<?, ?it/s]"
      ]
     },
     "metadata": {},
     "output_type": "display_data"
    },
    {
     "name": "stdout",
     "output_type": "stream",
     "text": [
      "Removing noise from file 8 of 62 at ../voice_data/mono_channels/4745_R.wav...\n",
      "\n"
     ]
    },
    {
     "data": {
      "application/vnd.jupyter.widget-view+json": {
       "model_id": "537d30dcd68f42398718e7c820f8b5f7",
       "version_major": 2,
       "version_minor": 0
      },
      "text/plain": [
       "  0%|          | 0/20 [00:00<?, ?it/s]"
      ]
     },
     "metadata": {},
     "output_type": "display_data"
    },
    {
     "name": "stdout",
     "output_type": "stream",
     "text": [
      "Removing noise from file 9 of 62 at ../voice_data/mono_channels/4823_L.wav...\n",
      "\n"
     ]
    },
    {
     "data": {
      "application/vnd.jupyter.widget-view+json": {
       "model_id": "e36b3865c2e24682b04533ac1e3a2fd5",
       "version_major": 2,
       "version_minor": 0
      },
      "text/plain": [
       "  0%|          | 0/24 [00:00<?, ?it/s]"
      ]
     },
     "metadata": {},
     "output_type": "display_data"
    },
    {
     "name": "stdout",
     "output_type": "stream",
     "text": [
      "Removing noise from file 10 of 62 at ../voice_data/mono_channels/4823_R.wav...\n",
      "\n"
     ]
    },
    {
     "data": {
      "application/vnd.jupyter.widget-view+json": {
       "model_id": "d061cc76a59f4a8da566c325ee929aa5",
       "version_major": 2,
       "version_minor": 0
      },
      "text/plain": [
       "  0%|          | 0/24 [00:00<?, ?it/s]"
      ]
     },
     "metadata": {},
     "output_type": "display_data"
    },
    {
     "name": "stdout",
     "output_type": "stream",
     "text": [
      "Removing noise from file 11 of 62 at ../voice_data/mono_channels/4874_L.wav...\n",
      "\n"
     ]
    },
    {
     "data": {
      "application/vnd.jupyter.widget-view+json": {
       "model_id": "53d1abc25a9a4bde9fb20907b56852b0",
       "version_major": 2,
       "version_minor": 0
      },
      "text/plain": [
       "  0%|          | 0/24 [00:00<?, ?it/s]"
      ]
     },
     "metadata": {},
     "output_type": "display_data"
    },
    {
     "name": "stdout",
     "output_type": "stream",
     "text": [
      "Removing noise from file 12 of 62 at ../voice_data/mono_channels/4874_R.wav...\n",
      "\n"
     ]
    },
    {
     "data": {
      "application/vnd.jupyter.widget-view+json": {
       "model_id": "00969bba89be4c3c83363481158f4eeb",
       "version_major": 2,
       "version_minor": 0
      },
      "text/plain": [
       "  0%|          | 0/24 [00:00<?, ?it/s]"
      ]
     },
     "metadata": {},
     "output_type": "display_data"
    },
    {
     "name": "stdout",
     "output_type": "stream",
     "text": [
      "Removing noise from file 13 of 62 at ../voice_data/mono_channels/4889_L.wav...\n",
      "\n"
     ]
    },
    {
     "data": {
      "application/vnd.jupyter.widget-view+json": {
       "model_id": "ae595bb15982494ebd4157a1ac931e66",
       "version_major": 2,
       "version_minor": 0
      },
      "text/plain": [
       "  0%|          | 0/21 [00:00<?, ?it/s]"
      ]
     },
     "metadata": {},
     "output_type": "display_data"
    },
    {
     "name": "stdout",
     "output_type": "stream",
     "text": [
      "Removing noise from file 14 of 62 at ../voice_data/mono_channels/4889_R.wav...\n",
      "\n"
     ]
    },
    {
     "data": {
      "application/vnd.jupyter.widget-view+json": {
       "model_id": "422f07da128c4d0786bc410e54f408fb",
       "version_major": 2,
       "version_minor": 0
      },
      "text/plain": [
       "  0%|          | 0/21 [00:00<?, ?it/s]"
      ]
     },
     "metadata": {},
     "output_type": "display_data"
    },
    {
     "name": "stdout",
     "output_type": "stream",
     "text": [
      "Removing noise from file 15 of 62 at ../voice_data/mono_channels/4984_L.wav...\n",
      "\n"
     ]
    },
    {
     "data": {
      "application/vnd.jupyter.widget-view+json": {
       "model_id": "84ca1e86065c412a9fd1ee95199811d3",
       "version_major": 2,
       "version_minor": 0
      },
      "text/plain": [
       "  0%|          | 0/24 [00:00<?, ?it/s]"
      ]
     },
     "metadata": {},
     "output_type": "display_data"
    },
    {
     "name": "stdout",
     "output_type": "stream",
     "text": [
      "Removing noise from file 16 of 62 at ../voice_data/mono_channels/4984_R.wav...\n",
      "\n"
     ]
    },
    {
     "data": {
      "application/vnd.jupyter.widget-view+json": {
       "model_id": "397db62890384a48ab019c315ebdacc1",
       "version_major": 2,
       "version_minor": 0
      },
      "text/plain": [
       "  0%|          | 0/24 [00:00<?, ?it/s]"
      ]
     },
     "metadata": {},
     "output_type": "display_data"
    },
    {
     "name": "stdout",
     "output_type": "stream",
     "text": [
      "Removing noise from file 17 of 62 at ../voice_data/mono_channels/5000_L.wav...\n",
      "\n"
     ]
    },
    {
     "data": {
      "application/vnd.jupyter.widget-view+json": {
       "model_id": "654f941381f14dd1a3b3f44b37c47388",
       "version_major": 2,
       "version_minor": 0
      },
      "text/plain": [
       "  0%|          | 0/24 [00:00<?, ?it/s]"
      ]
     },
     "metadata": {},
     "output_type": "display_data"
    },
    {
     "name": "stdout",
     "output_type": "stream",
     "text": [
      "Removing noise from file 18 of 62 at ../voice_data/mono_channels/5000_R.wav...\n",
      "\n"
     ]
    },
    {
     "data": {
      "application/vnd.jupyter.widget-view+json": {
       "model_id": "65c4e14807614db081ef158ad6710b67",
       "version_major": 2,
       "version_minor": 0
      },
      "text/plain": [
       "  0%|          | 0/24 [00:00<?, ?it/s]"
      ]
     },
     "metadata": {},
     "output_type": "display_data"
    },
    {
     "name": "stdout",
     "output_type": "stream",
     "text": [
      "Removing noise from file 19 of 62 at ../voice_data/mono_channels/5051_L.wav...\n",
      "\n"
     ]
    },
    {
     "data": {
      "application/vnd.jupyter.widget-view+json": {
       "model_id": "122a6bf5433145a783d920f9a93196d9",
       "version_major": 2,
       "version_minor": 0
      },
      "text/plain": [
       "  0%|          | 0/22 [00:00<?, ?it/s]"
      ]
     },
     "metadata": {},
     "output_type": "display_data"
    },
    {
     "name": "stdout",
     "output_type": "stream",
     "text": [
      "Removing noise from file 20 of 62 at ../voice_data/mono_channels/5051_R.wav...\n",
      "\n"
     ]
    },
    {
     "data": {
      "application/vnd.jupyter.widget-view+json": {
       "model_id": "bf921da92bac4d6d96e9271372d0b70a",
       "version_major": 2,
       "version_minor": 0
      },
      "text/plain": [
       "  0%|          | 0/22 [00:00<?, ?it/s]"
      ]
     },
     "metadata": {},
     "output_type": "display_data"
    },
    {
     "name": "stdout",
     "output_type": "stream",
     "text": [
      "Removing noise from file 21 of 62 at ../voice_data/mono_channels/5220_L.wav...\n",
      "\n"
     ]
    },
    {
     "data": {
      "application/vnd.jupyter.widget-view+json": {
       "model_id": "6d9a0a51e9754c8f93fe2e21866e2180",
       "version_major": 2,
       "version_minor": 0
      },
      "text/plain": [
       "  0%|          | 0/24 [00:00<?, ?it/s]"
      ]
     },
     "metadata": {},
     "output_type": "display_data"
    },
    {
     "name": "stdout",
     "output_type": "stream",
     "text": [
      "Removing noise from file 22 of 62 at ../voice_data/mono_channels/5220_R.wav...\n",
      "\n"
     ]
    },
    {
     "data": {
      "application/vnd.jupyter.widget-view+json": {
       "model_id": "ea7d67f25d434bd1970f75952fcb7936",
       "version_major": 2,
       "version_minor": 0
      },
      "text/plain": [
       "  0%|          | 0/24 [00:00<?, ?it/s]"
      ]
     },
     "metadata": {},
     "output_type": "display_data"
    },
    {
     "name": "stdout",
     "output_type": "stream",
     "text": [
      "Removing noise from file 23 of 62 at ../voice_data/mono_channels/5635_L.wav...\n",
      "\n"
     ]
    },
    {
     "data": {
      "application/vnd.jupyter.widget-view+json": {
       "model_id": "a120d2aba6ec4045aff2eb23275f6293",
       "version_major": 2,
       "version_minor": 0
      },
      "text/plain": [
       "  0%|          | 0/24 [00:00<?, ?it/s]"
      ]
     },
     "metadata": {},
     "output_type": "display_data"
    },
    {
     "name": "stdout",
     "output_type": "stream",
     "text": [
      "Removing noise from file 24 of 62 at ../voice_data/mono_channels/5635_R.wav...\n",
      "\n"
     ]
    },
    {
     "data": {
      "application/vnd.jupyter.widget-view+json": {
       "model_id": "c087286191de4300af25a081769a3719",
       "version_major": 2,
       "version_minor": 0
      },
      "text/plain": [
       "  0%|          | 0/24 [00:00<?, ?it/s]"
      ]
     },
     "metadata": {},
     "output_type": "display_data"
    },
    {
     "name": "stdout",
     "output_type": "stream",
     "text": [
      "Removing noise from file 25 of 62 at ../voice_data/mono_channels/5926_L.wav...\n",
      "\n"
     ]
    },
    {
     "data": {
      "application/vnd.jupyter.widget-view+json": {
       "model_id": "19289aa7e5d546ec9700244fe03f28c3",
       "version_major": 2,
       "version_minor": 0
      },
      "text/plain": [
       "  0%|          | 0/24 [00:00<?, ?it/s]"
      ]
     },
     "metadata": {},
     "output_type": "display_data"
    },
    {
     "name": "stdout",
     "output_type": "stream",
     "text": [
      "Removing noise from file 26 of 62 at ../voice_data/mono_channels/5926_R.wav...\n",
      "\n"
     ]
    },
    {
     "data": {
      "application/vnd.jupyter.widget-view+json": {
       "model_id": "1691c71a84524773aae1094d2674bc57",
       "version_major": 2,
       "version_minor": 0
      },
      "text/plain": [
       "  0%|          | 0/24 [00:00<?, ?it/s]"
      ]
     },
     "metadata": {},
     "output_type": "display_data"
    },
    {
     "name": "stdout",
     "output_type": "stream",
     "text": [
      "Removing noise from file 27 of 62 at ../voice_data/mono_channels/6015_L.wav...\n",
      "\n"
     ]
    },
    {
     "data": {
      "application/vnd.jupyter.widget-view+json": {
       "model_id": "b368ecbb7d1e4d3c8176ca275381ca32",
       "version_major": 2,
       "version_minor": 0
      },
      "text/plain": [
       "  0%|          | 0/24 [00:00<?, ?it/s]"
      ]
     },
     "metadata": {},
     "output_type": "display_data"
    },
    {
     "name": "stdout",
     "output_type": "stream",
     "text": [
      "Removing noise from file 28 of 62 at ../voice_data/mono_channels/6015_R.wav...\n",
      "\n"
     ]
    },
    {
     "data": {
      "application/vnd.jupyter.widget-view+json": {
       "model_id": "ab328328d0404ac3b9f749db2c6f9f4d",
       "version_major": 2,
       "version_minor": 0
      },
      "text/plain": [
       "  0%|          | 0/24 [00:00<?, ?it/s]"
      ]
     },
     "metadata": {},
     "output_type": "display_data"
    },
    {
     "name": "stdout",
     "output_type": "stream",
     "text": [
      "Removing noise from file 29 of 62 at ../voice_data/mono_channels/6062_L.wav...\n",
      "\n"
     ]
    },
    {
     "data": {
      "application/vnd.jupyter.widget-view+json": {
       "model_id": "073f91c377414a1a8b98f5cce13081cb",
       "version_major": 2,
       "version_minor": 0
      },
      "text/plain": [
       "  0%|          | 0/24 [00:00<?, ?it/s]"
      ]
     },
     "metadata": {},
     "output_type": "display_data"
    },
    {
     "name": "stdout",
     "output_type": "stream",
     "text": [
      "Removing noise from file 30 of 62 at ../voice_data/mono_channels/6062_R.wav...\n",
      "\n"
     ]
    },
    {
     "data": {
      "application/vnd.jupyter.widget-view+json": {
       "model_id": "02e057179ed14776b7d9dc5dff73e93a",
       "version_major": 2,
       "version_minor": 0
      },
      "text/plain": [
       "  0%|          | 0/24 [00:00<?, ?it/s]"
      ]
     },
     "metadata": {},
     "output_type": "display_data"
    },
    {
     "name": "stdout",
     "output_type": "stream",
     "text": [
      "Removing noise from file 31 of 62 at ../voice_data/mono_channels/6065_L.wav...\n",
      "\n"
     ]
    },
    {
     "data": {
      "application/vnd.jupyter.widget-view+json": {
       "model_id": "b73a2c703c9a498591404558a41c921c",
       "version_major": 2,
       "version_minor": 0
      },
      "text/plain": [
       "  0%|          | 0/24 [00:00<?, ?it/s]"
      ]
     },
     "metadata": {},
     "output_type": "display_data"
    },
    {
     "name": "stdout",
     "output_type": "stream",
     "text": [
      "Removing noise from file 32 of 62 at ../voice_data/mono_channels/6065_R.wav...\n",
      "\n"
     ]
    },
    {
     "data": {
      "application/vnd.jupyter.widget-view+json": {
       "model_id": "b2e9f01ccbc6418aaf2370281a3d12d6",
       "version_major": 2,
       "version_minor": 0
      },
      "text/plain": [
       "  0%|          | 0/24 [00:00<?, ?it/s]"
      ]
     },
     "metadata": {},
     "output_type": "display_data"
    },
    {
     "name": "stdout",
     "output_type": "stream",
     "text": [
      "Removing noise from file 33 of 62 at ../voice_data/mono_channels/6093_L.wav...\n",
      "\n"
     ]
    },
    {
     "data": {
      "application/vnd.jupyter.widget-view+json": {
       "model_id": "bf0304ae6c864f778961491aa7c039df",
       "version_major": 2,
       "version_minor": 0
      },
      "text/plain": [
       "  0%|          | 0/20 [00:00<?, ?it/s]"
      ]
     },
     "metadata": {},
     "output_type": "display_data"
    },
    {
     "name": "stdout",
     "output_type": "stream",
     "text": [
      "Removing noise from file 34 of 62 at ../voice_data/mono_channels/6093_R.wav...\n",
      "\n"
     ]
    },
    {
     "data": {
      "application/vnd.jupyter.widget-view+json": {
       "model_id": "17e210e2e9614b739606106e1895c963",
       "version_major": 2,
       "version_minor": 0
      },
      "text/plain": [
       "  0%|          | 0/20 [00:00<?, ?it/s]"
      ]
     },
     "metadata": {},
     "output_type": "display_data"
    },
    {
     "name": "stdout",
     "output_type": "stream",
     "text": [
      "Removing noise from file 35 of 62 at ../voice_data/mono_channels/6126_L.wav...\n",
      "\n"
     ]
    },
    {
     "data": {
      "application/vnd.jupyter.widget-view+json": {
       "model_id": "1981e49cfb25489299b8ffae0d37e508",
       "version_major": 2,
       "version_minor": 0
      },
      "text/plain": [
       "  0%|          | 0/24 [00:00<?, ?it/s]"
      ]
     },
     "metadata": {},
     "output_type": "display_data"
    },
    {
     "name": "stdout",
     "output_type": "stream",
     "text": [
      "Removing noise from file 36 of 62 at ../voice_data/mono_channels/6126_R.wav...\n",
      "\n"
     ]
    },
    {
     "data": {
      "application/vnd.jupyter.widget-view+json": {
       "model_id": "405cecc53e8745519bcb4de30f821016",
       "version_major": 2,
       "version_minor": 0
      },
      "text/plain": [
       "  0%|          | 0/24 [00:00<?, ?it/s]"
      ]
     },
     "metadata": {},
     "output_type": "display_data"
    },
    {
     "name": "stdout",
     "output_type": "stream",
     "text": [
      "Removing noise from file 37 of 62 at ../voice_data/mono_channels/6157_L.wav...\n",
      "\n"
     ]
    },
    {
     "data": {
      "application/vnd.jupyter.widget-view+json": {
       "model_id": "c47b81607e9f492eada1470a35679a9e",
       "version_major": 2,
       "version_minor": 0
      },
      "text/plain": [
       "  0%|          | 0/24 [00:00<?, ?it/s]"
      ]
     },
     "metadata": {},
     "output_type": "display_data"
    },
    {
     "name": "stdout",
     "output_type": "stream",
     "text": [
      "Removing noise from file 38 of 62 at ../voice_data/mono_channels/6157_R.wav...\n",
      "\n"
     ]
    },
    {
     "data": {
      "application/vnd.jupyter.widget-view+json": {
       "model_id": "1283cb44477949379d108e7df0b90795",
       "version_major": 2,
       "version_minor": 0
      },
      "text/plain": [
       "  0%|          | 0/24 [00:00<?, ?it/s]"
      ]
     },
     "metadata": {},
     "output_type": "display_data"
    },
    {
     "name": "stdout",
     "output_type": "stream",
     "text": [
      "Removing noise from file 39 of 62 at ../voice_data/mono_channels/6193_L.wav...\n",
      "\n"
     ]
    },
    {
     "data": {
      "application/vnd.jupyter.widget-view+json": {
       "model_id": "af2482034bca4f0581cafaecc78d0b89",
       "version_major": 2,
       "version_minor": 0
      },
      "text/plain": [
       "  0%|          | 0/24 [00:00<?, ?it/s]"
      ]
     },
     "metadata": {},
     "output_type": "display_data"
    },
    {
     "name": "stdout",
     "output_type": "stream",
     "text": [
      "Removing noise from file 40 of 62 at ../voice_data/mono_channels/6193_R.wav...\n",
      "\n"
     ]
    },
    {
     "data": {
      "application/vnd.jupyter.widget-view+json": {
       "model_id": "d6c103769eda47f1bacdfabc6b7ded1f",
       "version_major": 2,
       "version_minor": 0
      },
      "text/plain": [
       "  0%|          | 0/24 [00:00<?, ?it/s]"
      ]
     },
     "metadata": {},
     "output_type": "display_data"
    },
    {
     "name": "stdout",
     "output_type": "stream",
     "text": [
      "Removing noise from file 41 of 62 at ../voice_data/mono_channels/6239_L.wav...\n",
      "\n"
     ]
    },
    {
     "data": {
      "application/vnd.jupyter.widget-view+json": {
       "model_id": "19bc8946f21c4ca8b27a04bd4bc52202",
       "version_major": 2,
       "version_minor": 0
      },
      "text/plain": [
       "  0%|          | 0/24 [00:00<?, ?it/s]"
      ]
     },
     "metadata": {},
     "output_type": "display_data"
    },
    {
     "name": "stdout",
     "output_type": "stream",
     "text": [
      "Removing noise from file 42 of 62 at ../voice_data/mono_channels/6239_R.wav...\n",
      "\n"
     ]
    },
    {
     "data": {
      "application/vnd.jupyter.widget-view+json": {
       "model_id": "3f8cc8520b634407a9553b5418350d09",
       "version_major": 2,
       "version_minor": 0
      },
      "text/plain": [
       "  0%|          | 0/24 [00:00<?, ?it/s]"
      ]
     },
     "metadata": {},
     "output_type": "display_data"
    },
    {
     "name": "stdout",
     "output_type": "stream",
     "text": [
      "Removing noise from file 43 of 62 at ../voice_data/mono_channels/6255_L.wav...\n",
      "\n"
     ]
    },
    {
     "data": {
      "application/vnd.jupyter.widget-view+json": {
       "model_id": "e6f98ef1e1e64cdaaffb9532706ffbde",
       "version_major": 2,
       "version_minor": 0
      },
      "text/plain": [
       "  0%|          | 0/24 [00:00<?, ?it/s]"
      ]
     },
     "metadata": {},
     "output_type": "display_data"
    },
    {
     "name": "stdout",
     "output_type": "stream",
     "text": [
      "Removing noise from file 44 of 62 at ../voice_data/mono_channels/6255_R.wav...\n",
      "\n"
     ]
    },
    {
     "data": {
      "application/vnd.jupyter.widget-view+json": {
       "model_id": "a9807019517b482a83928692b1dc0398",
       "version_major": 2,
       "version_minor": 0
      },
      "text/plain": [
       "  0%|          | 0/24 [00:00<?, ?it/s]"
      ]
     },
     "metadata": {},
     "output_type": "display_data"
    },
    {
     "name": "stdout",
     "output_type": "stream",
     "text": [
      "Removing noise from file 45 of 62 at ../voice_data/mono_channels/6278_L.wav...\n",
      "\n"
     ]
    },
    {
     "data": {
      "application/vnd.jupyter.widget-view+json": {
       "model_id": "477aea32d4f14c418b798743f62a81da",
       "version_major": 2,
       "version_minor": 0
      },
      "text/plain": [
       "  0%|          | 0/7 [00:00<?, ?it/s]"
      ]
     },
     "metadata": {},
     "output_type": "display_data"
    },
    {
     "name": "stdout",
     "output_type": "stream",
     "text": [
      "Removing noise from file 46 of 62 at ../voice_data/mono_channels/6278_R.wav...\n",
      "\n"
     ]
    },
    {
     "data": {
      "application/vnd.jupyter.widget-view+json": {
       "model_id": "42745c36966a4a8fa4c7fa6992c0b823",
       "version_major": 2,
       "version_minor": 0
      },
      "text/plain": [
       "  0%|          | 0/7 [00:00<?, ?it/s]"
      ]
     },
     "metadata": {},
     "output_type": "display_data"
    },
    {
     "name": "stdout",
     "output_type": "stream",
     "text": [
      "Removing noise from file 47 of 62 at ../voice_data/mono_channels/6372_L.wav...\n",
      "\n"
     ]
    },
    {
     "data": {
      "application/vnd.jupyter.widget-view+json": {
       "model_id": "7bc903a7028a4b18a74f5bc7b0624e9a",
       "version_major": 2,
       "version_minor": 0
      },
      "text/plain": [
       "  0%|          | 0/24 [00:00<?, ?it/s]"
      ]
     },
     "metadata": {},
     "output_type": "display_data"
    },
    {
     "name": "stdout",
     "output_type": "stream",
     "text": [
      "Removing noise from file 48 of 62 at ../voice_data/mono_channels/6372_R.wav...\n",
      "\n"
     ]
    },
    {
     "data": {
      "application/vnd.jupyter.widget-view+json": {
       "model_id": "a31d091cb1e6414f9da8e7b7b1c4986d",
       "version_major": 2,
       "version_minor": 0
      },
      "text/plain": [
       "  0%|          | 0/24 [00:00<?, ?it/s]"
      ]
     },
     "metadata": {},
     "output_type": "display_data"
    },
    {
     "name": "stdout",
     "output_type": "stream",
     "text": [
      "Removing noise from file 49 of 62 at ../voice_data/mono_channels/6379_L.wav...\n",
      "\n"
     ]
    },
    {
     "data": {
      "application/vnd.jupyter.widget-view+json": {
       "model_id": "efbabb14e85f4e70897283cb655f4bf9",
       "version_major": 2,
       "version_minor": 0
      },
      "text/plain": [
       "  0%|          | 0/24 [00:00<?, ?it/s]"
      ]
     },
     "metadata": {},
     "output_type": "display_data"
    },
    {
     "name": "stdout",
     "output_type": "stream",
     "text": [
      "Removing noise from file 50 of 62 at ../voice_data/mono_channels/6379_R.wav...\n",
      "\n"
     ]
    },
    {
     "data": {
      "application/vnd.jupyter.widget-view+json": {
       "model_id": "ab5f740e46e24189b40511817ea0b449",
       "version_major": 2,
       "version_minor": 0
      },
      "text/plain": [
       "  0%|          | 0/24 [00:00<?, ?it/s]"
      ]
     },
     "metadata": {},
     "output_type": "display_data"
    },
    {
     "name": "stdout",
     "output_type": "stream",
     "text": [
      "Removing noise from file 51 of 62 at ../voice_data/mono_channels/6476_L.wav...\n",
      "\n"
     ]
    },
    {
     "data": {
      "application/vnd.jupyter.widget-view+json": {
       "model_id": "5e692db7befa48a096d0a6aecda75810",
       "version_major": 2,
       "version_minor": 0
      },
      "text/plain": [
       "  0%|          | 0/24 [00:00<?, ?it/s]"
      ]
     },
     "metadata": {},
     "output_type": "display_data"
    },
    {
     "name": "stdout",
     "output_type": "stream",
     "text": [
      "Removing noise from file 52 of 62 at ../voice_data/mono_channels/6476_R.wav...\n",
      "\n"
     ]
    },
    {
     "data": {
      "application/vnd.jupyter.widget-view+json": {
       "model_id": "85ebe76445744e56b86c83e9ba916043",
       "version_major": 2,
       "version_minor": 0
      },
      "text/plain": [
       "  0%|          | 0/24 [00:00<?, ?it/s]"
      ]
     },
     "metadata": {},
     "output_type": "display_data"
    },
    {
     "name": "stdout",
     "output_type": "stream",
     "text": [
      "Removing noise from file 53 of 62 at ../voice_data/mono_channels/6862_L.wav...\n",
      "\n"
     ]
    },
    {
     "data": {
      "application/vnd.jupyter.widget-view+json": {
       "model_id": "702d3e57959747d989d8c20f5ab773b4",
       "version_major": 2,
       "version_minor": 0
      },
      "text/plain": [
       "  0%|          | 0/15 [00:00<?, ?it/s]"
      ]
     },
     "metadata": {},
     "output_type": "display_data"
    },
    {
     "name": "stdout",
     "output_type": "stream",
     "text": [
      "Removing noise from file 54 of 62 at ../voice_data/mono_channels/6862_R.wav...\n",
      "\n"
     ]
    },
    {
     "data": {
      "application/vnd.jupyter.widget-view+json": {
       "model_id": "5255a48ffb494e6faa7e1c2b5bbc7358",
       "version_major": 2,
       "version_minor": 0
      },
      "text/plain": [
       "  0%|          | 0/15 [00:00<?, ?it/s]"
      ]
     },
     "metadata": {},
     "output_type": "display_data"
    },
    {
     "name": "stdout",
     "output_type": "stream",
     "text": [
      "Removing noise from file 55 of 62 at ../voice_data/mono_channels/6869_L.wav...\n",
      "\n"
     ]
    },
    {
     "data": {
      "application/vnd.jupyter.widget-view+json": {
       "model_id": "1b4b82ecb1ce460a9903ca0d3868585e",
       "version_major": 2,
       "version_minor": 0
      },
      "text/plain": [
       "  0%|          | 0/9 [00:00<?, ?it/s]"
      ]
     },
     "metadata": {},
     "output_type": "display_data"
    },
    {
     "name": "stdout",
     "output_type": "stream",
     "text": [
      "Removing noise from file 56 of 62 at ../voice_data/mono_channels/6869_R.wav...\n",
      "\n"
     ]
    },
    {
     "data": {
      "application/vnd.jupyter.widget-view+json": {
       "model_id": "491a2ad763c74bbba4b98c392414e230",
       "version_major": 2,
       "version_minor": 0
      },
      "text/plain": [
       "  0%|          | 0/9 [00:00<?, ?it/s]"
      ]
     },
     "metadata": {},
     "output_type": "display_data"
    },
    {
     "name": "stdout",
     "output_type": "stream",
     "text": [
      "Removing noise from file 57 of 62 at ../voice_data/mono_channels/6899_L.wav...\n",
      "\n"
     ]
    },
    {
     "data": {
      "application/vnd.jupyter.widget-view+json": {
       "model_id": "76c034c63fb6471f938d00228b65b01b",
       "version_major": 2,
       "version_minor": 0
      },
      "text/plain": [
       "  0%|          | 0/24 [00:00<?, ?it/s]"
      ]
     },
     "metadata": {},
     "output_type": "display_data"
    },
    {
     "name": "stdout",
     "output_type": "stream",
     "text": [
      "Removing noise from file 58 of 62 at ../voice_data/mono_channels/6899_R.wav...\n",
      "\n"
     ]
    },
    {
     "data": {
      "application/vnd.jupyter.widget-view+json": {
       "model_id": "a7d3a41a500b4ecb89df85f5782bf377",
       "version_major": 2,
       "version_minor": 0
      },
      "text/plain": [
       "  0%|          | 0/24 [00:00<?, ?it/s]"
      ]
     },
     "metadata": {},
     "output_type": "display_data"
    },
    {
     "name": "stdout",
     "output_type": "stream",
     "text": [
      "Removing noise from file 59 of 62 at ../voice_data/mono_channels/6938_L.wav...\n",
      "\n"
     ]
    },
    {
     "data": {
      "application/vnd.jupyter.widget-view+json": {
       "model_id": "e91c5cb8bedd4f2eb58cae04f1383fd2",
       "version_major": 2,
       "version_minor": 0
      },
      "text/plain": [
       "  0%|          | 0/24 [00:00<?, ?it/s]"
      ]
     },
     "metadata": {},
     "output_type": "display_data"
    },
    {
     "name": "stdout",
     "output_type": "stream",
     "text": [
      "Removing noise from file 60 of 62 at ../voice_data/mono_channels/6938_R.wav...\n",
      "\n"
     ]
    },
    {
     "data": {
      "application/vnd.jupyter.widget-view+json": {
       "model_id": "a5265a6ff02a43b0915efb1fae376086",
       "version_major": 2,
       "version_minor": 0
      },
      "text/plain": [
       "  0%|          | 0/24 [00:00<?, ?it/s]"
      ]
     },
     "metadata": {},
     "output_type": "display_data"
    },
    {
     "name": "stdout",
     "output_type": "stream",
     "text": [
      "Removing noise from file 61 of 62 at ../voice_data/mono_channels/6952_L.wav...\n",
      "\n"
     ]
    },
    {
     "data": {
      "application/vnd.jupyter.widget-view+json": {
       "model_id": "52cbf75ce0ef496c8cf89f3ad459e3f7",
       "version_major": 2,
       "version_minor": 0
      },
      "text/plain": [
       "  0%|          | 0/24 [00:00<?, ?it/s]"
      ]
     },
     "metadata": {},
     "output_type": "display_data"
    },
    {
     "name": "stdout",
     "output_type": "stream",
     "text": [
      "Removing noise from file 62 of 62 at ../voice_data/mono_channels/6952_R.wav...\n",
      "\n"
     ]
    },
    {
     "data": {
      "application/vnd.jupyter.widget-view+json": {
       "model_id": "7c634f6b61384a5db5694f1092e89913",
       "version_major": 2,
       "version_minor": 0
      },
      "text/plain": [
       "  0%|          | 0/24 [00:00<?, ?it/s]"
      ]
     },
     "metadata": {},
     "output_type": "display_data"
    },
    {
     "name": "stdout",
     "output_type": "stream",
     "text": [
      "Noise reduction complete.\n",
      "\n",
      "CPU times: user 5min 32s, sys: 27 s, total: 5min 59s\n",
      "Wall time: 6min 9s\n"
     ]
    }
   ],
   "source": [
    "%%time\n",
    "\n",
    "processing_funcs.reduce_noise(voice_dir_path = voice_dir)"
   ]
  },
  {
   "cell_type": "markdown",
   "id": "d957774a-4489-4636-a356-f5f11f5a20a2",
   "metadata": {},
   "source": [
    "### Now to remove silence from the audio files:"
   ]
  },
  {
   "cell_type": "code",
   "execution_count": 10,
   "id": "9ea4ff0f-5106-4313-a629-be1628f406f9",
   "metadata": {},
   "outputs": [
    {
     "name": "stdout",
     "output_type": "stream",
     "text": [
      "Creating directory at ../voice_data/mono_channels/silence_removed...\n",
      "\n",
      "Collecting all files in ../voice_data/mono_channels matching regular expression [0-9]+\\_(?:L|R)\\.wav.\n",
      "\n",
      "Removing periods of silence from file 1 of 62...\n",
      "\n",
      "Removing periods of silence from file 2 of 62...\n",
      "\n",
      "Removing periods of silence from file 3 of 62...\n",
      "\n",
      "Removing periods of silence from file 4 of 62...\n",
      "\n",
      "Removing periods of silence from file 5 of 62...\n",
      "\n",
      "Removing periods of silence from file 6 of 62...\n",
      "\n",
      "Removing periods of silence from file 7 of 62...\n",
      "\n",
      "Removing periods of silence from file 8 of 62...\n",
      "\n",
      "Removing periods of silence from file 9 of 62...\n",
      "\n",
      "Removing periods of silence from file 10 of 62...\n",
      "\n",
      "Removing periods of silence from file 11 of 62...\n",
      "\n",
      "Removing periods of silence from file 12 of 62...\n",
      "\n",
      "Removing periods of silence from file 13 of 62...\n",
      "\n",
      "Removing periods of silence from file 14 of 62...\n",
      "\n",
      "Removing periods of silence from file 15 of 62...\n",
      "\n",
      "Removing periods of silence from file 16 of 62...\n",
      "\n",
      "Removing periods of silence from file 17 of 62...\n",
      "\n",
      "Removing periods of silence from file 18 of 62...\n",
      "\n",
      "Removing periods of silence from file 19 of 62...\n",
      "\n",
      "Removing periods of silence from file 20 of 62...\n",
      "\n",
      "Removing periods of silence from file 21 of 62...\n",
      "\n",
      "Removing periods of silence from file 22 of 62...\n",
      "\n",
      "Removing periods of silence from file 23 of 62...\n",
      "\n",
      "Removing periods of silence from file 24 of 62...\n",
      "\n",
      "Removing periods of silence from file 25 of 62...\n",
      "\n",
      "Removing periods of silence from file 26 of 62...\n",
      "\n",
      "Removing periods of silence from file 27 of 62...\n",
      "\n",
      "Removing periods of silence from file 28 of 62...\n",
      "\n",
      "Removing periods of silence from file 29 of 62...\n",
      "\n",
      "Removing periods of silence from file 30 of 62...\n",
      "\n",
      "Removing periods of silence from file 31 of 62...\n",
      "\n",
      "Removing periods of silence from file 32 of 62...\n",
      "\n",
      "Removing periods of silence from file 33 of 62...\n",
      "\n",
      "Removing periods of silence from file 34 of 62...\n",
      "\n",
      "Removing periods of silence from file 35 of 62...\n",
      "\n",
      "Removing periods of silence from file 36 of 62...\n",
      "\n",
      "Removing periods of silence from file 37 of 62...\n",
      "\n",
      "Removing periods of silence from file 38 of 62...\n",
      "\n",
      "Removing periods of silence from file 39 of 62...\n",
      "\n",
      "Removing periods of silence from file 40 of 62...\n",
      "\n",
      "Removing periods of silence from file 41 of 62...\n",
      "\n",
      "Removing periods of silence from file 42 of 62...\n",
      "\n",
      "Removing periods of silence from file 43 of 62...\n",
      "\n",
      "Removing periods of silence from file 44 of 62...\n",
      "\n",
      "Removing periods of silence from file 45 of 62...\n",
      "\n",
      "Removing periods of silence from file 46 of 62...\n",
      "\n",
      "Removing periods of silence from file 47 of 62...\n",
      "\n",
      "Removing periods of silence from file 48 of 62...\n",
      "\n",
      "Removing periods of silence from file 49 of 62...\n",
      "\n",
      "Removing periods of silence from file 50 of 62...\n",
      "\n",
      "Removing periods of silence from file 51 of 62...\n",
      "\n",
      "Removing periods of silence from file 52 of 62...\n",
      "\n",
      "Removing periods of silence from file 53 of 62...\n",
      "\n",
      "Removing periods of silence from file 54 of 62...\n",
      "\n",
      "Removing periods of silence from file 55 of 62...\n",
      "\n",
      "Removing periods of silence from file 56 of 62...\n",
      "\n",
      "Removing periods of silence from file 57 of 62...\n",
      "\n",
      "Removing periods of silence from file 58 of 62...\n",
      "\n",
      "Removing periods of silence from file 59 of 62...\n",
      "\n",
      "Removing periods of silence from file 60 of 62...\n",
      "\n",
      "Removing periods of silence from file 61 of 62...\n",
      "\n",
      "Removing periods of silence from file 62 of 62...\n",
      "\n",
      "Removing silence process complete.\n",
      "\n",
      "CPU times: user 46.2 s, sys: 5.98 s, total: 52.2 s\n",
      "Wall time: 54 s\n"
     ]
    }
   ],
   "source": [
    "%%time\n",
    "silence_dir_path = os.path.join(mono_dir_path, 'silence_removed')\n",
    "utils.make_dir(silence_dir_path)\n",
    "processing_funcs.remove_silence(mono_channel_dir = mono_dir_path)"
   ]
  },
  {
   "cell_type": "code",
   "execution_count": null,
   "id": "6169532c-09ec-4b6a-87c3-4c434f633162",
   "metadata": {},
   "outputs": [],
   "source": []
  },
  {
   "cell_type": "code",
   "execution_count": null,
   "id": "18631b82-dea2-461d-a0f2-9a5a31fa9459",
   "metadata": {},
   "outputs": [],
   "source": []
  },
  {
   "cell_type": "code",
   "execution_count": null,
   "id": "a8444218-9b1a-4b4b-84e9-a7a8d87ad94c",
   "metadata": {},
   "outputs": [],
   "source": []
  },
  {
   "cell_type": "code",
   "execution_count": null,
   "id": "4cf0dbbf-46dc-4cbf-88b3-5902b77bae56",
   "metadata": {},
   "outputs": [],
   "source": []
  }
 ],
 "metadata": {
  "kernelspec": {
   "display_name": "Python 3 (ipykernel)",
   "language": "python",
   "name": "python3"
  },
  "language_info": {
   "codemirror_mode": {
    "name": "ipython",
    "version": 3
   },
   "file_extension": ".py",
   "mimetype": "text/x-python",
   "name": "python",
   "nbconvert_exporter": "python",
   "pygments_lexer": "ipython3",
   "version": "3.9.7"
  }
 },
 "nbformat": 4,
 "nbformat_minor": 5
}
