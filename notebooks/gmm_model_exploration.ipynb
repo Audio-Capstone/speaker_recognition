{
 "cells": [
  {
   "cell_type": "code",
   "execution_count": 76,
   "id": "bb517b76-2be7-44ab-a356-31fa208cf0a3",
   "metadata": {},
   "outputs": [],
   "source": [
    "import sys\n",
    "sys.path.append('../')\n",
    "\n",
    "from functions import processing_funcs, utils\n",
    "\n",
    "import pandas as pd\n",
    "\n",
    "import librosa\n",
    "import librosa.display\n",
    "\n",
    "import sklearn\n",
    "from sklearn import preprocessing\n",
    "from sklearn.mixture import GaussianMixture as gmm\n",
    "from sklearn.metrics import ConfusionMatrixDisplay\n",
    "\n",
    "import matplotlib.pyplot as plt\n",
    "\n",
    "import numpy as np\n",
    "\n",
    "import pickle\n",
    "\n",
    "import IPython.display as ipd"
   ]
  },
  {
   "cell_type": "code",
   "execution_count": 16,
   "id": "8e4499cd-3486-4ddb-ab94-62210b88566b",
   "metadata": {},
   "outputs": [],
   "source": [
    "train_df = pd.read_csv('../meta_data/training_files.csv', index_col=0)"
   ]
  },
  {
   "cell_type": "code",
   "execution_count": 17,
   "id": "8b51ccc7-c987-4510-8b2b-b1d59a0466af",
   "metadata": {},
   "outputs": [
    {
     "data": {
      "text/html": [
       "<div>\n",
       "<style scoped>\n",
       "    .dataframe tbody tr th:only-of-type {\n",
       "        vertical-align: middle;\n",
       "    }\n",
       "\n",
       "    .dataframe tbody tr th {\n",
       "        vertical-align: top;\n",
       "    }\n",
       "\n",
       "    .dataframe thead th {\n",
       "        text-align: right;\n",
       "    }\n",
       "</style>\n",
       "<table border=\"1\" class=\"dataframe\">\n",
       "  <thead>\n",
       "    <tr style=\"text-align: right;\">\n",
       "      <th></th>\n",
       "      <th>file_path</th>\n",
       "      <th>voice_id</th>\n",
       "    </tr>\n",
       "  </thead>\n",
       "  <tbody>\n",
       "    <tr>\n",
       "      <th>0</th>\n",
       "      <td>../voice_data/training/4175_L/4175_L_0.wav</td>\n",
       "      <td>0</td>\n",
       "    </tr>\n",
       "    <tr>\n",
       "      <th>1</th>\n",
       "      <td>../voice_data/training/4175_L/4175_L_100.wav</td>\n",
       "      <td>0</td>\n",
       "    </tr>\n",
       "    <tr>\n",
       "      <th>2</th>\n",
       "      <td>../voice_data/training/4175_L/4175_L_110.wav</td>\n",
       "      <td>0</td>\n",
       "    </tr>\n",
       "    <tr>\n",
       "      <th>3</th>\n",
       "      <td>../voice_data/training/4175_L/4175_L_120.wav</td>\n",
       "      <td>0</td>\n",
       "    </tr>\n",
       "    <tr>\n",
       "      <th>4</th>\n",
       "      <td>../voice_data/training/4175_L/4175_L_130.wav</td>\n",
       "      <td>0</td>\n",
       "    </tr>\n",
       "  </tbody>\n",
       "</table>\n",
       "</div>"
      ],
      "text/plain": [
       "                                      file_path  voice_id\n",
       "0    ../voice_data/training/4175_L/4175_L_0.wav         0\n",
       "1  ../voice_data/training/4175_L/4175_L_100.wav         0\n",
       "2  ../voice_data/training/4175_L/4175_L_110.wav         0\n",
       "3  ../voice_data/training/4175_L/4175_L_120.wav         0\n",
       "4  ../voice_data/training/4175_L/4175_L_130.wav         0"
      ]
     },
     "execution_count": 17,
     "metadata": {},
     "output_type": "execute_result"
    }
   ],
   "source": [
    "train_df.head()"
   ]
  },
  {
   "cell_type": "markdown",
   "id": "5eaea328-04e7-4427-acd3-9ab35fef2fab",
   "metadata": {},
   "source": [
    "#### Create function extract desired features from an audio clip:"
   ]
  },
  {
   "cell_type": "code",
   "execution_count": 18,
   "id": "5898c4ac-1532-400e-8424-2d5c74444e80",
   "metadata": {},
   "outputs": [],
   "source": [
    "def extract_aud_feat(audio_fp, samp_rate=8000, n_fft=128, hop_length=64, n_mfcc=13, n_mels=64):\n",
    "    '''Generate a mel spectrogram of the audio sample provided and extract features from it'''\n",
    "    \n",
    "    y = librosa.load(audio_fp, sr=samp_rate)[0]\n",
    "    \n",
    "    S = librosa.feature.melspectrogram(y=y, sr=samp_rate, n_fft=n_fft, hop_length=hop_length, n_mels=n_mels)\n",
    "\n",
    "    # Extract MFCCs from melspectrogram:\n",
    "    mfccs = librosa.feature.mfcc(S=S, sr=samp_rate, n_mfcc=n_mfcc)\n",
    "\n",
    "    # Get Delta MFCCs:\n",
    "    del_mfccs = librosa.feature.delta(mfccs)\n",
    "    del2_mfccs = librosa.feature.delta(mfccs, order=2)\n",
    "    \n",
    "    # Root mean squared:\n",
    "    rms = librosa.feature.rms(S=S, frame_length=((n_mels*2)-1), hop_length=hop_length)\n",
    "    \n",
    "    # Zero crossing rate:\n",
    "    zcr = librosa.feature.zero_crossing_rate(y=y, frame_length=((n_mels*2)), hop_length=hop_length)\n",
    "    \n",
    "    # Spectral centroid:\n",
    "    spec_cen = librosa.feature.spectral_centroid(S=S, sr=samp_rate, n_fft=n_fft, hop_length=hop_length)\n",
    "    \n",
    "    # Spectral bandwidth:\n",
    "    spec_bw = librosa.feature.spectral_bandwidth(y=y, sr=samp_rate, n_fft=n_fft, hop_length=hop_length)\n",
    "    \n",
    "    # Transpose the features and concatenate them together along axis 1 (column-wise):\n",
    "    features = np.concatenate((mfccs.T, del_mfccs.T, del2_mfccs.T, rms.T, zcr.T, spec_cen.T, spec_bw.T), axis=1)\n",
    "    \n",
    "    # Scale features, possibly improves performance? -Performed worst on average BIC for n_components=1\n",
    "    #features = preprocessing.scale(features)\n",
    "    return features"
   ]
  },
  {
   "cell_type": "markdown",
   "id": "3cd9d449-63eb-4237-a69b-ab3c9d97800a",
   "metadata": {},
   "source": [
    "#### Training a GMM Model for each Speaker based on the samples in the training dataframe:"
   ]
  },
  {
   "cell_type": "code",
   "execution_count": 29,
   "id": "e903c1d1-4966-4546-baa6-ba5c5d05724c",
   "metadata": {},
   "outputs": [],
   "source": [
    "# Based on code here: https://appliedmachinelearning.blog/2017/11/14/spoken-speaker-identification-based-on-gaussian-mixture-models-python-implementation/\n",
    "\n",
    "def fit_speaker_gmms(df, dest_dir, n_components=5):\n",
    "    \n",
    "    # Initiliaze empty array\n",
    "    feat_array = np.asarray(())\n",
    "    \n",
    "    # Counter to keep track of which index/voice_id we are on\n",
    "    counter = 0\n",
    "    \n",
    "    comp_dir = dest_dir + f'/n_comp_{n_components}/'\n",
    "    \n",
    "    utils.make_dir(dest_dir)\n",
    "    \n",
    "    # Create a directory for models with the specified number of components:\n",
    "    utils.make_dir(comp_dir)\n",
    "    \n",
    "    # Tracking for model performance:\n",
    "    voice_ids = [i for i in range(0, max(test_df.voice_id.unique()) + 1)]\n",
    "    bic_scores = []\n",
    "    aic_scores = []\n",
    "    \n",
    "    # Empty dictionary to store Key: voice_id and Value: path to corresponding GMM model:\n",
    "    model_dict = {}\n",
    "\n",
    "    for audio_fp in df.file_path:\n",
    "        \n",
    "        tot_samp = len(df) - 1\n",
    "        voice_id = df.loc[counter, 'voice_id']\n",
    "        pickle_fp = f'{dest_dir}speaker_{voice_id}' + '.gmm'\n",
    "        model_dict[voice_id] = pickle_fp\n",
    "        \n",
    "        features = extract_aud_feat(audio_fp)\n",
    "            \n",
    "        if feat_array.size == 0:\n",
    "            feat_array = features\n",
    "        else:\n",
    "            feat_array = np.vstack((feat_array, features))\n",
    "\n",
    "        # Check if we're at the last sample in the training set OR the last training sample for the current voice ID.\n",
    "        # If so, fit and save the GMM for that voice ID using the accumulated features:\n",
    "        if counter == tot_samp or df.voice_id[counter + 1] != voice_id:\n",
    "            gmm_model = gmm(n_components=n_components, n_init=5)\n",
    "            gmm_model.fit(feat_array)\n",
    "            \n",
    "            bic_score = gmm_model.bic(feat_array)\n",
    "            aic_score = gmm_model.aic(feat_array)\n",
    "            \n",
    "            bic_scores.append(bic_score)\n",
    "            aic_scores.append(aic_score)\n",
    "            \n",
    "            pickle_fp = f'{comp_dir}speaker_{voice_id}_{n_components}_n_comp' + '.gmm'\n",
    "            model_dict[voice_id] = pickle_fp\n",
    "            pickle.dump(obj=gmm_model, file=open(pickle_fp, 'wb'))\n",
    "            #print(f'Finished with n_comp {n_components} for voice ID:', voice_id, feat_array.shape)\n",
    "            # Reset the feat_array for next voice_id:\n",
    "            feat_array = np.asarray(())\n",
    "\n",
    "        counter = counter + 1\n",
    "    \n",
    "    model_scr_df = pd.DataFrame(list(zip(bic_scores, aic_scores)), index=voice_ids, columns =['bic_score', 'aic_score'])\n",
    "    model_scr_df.to_csv(comp_dir + f'n_comp_{n_components}_scores.csv')\n",
    "    \n",
    "    print(f'Training complete for n_components = {n_components}.')\n",
    "    \n",
    "    return model_dict, model_scr_df"
   ]
  },
  {
   "cell_type": "markdown",
   "id": "eb32fbd1-b71f-4672-86fe-0ff7f61fa030",
   "metadata": {},
   "source": [
    "Testing scaling features and if it improves average BIC / AIC vs. unscaled features:\n",
    "\n",
    "Average BIC / AIC for scaled features was MUCH worse than unscaled for n_components = 1.\n",
    "\n",
    "Going to proceeed without scaling for now, can revisit for further evaluation."
   ]
  },
  {
   "cell_type": "code",
   "execution_count": 30,
   "id": "8ec954b7-5d24-433b-88de-dad0b3f5a04f",
   "metadata": {
    "scrolled": true,
    "tags": []
   },
   "outputs": [
    {
     "name": "stdout",
     "output_type": "stream",
     "text": [
      "Creating directory at ../speaker_gmm_models...\n",
      "\n",
      "Creating directory at ../speaker_gmm_models/n_comp_1/...\n",
      "\n"
     ]
    },
    {
     "ename": "KeyboardInterrupt",
     "evalue": "",
     "output_type": "error",
     "traceback": [
      "\u001b[1;31m---------------------------------------------------------------------------\u001b[0m",
      "\u001b[1;31mKeyboardInterrupt\u001b[0m                         Traceback (most recent call last)",
      "\u001b[1;32m<timed exec>\u001b[0m in \u001b[0;36m<module>\u001b[1;34m\u001b[0m\n",
      "\u001b[1;32m~\\AppData\\Local\\Temp/ipykernel_30360/3538591639.py\u001b[0m in \u001b[0;36mfit_speaker_gmms\u001b[1;34m(df, dest_dir, n_components)\u001b[0m\n\u001b[0;32m     42\u001b[0m         \u001b[1;32mif\u001b[0m \u001b[0mcounter\u001b[0m \u001b[1;33m==\u001b[0m \u001b[0mtot_samp\u001b[0m \u001b[1;32mor\u001b[0m \u001b[0mdf\u001b[0m\u001b[1;33m.\u001b[0m\u001b[0mvoice_id\u001b[0m\u001b[1;33m[\u001b[0m\u001b[0mcounter\u001b[0m \u001b[1;33m+\u001b[0m \u001b[1;36m1\u001b[0m\u001b[1;33m]\u001b[0m \u001b[1;33m!=\u001b[0m \u001b[0mvoice_id\u001b[0m\u001b[1;33m:\u001b[0m\u001b[1;33m\u001b[0m\u001b[1;33m\u001b[0m\u001b[0m\n\u001b[0;32m     43\u001b[0m             \u001b[0mgmm_model\u001b[0m \u001b[1;33m=\u001b[0m \u001b[0mgmm\u001b[0m\u001b[1;33m(\u001b[0m\u001b[0mn_components\u001b[0m\u001b[1;33m=\u001b[0m\u001b[0mn_components\u001b[0m\u001b[1;33m,\u001b[0m \u001b[0mn_init\u001b[0m\u001b[1;33m=\u001b[0m\u001b[1;36m5\u001b[0m\u001b[1;33m)\u001b[0m\u001b[1;33m\u001b[0m\u001b[1;33m\u001b[0m\u001b[0m\n\u001b[1;32m---> 44\u001b[1;33m             \u001b[0mgmm_model\u001b[0m\u001b[1;33m.\u001b[0m\u001b[0mfit\u001b[0m\u001b[1;33m(\u001b[0m\u001b[0mfeat_array\u001b[0m\u001b[1;33m)\u001b[0m\u001b[1;33m\u001b[0m\u001b[1;33m\u001b[0m\u001b[0m\n\u001b[0m\u001b[0;32m     45\u001b[0m \u001b[1;33m\u001b[0m\u001b[0m\n\u001b[0;32m     46\u001b[0m             \u001b[0mbic_score\u001b[0m \u001b[1;33m=\u001b[0m \u001b[0mgmm_model\u001b[0m\u001b[1;33m.\u001b[0m\u001b[0mbic\u001b[0m\u001b[1;33m(\u001b[0m\u001b[0mfeat_array\u001b[0m\u001b[1;33m)\u001b[0m\u001b[1;33m\u001b[0m\u001b[1;33m\u001b[0m\u001b[0m\n",
      "\u001b[1;32m~\\AppData\\Roaming\\Python\\Python39\\site-packages\\sklearn\\mixture\\_base.py\u001b[0m in \u001b[0;36mfit\u001b[1;34m(self, X, y)\u001b[0m\n\u001b[0;32m    198\u001b[0m             \u001b[0mThe\u001b[0m \u001b[0mfitted\u001b[0m \u001b[0mmixture\u001b[0m\u001b[1;33m.\u001b[0m\u001b[1;33m\u001b[0m\u001b[1;33m\u001b[0m\u001b[0m\n\u001b[0;32m    199\u001b[0m         \"\"\"\n\u001b[1;32m--> 200\u001b[1;33m         \u001b[0mself\u001b[0m\u001b[1;33m.\u001b[0m\u001b[0mfit_predict\u001b[0m\u001b[1;33m(\u001b[0m\u001b[0mX\u001b[0m\u001b[1;33m,\u001b[0m \u001b[0my\u001b[0m\u001b[1;33m)\u001b[0m\u001b[1;33m\u001b[0m\u001b[1;33m\u001b[0m\u001b[0m\n\u001b[0m\u001b[0;32m    201\u001b[0m         \u001b[1;32mreturn\u001b[0m \u001b[0mself\u001b[0m\u001b[1;33m\u001b[0m\u001b[1;33m\u001b[0m\u001b[0m\n\u001b[0;32m    202\u001b[0m \u001b[1;33m\u001b[0m\u001b[0m\n",
      "\u001b[1;32m~\\AppData\\Roaming\\Python\\Python39\\site-packages\\sklearn\\mixture\\_base.py\u001b[0m in \u001b[0;36mfit_predict\u001b[1;34m(self, X, y)\u001b[0m\n\u001b[0;32m    262\u001b[0m                     \u001b[0mprev_lower_bound\u001b[0m \u001b[1;33m=\u001b[0m \u001b[0mlower_bound\u001b[0m\u001b[1;33m\u001b[0m\u001b[1;33m\u001b[0m\u001b[0m\n\u001b[0;32m    263\u001b[0m \u001b[1;33m\u001b[0m\u001b[0m\n\u001b[1;32m--> 264\u001b[1;33m                     \u001b[0mlog_prob_norm\u001b[0m\u001b[1;33m,\u001b[0m \u001b[0mlog_resp\u001b[0m \u001b[1;33m=\u001b[0m \u001b[0mself\u001b[0m\u001b[1;33m.\u001b[0m\u001b[0m_e_step\u001b[0m\u001b[1;33m(\u001b[0m\u001b[0mX\u001b[0m\u001b[1;33m)\u001b[0m\u001b[1;33m\u001b[0m\u001b[1;33m\u001b[0m\u001b[0m\n\u001b[0m\u001b[0;32m    265\u001b[0m                     \u001b[0mself\u001b[0m\u001b[1;33m.\u001b[0m\u001b[0m_m_step\u001b[0m\u001b[1;33m(\u001b[0m\u001b[0mX\u001b[0m\u001b[1;33m,\u001b[0m \u001b[0mlog_resp\u001b[0m\u001b[1;33m)\u001b[0m\u001b[1;33m\u001b[0m\u001b[1;33m\u001b[0m\u001b[0m\n\u001b[0;32m    266\u001b[0m                     \u001b[0mlower_bound\u001b[0m \u001b[1;33m=\u001b[0m \u001b[0mself\u001b[0m\u001b[1;33m.\u001b[0m\u001b[0m_compute_lower_bound\u001b[0m\u001b[1;33m(\u001b[0m\u001b[0mlog_resp\u001b[0m\u001b[1;33m,\u001b[0m \u001b[0mlog_prob_norm\u001b[0m\u001b[1;33m)\u001b[0m\u001b[1;33m\u001b[0m\u001b[1;33m\u001b[0m\u001b[0m\n",
      "\u001b[1;32m~\\AppData\\Roaming\\Python\\Python39\\site-packages\\sklearn\\mixture\\_base.py\u001b[0m in \u001b[0;36m_e_step\u001b[1;34m(self, X)\u001b[0m\n\u001b[0;32m    319\u001b[0m             \u001b[0mthe\u001b[0m \u001b[0mpoint\u001b[0m \u001b[0mof\u001b[0m \u001b[0meach\u001b[0m \u001b[0msample\u001b[0m \u001b[1;32min\u001b[0m \u001b[0mX\u001b[0m\u001b[1;33m.\u001b[0m\u001b[1;33m\u001b[0m\u001b[1;33m\u001b[0m\u001b[0m\n\u001b[0;32m    320\u001b[0m         \"\"\"\n\u001b[1;32m--> 321\u001b[1;33m         \u001b[0mlog_prob_norm\u001b[0m\u001b[1;33m,\u001b[0m \u001b[0mlog_resp\u001b[0m \u001b[1;33m=\u001b[0m \u001b[0mself\u001b[0m\u001b[1;33m.\u001b[0m\u001b[0m_estimate_log_prob_resp\u001b[0m\u001b[1;33m(\u001b[0m\u001b[0mX\u001b[0m\u001b[1;33m)\u001b[0m\u001b[1;33m\u001b[0m\u001b[1;33m\u001b[0m\u001b[0m\n\u001b[0m\u001b[0;32m    322\u001b[0m         \u001b[1;32mreturn\u001b[0m \u001b[0mnp\u001b[0m\u001b[1;33m.\u001b[0m\u001b[0mmean\u001b[0m\u001b[1;33m(\u001b[0m\u001b[0mlog_prob_norm\u001b[0m\u001b[1;33m)\u001b[0m\u001b[1;33m,\u001b[0m \u001b[0mlog_resp\u001b[0m\u001b[1;33m\u001b[0m\u001b[1;33m\u001b[0m\u001b[0m\n\u001b[0;32m    323\u001b[0m \u001b[1;33m\u001b[0m\u001b[0m\n",
      "\u001b[1;32m~\\AppData\\Roaming\\Python\\Python39\\site-packages\\sklearn\\mixture\\_base.py\u001b[0m in \u001b[0;36m_estimate_log_prob_resp\u001b[1;34m(self, X)\u001b[0m\n\u001b[0;32m    539\u001b[0m             \u001b[0mlogarithm\u001b[0m \u001b[0mof\u001b[0m \u001b[0mthe\u001b[0m \u001b[0mresponsibilities\u001b[0m\u001b[1;33m\u001b[0m\u001b[1;33m\u001b[0m\u001b[0m\n\u001b[0;32m    540\u001b[0m         \"\"\"\n\u001b[1;32m--> 541\u001b[1;33m         \u001b[0mweighted_log_prob\u001b[0m \u001b[1;33m=\u001b[0m \u001b[0mself\u001b[0m\u001b[1;33m.\u001b[0m\u001b[0m_estimate_weighted_log_prob\u001b[0m\u001b[1;33m(\u001b[0m\u001b[0mX\u001b[0m\u001b[1;33m)\u001b[0m\u001b[1;33m\u001b[0m\u001b[1;33m\u001b[0m\u001b[0m\n\u001b[0m\u001b[0;32m    542\u001b[0m         \u001b[0mlog_prob_norm\u001b[0m \u001b[1;33m=\u001b[0m \u001b[0mlogsumexp\u001b[0m\u001b[1;33m(\u001b[0m\u001b[0mweighted_log_prob\u001b[0m\u001b[1;33m,\u001b[0m \u001b[0maxis\u001b[0m\u001b[1;33m=\u001b[0m\u001b[1;36m1\u001b[0m\u001b[1;33m)\u001b[0m\u001b[1;33m\u001b[0m\u001b[1;33m\u001b[0m\u001b[0m\n\u001b[0;32m    543\u001b[0m         \u001b[1;32mwith\u001b[0m \u001b[0mnp\u001b[0m\u001b[1;33m.\u001b[0m\u001b[0merrstate\u001b[0m\u001b[1;33m(\u001b[0m\u001b[0munder\u001b[0m\u001b[1;33m=\u001b[0m\u001b[1;34m\"ignore\"\u001b[0m\u001b[1;33m)\u001b[0m\u001b[1;33m:\u001b[0m\u001b[1;33m\u001b[0m\u001b[1;33m\u001b[0m\u001b[0m\n",
      "\u001b[1;32m~\\AppData\\Roaming\\Python\\Python39\\site-packages\\sklearn\\mixture\\_base.py\u001b[0m in \u001b[0;36m_estimate_weighted_log_prob\u001b[1;34m(self, X)\u001b[0m\n\u001b[0;32m    492\u001b[0m         \u001b[0mweighted_log_prob\u001b[0m \u001b[1;33m:\u001b[0m \u001b[0marray\u001b[0m\u001b[1;33m,\u001b[0m \u001b[0mshape\u001b[0m \u001b[1;33m(\u001b[0m\u001b[0mn_samples\u001b[0m\u001b[1;33m,\u001b[0m \u001b[0mn_component\u001b[0m\u001b[1;33m)\u001b[0m\u001b[1;33m\u001b[0m\u001b[1;33m\u001b[0m\u001b[0m\n\u001b[0;32m    493\u001b[0m         \"\"\"\n\u001b[1;32m--> 494\u001b[1;33m         \u001b[1;32mreturn\u001b[0m \u001b[0mself\u001b[0m\u001b[1;33m.\u001b[0m\u001b[0m_estimate_log_prob\u001b[0m\u001b[1;33m(\u001b[0m\u001b[0mX\u001b[0m\u001b[1;33m)\u001b[0m \u001b[1;33m+\u001b[0m \u001b[0mself\u001b[0m\u001b[1;33m.\u001b[0m\u001b[0m_estimate_log_weights\u001b[0m\u001b[1;33m(\u001b[0m\u001b[1;33m)\u001b[0m\u001b[1;33m\u001b[0m\u001b[1;33m\u001b[0m\u001b[0m\n\u001b[0m\u001b[0;32m    495\u001b[0m \u001b[1;33m\u001b[0m\u001b[0m\n\u001b[0;32m    496\u001b[0m     \u001b[1;33m@\u001b[0m\u001b[0mabstractmethod\u001b[0m\u001b[1;33m\u001b[0m\u001b[1;33m\u001b[0m\u001b[0m\n",
      "\u001b[1;32m~\\AppData\\Roaming\\Python\\Python39\\site-packages\\sklearn\\mixture\\_gaussian_mixture.py\u001b[0m in \u001b[0;36m_estimate_log_prob\u001b[1;34m(self, X)\u001b[0m\n\u001b[0;32m    758\u001b[0m \u001b[1;33m\u001b[0m\u001b[0m\n\u001b[0;32m    759\u001b[0m     \u001b[1;32mdef\u001b[0m \u001b[0m_estimate_log_prob\u001b[0m\u001b[1;33m(\u001b[0m\u001b[0mself\u001b[0m\u001b[1;33m,\u001b[0m \u001b[0mX\u001b[0m\u001b[1;33m)\u001b[0m\u001b[1;33m:\u001b[0m\u001b[1;33m\u001b[0m\u001b[1;33m\u001b[0m\u001b[0m\n\u001b[1;32m--> 760\u001b[1;33m         return _estimate_log_gaussian_prob(\n\u001b[0m\u001b[0;32m    761\u001b[0m             \u001b[0mX\u001b[0m\u001b[1;33m,\u001b[0m \u001b[0mself\u001b[0m\u001b[1;33m.\u001b[0m\u001b[0mmeans_\u001b[0m\u001b[1;33m,\u001b[0m \u001b[0mself\u001b[0m\u001b[1;33m.\u001b[0m\u001b[0mprecisions_cholesky_\u001b[0m\u001b[1;33m,\u001b[0m \u001b[0mself\u001b[0m\u001b[1;33m.\u001b[0m\u001b[0mcovariance_type\u001b[0m\u001b[1;33m\u001b[0m\u001b[1;33m\u001b[0m\u001b[0m\n\u001b[0;32m    762\u001b[0m         )\n",
      "\u001b[1;32m~\\AppData\\Roaming\\Python\\Python39\\site-packages\\sklearn\\mixture\\_gaussian_mixture.py\u001b[0m in \u001b[0;36m_estimate_log_gaussian_prob\u001b[1;34m(X, means, precisions_chol, covariance_type)\u001b[0m\n\u001b[0;32m    451\u001b[0m     \u001b[1;31m# Since we are using the precision of the Cholesky decomposition,\u001b[0m\u001b[1;33m\u001b[0m\u001b[1;33m\u001b[0m\u001b[0m\n\u001b[0;32m    452\u001b[0m     \u001b[1;31m# `- 0.5 * log_det_precision` becomes `+ log_det_precision_chol`\u001b[0m\u001b[1;33m\u001b[0m\u001b[1;33m\u001b[0m\u001b[0m\n\u001b[1;32m--> 453\u001b[1;33m     \u001b[1;32mreturn\u001b[0m \u001b[1;33m-\u001b[0m\u001b[1;36m0.5\u001b[0m \u001b[1;33m*\u001b[0m \u001b[1;33m(\u001b[0m\u001b[0mn_features\u001b[0m \u001b[1;33m*\u001b[0m \u001b[0mnp\u001b[0m\u001b[1;33m.\u001b[0m\u001b[0mlog\u001b[0m\u001b[1;33m(\u001b[0m\u001b[1;36m2\u001b[0m \u001b[1;33m*\u001b[0m \u001b[0mnp\u001b[0m\u001b[1;33m.\u001b[0m\u001b[0mpi\u001b[0m\u001b[1;33m)\u001b[0m \u001b[1;33m+\u001b[0m \u001b[0mlog_prob\u001b[0m\u001b[1;33m)\u001b[0m \u001b[1;33m+\u001b[0m \u001b[0mlog_det\u001b[0m\u001b[1;33m\u001b[0m\u001b[1;33m\u001b[0m\u001b[0m\n\u001b[0m\u001b[0;32m    454\u001b[0m \u001b[1;33m\u001b[0m\u001b[0m\n\u001b[0;32m    455\u001b[0m \u001b[1;33m\u001b[0m\u001b[0m\n",
      "\u001b[1;31mKeyboardInterrupt\u001b[0m: "
     ]
    }
   ],
   "source": [
    "%%time\n",
    "# Create GMM models for each individual speaker from 1-8 n_components to evaluate using BIC/AIC scores:\n",
    "# for i in range(1, 9):\n",
    "#     fit_speaker_gmms(df=train_df, dest_dir='../speaker_gmm_models', n_components=i)"
   ]
  },
  {
   "cell_type": "code",
   "execution_count": 31,
   "id": "cffb7b9f-37e5-4373-809f-f743967f9b28",
   "metadata": {},
   "outputs": [
    {
     "name": "stdout",
     "output_type": "stream",
     "text": [
      "Creating directory at ../speaker_gmm_models...\n",
      "\n",
      "Creating directory at ../speaker_gmm_models/n_comp_3/...\n",
      "\n",
      "Training complete for n_components = 3.\n"
     ]
    }
   ],
   "source": [
    "# 3 components seemed to perform best for Average BIC/AIC:\n",
    "model_dict, _ = fit_speaker_gmms(df=train_df, dest_dir='../speaker_gmm_models', n_components=3)"
   ]
  },
  {
   "cell_type": "code",
   "execution_count": 35,
   "id": "79263fa8-59fa-4f63-a03e-b5ca091ec2c2",
   "metadata": {
    "scrolled": true,
    "tags": []
   },
   "outputs": [
    {
     "data": {
      "text/plain": [
       "{0: '../speaker_gmm_models/n_comp_3/speaker_0_3_n_comp.gmm',\n",
       " 1: '../speaker_gmm_models/n_comp_3/speaker_1_3_n_comp.gmm',\n",
       " 2: '../speaker_gmm_models/n_comp_3/speaker_2_3_n_comp.gmm',\n",
       " 3: '../speaker_gmm_models/n_comp_3/speaker_3_3_n_comp.gmm',\n",
       " 4: '../speaker_gmm_models/n_comp_3/speaker_4_3_n_comp.gmm',\n",
       " 5: '../speaker_gmm_models/n_comp_3/speaker_5_3_n_comp.gmm',\n",
       " 6: '../speaker_gmm_models/n_comp_3/speaker_6_3_n_comp.gmm',\n",
       " 7: '../speaker_gmm_models/n_comp_3/speaker_7_3_n_comp.gmm',\n",
       " 8: '../speaker_gmm_models/n_comp_3/speaker_8_3_n_comp.gmm',\n",
       " 9: '../speaker_gmm_models/n_comp_3/speaker_9_3_n_comp.gmm',\n",
       " 10: '../speaker_gmm_models/n_comp_3/speaker_10_3_n_comp.gmm',\n",
       " 11: '../speaker_gmm_models/n_comp_3/speaker_11_3_n_comp.gmm',\n",
       " 12: '../speaker_gmm_models/n_comp_3/speaker_12_3_n_comp.gmm',\n",
       " 13: '../speaker_gmm_models/n_comp_3/speaker_13_3_n_comp.gmm',\n",
       " 14: '../speaker_gmm_models/n_comp_3/speaker_14_3_n_comp.gmm',\n",
       " 15: '../speaker_gmm_models/n_comp_3/speaker_15_3_n_comp.gmm',\n",
       " 16: '../speaker_gmm_models/n_comp_3/speaker_16_3_n_comp.gmm',\n",
       " 17: '../speaker_gmm_models/n_comp_3/speaker_17_3_n_comp.gmm',\n",
       " 18: '../speaker_gmm_models/n_comp_3/speaker_18_3_n_comp.gmm',\n",
       " 19: '../speaker_gmm_models/n_comp_3/speaker_19_3_n_comp.gmm',\n",
       " 20: '../speaker_gmm_models/n_comp_3/speaker_20_3_n_comp.gmm',\n",
       " 21: '../speaker_gmm_models/n_comp_3/speaker_21_3_n_comp.gmm',\n",
       " 22: '../speaker_gmm_models/n_comp_3/speaker_22_3_n_comp.gmm',\n",
       " 23: '../speaker_gmm_models/n_comp_3/speaker_23_3_n_comp.gmm',\n",
       " 24: '../speaker_gmm_models/n_comp_3/speaker_24_3_n_comp.gmm',\n",
       " 25: '../speaker_gmm_models/n_comp_3/speaker_25_3_n_comp.gmm',\n",
       " 26: '../speaker_gmm_models/n_comp_3/speaker_26_3_n_comp.gmm',\n",
       " 27: '../speaker_gmm_models/n_comp_3/speaker_27_3_n_comp.gmm',\n",
       " 28: '../speaker_gmm_models/n_comp_3/speaker_28_3_n_comp.gmm',\n",
       " 29: '../speaker_gmm_models/n_comp_3/speaker_29_3_n_comp.gmm',\n",
       " 30: '../speaker_gmm_models/n_comp_3/speaker_30_3_n_comp.gmm',\n",
       " 31: '../speaker_gmm_models/n_comp_3/speaker_31_3_n_comp.gmm',\n",
       " 32: '../speaker_gmm_models/n_comp_3/speaker_32_3_n_comp.gmm',\n",
       " 33: '../speaker_gmm_models/n_comp_3/speaker_33_3_n_comp.gmm',\n",
       " 34: '../speaker_gmm_models/n_comp_3/speaker_34_3_n_comp.gmm',\n",
       " 35: '../speaker_gmm_models/n_comp_3/speaker_35_3_n_comp.gmm',\n",
       " 36: '../speaker_gmm_models/n_comp_3/speaker_36_3_n_comp.gmm',\n",
       " 37: '../speaker_gmm_models/n_comp_3/speaker_37_3_n_comp.gmm',\n",
       " 38: '../speaker_gmm_models/n_comp_3/speaker_38_3_n_comp.gmm',\n",
       " 39: '../speaker_gmm_models/n_comp_3/speaker_39_3_n_comp.gmm',\n",
       " 40: '../speaker_gmm_models/n_comp_3/speaker_40_3_n_comp.gmm',\n",
       " 41: '../speaker_gmm_models/n_comp_3/speaker_41_3_n_comp.gmm',\n",
       " 42: '../speaker_gmm_models/n_comp_3/speaker_42_3_n_comp.gmm',\n",
       " 43: '../speaker_gmm_models/n_comp_3/speaker_43_3_n_comp.gmm',\n",
       " 44: '../speaker_gmm_models/n_comp_3/speaker_44_3_n_comp.gmm',\n",
       " 45: '../speaker_gmm_models/n_comp_3/speaker_45_3_n_comp.gmm',\n",
       " 46: '../speaker_gmm_models/n_comp_3/speaker_46_3_n_comp.gmm',\n",
       " 47: '../speaker_gmm_models/n_comp_3/speaker_47_3_n_comp.gmm',\n",
       " 48: '../speaker_gmm_models/n_comp_3/speaker_48_3_n_comp.gmm',\n",
       " 49: '../speaker_gmm_models/n_comp_3/speaker_49_3_n_comp.gmm',\n",
       " 50: '../speaker_gmm_models/n_comp_3/speaker_50_3_n_comp.gmm',\n",
       " 51: '../speaker_gmm_models/n_comp_3/speaker_51_3_n_comp.gmm',\n",
       " 52: '../speaker_gmm_models/n_comp_3/speaker_52_3_n_comp.gmm',\n",
       " 53: '../speaker_gmm_models/n_comp_3/speaker_53_3_n_comp.gmm',\n",
       " 54: '../speaker_gmm_models/n_comp_3/speaker_54_3_n_comp.gmm',\n",
       " 55: '../speaker_gmm_models/n_comp_3/speaker_55_3_n_comp.gmm',\n",
       " 56: '../speaker_gmm_models/n_comp_3/speaker_56_3_n_comp.gmm',\n",
       " 57: '../speaker_gmm_models/n_comp_3/speaker_57_3_n_comp.gmm',\n",
       " 58: '../speaker_gmm_models/n_comp_3/speaker_58_3_n_comp.gmm',\n",
       " 59: '../speaker_gmm_models/n_comp_3/speaker_59_3_n_comp.gmm',\n",
       " 60: '../speaker_gmm_models/n_comp_3/speaker_60_3_n_comp.gmm',\n",
       " 61: '../speaker_gmm_models/n_comp_3/speaker_61_3_n_comp.gmm'}"
      ]
     },
     "execution_count": 35,
     "metadata": {},
     "output_type": "execute_result"
    }
   ],
   "source": [
    "model_dict"
   ]
  },
  {
   "cell_type": "markdown",
   "id": "79c4b490-564c-422a-b89d-2c6180e41077",
   "metadata": {},
   "source": [
    "#### Evaluating Speaker GMMs with average BIC/AIC scores before selecting the final models:"
   ]
  },
  {
   "cell_type": "code",
   "execution_count": 36,
   "id": "dccb56c1-a94a-40cb-b205-2135d0f594d0",
   "metadata": {},
   "outputs": [
    {
     "name": "stdout",
     "output_type": "stream",
     "text": [
      "[-15482548.707891224, -17615715.412338722, -17913889.36775526, -18038365.810805395, -18109436.742697272, -18153801.751919575, -18180513.630909137, -18199456.840142883]\n"
     ]
    }
   ],
   "source": [
    "gmm_dir = '../speaker_gmm_models/'\n",
    "n_components = [i for i in range(1, 9)]\n",
    "avg_bic_scores = []\n",
    "avg_aic_scores = []\n",
    "\n",
    "for i in n_components:\n",
    "    score_df = pd.read_csv(f'{gmm_dir}n_comp_{i}/n_comp_{i}_scores.csv', index_col=0)\n",
    "    avg_bic = score_df.bic_score.mean()\n",
    "    avg_bic_scores.append(avg_bic)\n",
    "    \n",
    "    avg_aic = score_df.aic_score.mean()\n",
    "    avg_aic_scores.append(avg_aic)\n",
    "    \n",
    "print(avg_bic_scores)"
   ]
  },
  {
   "cell_type": "code",
   "execution_count": 80,
   "id": "99f5c7b8-66a5-4a12-97a3-15bd91cc87b3",
   "metadata": {},
   "outputs": [
    {
     "data": {
      "image/png": "[encoded data removed]",
      "text/plain": [
       "<Figure size 432x288 with 1 Axes>"
      ]
     },
     "metadata": {
      "needs_background": "light"
     },
     "output_type": "display_data"
    }
   ],
   "source": [
    "plt.plot(n_components, avg_bic_scores)\n",
    "plt.plot(n_components, avg_aic_scores)\n",
    "plt.title('Avg. BIC/AIC Scores for GMM Models vs. n_components', loc='right', y=1.05)\n",
    "plt.xlabel('Number of GMM n-components')\n",
    "plt.ylabel('Avg. BIC/AIC Scores Across all 62 Models')\n",
    "plt.legend(['avg_bic', 'avg_aic'])\n",
    "plt.savefig('../images/avg_bic_aic_scores.png')\n",
    "plt.show()"
   ]
  },
  {
   "cell_type": "markdown",
   "id": "7531549c-26b6-4171-9010-693bd1e5ed50",
   "metadata": {},
   "source": [
    "Based on the inflection point around 2-3 n_components, it would appear 3 n_components might be best"
   ]
  },
  {
   "cell_type": "markdown",
   "id": "76523c27-ab40-429d-acc2-24efd2403dbc",
   "metadata": {},
   "source": [
    "#### Evaluating Speaker GMMs against test dataset:"
   ]
  },
  {
   "cell_type": "code",
   "execution_count": 38,
   "id": "7d8dec0d-d7f2-445b-8b3b-7faf3150f1ec",
   "metadata": {},
   "outputs": [],
   "source": [
    "test_df = pd.read_csv('../meta_data/testing_files.csv', index_col=0)"
   ]
  },
  {
   "cell_type": "code",
   "execution_count": 39,
   "id": "8a6f361f-66d4-4cee-b6ed-10f0338c4d00",
   "metadata": {},
   "outputs": [
    {
     "data": {
      "text/html": [
       "<div>\n",
       "<style scoped>\n",
       "    .dataframe tbody tr th:only-of-type {\n",
       "        vertical-align: middle;\n",
       "    }\n",
       "\n",
       "    .dataframe tbody tr th {\n",
       "        vertical-align: top;\n",
       "    }\n",
       "\n",
       "    .dataframe thead th {\n",
       "        text-align: right;\n",
       "    }\n",
       "</style>\n",
       "<table border=\"1\" class=\"dataframe\">\n",
       "  <thead>\n",
       "    <tr style=\"text-align: right;\">\n",
       "      <th></th>\n",
       "      <th>file_path</th>\n",
       "      <th>voice_id</th>\n",
       "    </tr>\n",
       "  </thead>\n",
       "  <tbody>\n",
       "    <tr>\n",
       "      <th>0</th>\n",
       "      <td>../voice_data/testing/4175_L/4175_L_10.wav</td>\n",
       "      <td>0</td>\n",
       "    </tr>\n",
       "    <tr>\n",
       "      <th>1</th>\n",
       "      <td>../voice_data/testing/4175_L/4175_L_190.wav</td>\n",
       "      <td>0</td>\n",
       "    </tr>\n",
       "    <tr>\n",
       "      <th>2</th>\n",
       "      <td>../voice_data/testing/4175_L/4175_L_330.wav</td>\n",
       "      <td>0</td>\n",
       "    </tr>\n",
       "    <tr>\n",
       "      <th>3</th>\n",
       "      <td>../voice_data/testing/4175_L/4175_L_360.wav</td>\n",
       "      <td>0</td>\n",
       "    </tr>\n",
       "    <tr>\n",
       "      <th>4</th>\n",
       "      <td>../voice_data/testing/4175_L/4175_L_410.wav</td>\n",
       "      <td>0</td>\n",
       "    </tr>\n",
       "  </tbody>\n",
       "</table>\n",
       "</div>"
      ],
      "text/plain": [
       "                                     file_path  voice_id\n",
       "0   ../voice_data/testing/4175_L/4175_L_10.wav         0\n",
       "1  ../voice_data/testing/4175_L/4175_L_190.wav         0\n",
       "2  ../voice_data/testing/4175_L/4175_L_330.wav         0\n",
       "3  ../voice_data/testing/4175_L/4175_L_360.wav         0\n",
       "4  ../voice_data/testing/4175_L/4175_L_410.wav         0"
      ]
     },
     "execution_count": 39,
     "metadata": {},
     "output_type": "execute_result"
    }
   ],
   "source": [
    "test_df.head()"
   ]
  },
  {
   "cell_type": "code",
   "execution_count": 40,
   "id": "6be7e983-569d-4cbf-8ed5-56fa25c2c093",
   "metadata": {},
   "outputs": [
    {
     "data": {
      "text/html": [
       "<div>\n",
       "<style scoped>\n",
       "    .dataframe tbody tr th:only-of-type {\n",
       "        vertical-align: middle;\n",
       "    }\n",
       "\n",
       "    .dataframe tbody tr th {\n",
       "        vertical-align: top;\n",
       "    }\n",
       "\n",
       "    .dataframe thead th {\n",
       "        text-align: right;\n",
       "    }\n",
       "</style>\n",
       "<table border=\"1\" class=\"dataframe\">\n",
       "  <thead>\n",
       "    <tr style=\"text-align: right;\">\n",
       "      <th></th>\n",
       "      <th>file_path</th>\n",
       "      <th>voice_id</th>\n",
       "    </tr>\n",
       "  </thead>\n",
       "  <tbody>\n",
       "    <tr>\n",
       "      <th>0</th>\n",
       "      <td>../voice_data/training/6869_R/6869_R_0.wav</td>\n",
       "      <td>55</td>\n",
       "    </tr>\n",
       "    <tr>\n",
       "      <th>1</th>\n",
       "      <td>../voice_data/training/6869_R/6869_R_10.wav</td>\n",
       "      <td>55</td>\n",
       "    </tr>\n",
       "    <tr>\n",
       "      <th>2</th>\n",
       "      <td>../voice_data/training/6869_R/6869_R_20.wav</td>\n",
       "      <td>55</td>\n",
       "    </tr>\n",
       "    <tr>\n",
       "      <th>3</th>\n",
       "      <td>../voice_data/training/6869_R/6869_R_30.wav</td>\n",
       "      <td>55</td>\n",
       "    </tr>\n",
       "  </tbody>\n",
       "</table>\n",
       "</div>"
      ],
      "text/plain": [
       "                                     file_path  voice_id\n",
       "0   ../voice_data/training/6869_R/6869_R_0.wav        55\n",
       "1  ../voice_data/training/6869_R/6869_R_10.wav        55\n",
       "2  ../voice_data/training/6869_R/6869_R_20.wav        55\n",
       "3  ../voice_data/training/6869_R/6869_R_30.wav        55"
      ]
     },
     "execution_count": 40,
     "metadata": {},
     "output_type": "execute_result"
    }
   ],
   "source": [
    "# Speaker 55 did not have enough data to make testing data, so reusing the training data here:\n",
    "train_data_55 = utils.read_dir_files('../voice_data/training/6869_R/', file_regex=None)\n",
    "test_data_55 = []\n",
    "for i in train_data_55:\n",
    "    i = '../voice_data/training/6869_R/' + i\n",
    "    test_data_55.append(i)\n",
    "voice_id = [55, 55, 55, 55]\n",
    "\n",
    "test_55_df = pd.DataFrame(list(zip(test_data_55, voice_id)), columns=['file_path', 'voice_id'])\n",
    "test_55_df.head()"
   ]
  },
  {
   "cell_type": "code",
   "execution_count": 41,
   "id": "3b9bc5e5-fa06-417c-a535-568ac4827089",
   "metadata": {},
   "outputs": [
    {
     "data": {
      "text/html": [
       "<div>\n",
       "<style scoped>\n",
       "    .dataframe tbody tr th:only-of-type {\n",
       "        vertical-align: middle;\n",
       "    }\n",
       "\n",
       "    .dataframe tbody tr th {\n",
       "        vertical-align: top;\n",
       "    }\n",
       "\n",
       "    .dataframe thead th {\n",
       "        text-align: right;\n",
       "    }\n",
       "</style>\n",
       "<table border=\"1\" class=\"dataframe\">\n",
       "  <thead>\n",
       "    <tr style=\"text-align: right;\">\n",
       "      <th></th>\n",
       "      <th>file_path</th>\n",
       "      <th>voice_id</th>\n",
       "    </tr>\n",
       "  </thead>\n",
       "  <tbody>\n",
       "    <tr>\n",
       "      <th>0</th>\n",
       "      <td>../voice_data/testing/4175_L/4175_L_10.wav</td>\n",
       "      <td>0</td>\n",
       "    </tr>\n",
       "    <tr>\n",
       "      <th>1</th>\n",
       "      <td>../voice_data/testing/4175_L/4175_L_190.wav</td>\n",
       "      <td>0</td>\n",
       "    </tr>\n",
       "    <tr>\n",
       "      <th>2</th>\n",
       "      <td>../voice_data/testing/4175_L/4175_L_330.wav</td>\n",
       "      <td>0</td>\n",
       "    </tr>\n",
       "    <tr>\n",
       "      <th>3</th>\n",
       "      <td>../voice_data/testing/4175_L/4175_L_360.wav</td>\n",
       "      <td>0</td>\n",
       "    </tr>\n",
       "    <tr>\n",
       "      <th>4</th>\n",
       "      <td>../voice_data/testing/4175_L/4175_L_410.wav</td>\n",
       "      <td>0</td>\n",
       "    </tr>\n",
       "  </tbody>\n",
       "</table>\n",
       "</div>"
      ],
      "text/plain": [
       "                                     file_path  voice_id\n",
       "0   ../voice_data/testing/4175_L/4175_L_10.wav         0\n",
       "1  ../voice_data/testing/4175_L/4175_L_190.wav         0\n",
       "2  ../voice_data/testing/4175_L/4175_L_330.wav         0\n",
       "3  ../voice_data/testing/4175_L/4175_L_360.wav         0\n",
       "4  ../voice_data/testing/4175_L/4175_L_410.wav         0"
      ]
     },
     "execution_count": 41,
     "metadata": {},
     "output_type": "execute_result"
    }
   ],
   "source": [
    "test_df = test_df.append(test_55_df)\n",
    "test_df.head()"
   ]
  },
  {
   "cell_type": "code",
   "execution_count": 42,
   "id": "de87add8-498c-47cc-adcd-91ad5c0a4f07",
   "metadata": {},
   "outputs": [
    {
     "data": {
      "text/html": [
       "<div>\n",
       "<style scoped>\n",
       "    .dataframe tbody tr th:only-of-type {\n",
       "        vertical-align: middle;\n",
       "    }\n",
       "\n",
       "    .dataframe tbody tr th {\n",
       "        vertical-align: top;\n",
       "    }\n",
       "\n",
       "    .dataframe thead th {\n",
       "        text-align: right;\n",
       "    }\n",
       "</style>\n",
       "<table border=\"1\" class=\"dataframe\">\n",
       "  <thead>\n",
       "    <tr style=\"text-align: right;\">\n",
       "      <th></th>\n",
       "      <th>file_path</th>\n",
       "      <th>voice_id</th>\n",
       "    </tr>\n",
       "  </thead>\n",
       "  <tbody>\n",
       "    <tr>\n",
       "      <th>339</th>\n",
       "      <td>../voice_data/testing/6952_R/6952_R_540.wav</td>\n",
       "      <td>61</td>\n",
       "    </tr>\n",
       "    <tr>\n",
       "      <th>0</th>\n",
       "      <td>../voice_data/training/6869_R/6869_R_0.wav</td>\n",
       "      <td>55</td>\n",
       "    </tr>\n",
       "    <tr>\n",
       "      <th>1</th>\n",
       "      <td>../voice_data/training/6869_R/6869_R_10.wav</td>\n",
       "      <td>55</td>\n",
       "    </tr>\n",
       "    <tr>\n",
       "      <th>2</th>\n",
       "      <td>../voice_data/training/6869_R/6869_R_20.wav</td>\n",
       "      <td>55</td>\n",
       "    </tr>\n",
       "    <tr>\n",
       "      <th>3</th>\n",
       "      <td>../voice_data/training/6869_R/6869_R_30.wav</td>\n",
       "      <td>55</td>\n",
       "    </tr>\n",
       "  </tbody>\n",
       "</table>\n",
       "</div>"
      ],
      "text/plain": [
       "                                       file_path  voice_id\n",
       "339  ../voice_data/testing/6952_R/6952_R_540.wav        61\n",
       "0     ../voice_data/training/6869_R/6869_R_0.wav        55\n",
       "1    ../voice_data/training/6869_R/6869_R_10.wav        55\n",
       "2    ../voice_data/training/6869_R/6869_R_20.wav        55\n",
       "3    ../voice_data/training/6869_R/6869_R_30.wav        55"
      ]
     },
     "execution_count": 42,
     "metadata": {},
     "output_type": "execute_result"
    }
   ],
   "source": [
    "test_df.tail()"
   ]
  },
  {
   "cell_type": "code",
   "execution_count": 43,
   "id": "05ec5f16-ae80-4b35-9e15-8bc7b3ebaec0",
   "metadata": {},
   "outputs": [
    {
     "data": {
      "text/html": [
       "<div>\n",
       "<style scoped>\n",
       "    .dataframe tbody tr th:only-of-type {\n",
       "        vertical-align: middle;\n",
       "    }\n",
       "\n",
       "    .dataframe tbody tr th {\n",
       "        vertical-align: top;\n",
       "    }\n",
       "\n",
       "    .dataframe thead th {\n",
       "        text-align: right;\n",
       "    }\n",
       "</style>\n",
       "<table border=\"1\" class=\"dataframe\">\n",
       "  <thead>\n",
       "    <tr style=\"text-align: right;\">\n",
       "      <th></th>\n",
       "      <th>file_path</th>\n",
       "      <th>voice_id</th>\n",
       "    </tr>\n",
       "  </thead>\n",
       "  <tbody>\n",
       "    <tr>\n",
       "      <th>0</th>\n",
       "      <td>../voice_data/testing/4175_L/4175_L_10.wav</td>\n",
       "      <td>0</td>\n",
       "    </tr>\n",
       "    <tr>\n",
       "      <th>9</th>\n",
       "      <td>../voice_data/testing/4175_L/4175_L_70.wav</td>\n",
       "      <td>0</td>\n",
       "    </tr>\n",
       "    <tr>\n",
       "      <th>8</th>\n",
       "      <td>../voice_data/testing/4175_L/4175_L_690.wav</td>\n",
       "      <td>0</td>\n",
       "    </tr>\n",
       "    <tr>\n",
       "      <th>7</th>\n",
       "      <td>../voice_data/testing/4175_L/4175_L_550.wav</td>\n",
       "      <td>0</td>\n",
       "    </tr>\n",
       "    <tr>\n",
       "      <th>6</th>\n",
       "      <td>../voice_data/testing/4175_L/4175_L_510.wav</td>\n",
       "      <td>0</td>\n",
       "    </tr>\n",
       "  </tbody>\n",
       "</table>\n",
       "</div>"
      ],
      "text/plain": [
       "                                     file_path  voice_id\n",
       "0   ../voice_data/testing/4175_L/4175_L_10.wav         0\n",
       "9   ../voice_data/testing/4175_L/4175_L_70.wav         0\n",
       "8  ../voice_data/testing/4175_L/4175_L_690.wav         0\n",
       "7  ../voice_data/testing/4175_L/4175_L_550.wav         0\n",
       "6  ../voice_data/testing/4175_L/4175_L_510.wav         0"
      ]
     },
     "execution_count": 43,
     "metadata": {},
     "output_type": "execute_result"
    }
   ],
   "source": [
    "test_df = test_df.sort_values(by='voice_id')\n",
    "test_df.head()"
   ]
  },
  {
   "cell_type": "code",
   "execution_count": 44,
   "id": "0e011666-6f16-4dd3-acae-03cb601b2265",
   "metadata": {},
   "outputs": [],
   "source": [
    "test_df = test_df.reset_index()"
   ]
  },
  {
   "cell_type": "code",
   "execution_count": 45,
   "id": "9238c3ff-6d7c-453b-9358-4266f9886294",
   "metadata": {},
   "outputs": [
    {
     "data": {
      "text/html": [
       "<div>\n",
       "<style scoped>\n",
       "    .dataframe tbody tr th:only-of-type {\n",
       "        vertical-align: middle;\n",
       "    }\n",
       "\n",
       "    .dataframe tbody tr th {\n",
       "        vertical-align: top;\n",
       "    }\n",
       "\n",
       "    .dataframe thead th {\n",
       "        text-align: right;\n",
       "    }\n",
       "</style>\n",
       "<table border=\"1\" class=\"dataframe\">\n",
       "  <thead>\n",
       "    <tr style=\"text-align: right;\">\n",
       "      <th></th>\n",
       "      <th>index</th>\n",
       "      <th>file_path</th>\n",
       "      <th>voice_id</th>\n",
       "    </tr>\n",
       "  </thead>\n",
       "  <tbody>\n",
       "    <tr>\n",
       "      <th>339</th>\n",
       "      <td>336</td>\n",
       "      <td>../voice_data/testing/6952_R/6952_R_390.wav</td>\n",
       "      <td>61</td>\n",
       "    </tr>\n",
       "    <tr>\n",
       "      <th>340</th>\n",
       "      <td>337</td>\n",
       "      <td>../voice_data/testing/6952_R/6952_R_460.wav</td>\n",
       "      <td>61</td>\n",
       "    </tr>\n",
       "    <tr>\n",
       "      <th>341</th>\n",
       "      <td>338</td>\n",
       "      <td>../voice_data/testing/6952_R/6952_R_50.wav</td>\n",
       "      <td>61</td>\n",
       "    </tr>\n",
       "    <tr>\n",
       "      <th>342</th>\n",
       "      <td>339</td>\n",
       "      <td>../voice_data/testing/6952_R/6952_R_540.wav</td>\n",
       "      <td>61</td>\n",
       "    </tr>\n",
       "    <tr>\n",
       "      <th>343</th>\n",
       "      <td>332</td>\n",
       "      <td>../voice_data/testing/6952_R/6952_R_100.wav</td>\n",
       "      <td>61</td>\n",
       "    </tr>\n",
       "  </tbody>\n",
       "</table>\n",
       "</div>"
      ],
      "text/plain": [
       "     index                                    file_path  voice_id\n",
       "339    336  ../voice_data/testing/6952_R/6952_R_390.wav        61\n",
       "340    337  ../voice_data/testing/6952_R/6952_R_460.wav        61\n",
       "341    338   ../voice_data/testing/6952_R/6952_R_50.wav        61\n",
       "342    339  ../voice_data/testing/6952_R/6952_R_540.wav        61\n",
       "343    332  ../voice_data/testing/6952_R/6952_R_100.wav        61"
      ]
     },
     "execution_count": 45,
     "metadata": {},
     "output_type": "execute_result"
    }
   ],
   "source": [
    "test_df.tail()"
   ]
  },
  {
   "cell_type": "markdown",
   "id": "9c720c3d-a403-4473-bf24-bdfdae51358a",
   "metadata": {},
   "source": [
    "#### Create a function that will take in an audio sample, test it against each speaker's GMM model, and return the model with the highest loglikelihood score:"
   ]
  },
  {
   "cell_type": "code",
   "execution_count": 46,
   "id": "789c62c7-878b-40f1-8632-90fce759c427",
   "metadata": {
    "scrolled": true,
    "tags": []
   },
   "outputs": [],
   "source": [
    "def predict_speaker(feat_array, model_paths, verbose=False):\n",
    "    \n",
    "    log_likelihood = np.zeros(len(model_paths))\n",
    "    \n",
    "    counter = 0\n",
    "\n",
    "    for model_path in model_paths:\n",
    "        \n",
    "        if verbose == True:\n",
    "            print(f'{counter} evaluation using model at path: {model_path}')\n",
    "        \n",
    "        model = pickle.load(open(model_path, 'rb'))\n",
    "\n",
    "        score = model.score(feat_array)\n",
    "\n",
    "        log_likelihood[counter] = score\n",
    "\n",
    "        counter = counter + 1\n",
    "    \n",
    "    #print(log_likelihood)\n",
    "    prediction = np.argmax(log_likelihood)\n",
    "    return prediction"
   ]
  },
  {
   "cell_type": "code",
   "execution_count": 47,
   "id": "beb719af-2604-4061-9fcf-60c9220a7dd1",
   "metadata": {
    "tags": []
   },
   "outputs": [
    {
     "name": "stdout",
     "output_type": "stream",
     "text": [
      "True label: 0 Predicted label: 0\n",
      "True label: 1 Predicted label: 1\n",
      "True label: 2 Predicted label: 38\n",
      "True label: 3 Predicted label: 3\n",
      "True label: 4 Predicted label: 4\n",
      "True label: 5 Predicted label: 43\n",
      "True label: 6 Predicted label: 6\n",
      "True label: 7 Predicted label: 7\n",
      "True label: 8 Predicted label: 8\n",
      "True label: 9 Predicted label: 9\n",
      "True label: 10 Predicted label: 10\n",
      "True label: 11 Predicted label: 11\n",
      "True label: 12 Predicted label: 12\n",
      "True label: 13 Predicted label: 13\n",
      "True label: 14 Predicted label: 14\n",
      "True label: 15 Predicted label: 15\n",
      "True label: 16 Predicted label: 16\n",
      "True label: 17 Predicted label: 6\n",
      "True label: 18 Predicted label: 24\n",
      "True label: 19 Predicted label: 19\n",
      "True label: 20 Predicted label: 20\n",
      "True label: 21 Predicted label: 49\n",
      "True label: 22 Predicted label: 22\n",
      "True label: 23 Predicted label: 23\n",
      "True label: 24 Predicted label: 24\n",
      "True label: 25 Predicted label: 44\n",
      "True label: 26 Predicted label: 26\n",
      "True label: 27 Predicted label: 27\n",
      "True label: 28 Predicted label: 22\n",
      "True label: 29 Predicted label: 6\n",
      "True label: 30 Predicted label: 36\n",
      "True label: 31 Predicted label: 59\n",
      "True label: 32 Predicted label: 47\n",
      "True label: 33 Predicted label: 33\n",
      "True label: 34 Predicted label: 34\n",
      "True label: 35 Predicted label: 59\n",
      "True label: 36 Predicted label: 36\n",
      "True label: 37 Predicted label: 37\n",
      "True label: 38 Predicted label: 38\n",
      "True label: 39 Predicted label: 39\n",
      "True label: 40 Predicted label: 40\n",
      "True label: 41 Predicted label: 41\n",
      "True label: 42 Predicted label: 42\n",
      "True label: 43 Predicted label: 43\n",
      "True label: 44 Predicted label: 44\n",
      "True label: 45 Predicted label: 44\n",
      "True label: 46 Predicted label: 46\n",
      "True label: 47 Predicted label: 47\n",
      "True label: 48 Predicted label: 24\n",
      "True label: 49 Predicted label: 49\n",
      "True label: 50 Predicted label: 50\n",
      "True label: 51 Predicted label: 22\n",
      "True label: 52 Predicted label: 20\n",
      "True label: 53 Predicted label: 36\n",
      "True label: 54 Predicted label: 36\n",
      "True label: 55 Predicted label: 55\n",
      "True label: 56 Predicted label: 44\n",
      "True label: 57 Predicted label: 57\n",
      "True label: 58 Predicted label: 33\n",
      "True label: 59 Predicted label: 59\n",
      "True label: 60 Predicted label: 60\n",
      "True label: 61 Predicted label: 9\n",
      "Predictions complete.\n",
      "Model accuracy: 0.6612903225806451\n",
      "Wall time: 1min 1s\n"
     ]
    }
   ],
   "source": [
    "%%time\n",
    "# True voice_id labels:\n",
    "y_true = test_df.voice_id.unique()\n",
    "y_pred = []\n",
    "model_paths = list(model_dict.values())\n",
    "\n",
    "for voice_id in range(0, len(test_df.voice_id.unique())):\n",
    "    \n",
    "    # Np array to stack features for voice_id cluster in:\n",
    "    feat_array = np.asarray(())\n",
    "    label = voice_id\n",
    "    voice_id_cluster = test_df[test_df.voice_id==voice_id].reset_index(drop=True)\n",
    "\n",
    "    for sample in range(0, len(voice_id_cluster)):\n",
    "        \n",
    "        audio_fp = voice_id_cluster.loc[sample, 'file_path']\n",
    "        features = extract_aud_feat(audio_fp)\n",
    "        \n",
    "        if feat_array.size == 0:\n",
    "            feat_array = features\n",
    "        else:\n",
    "            feat_array = np.vstack((feat_array, features))\n",
    "    \n",
    "    prediction = predict_speaker(feat_array, model_paths=model_paths)\n",
    "    y_pred.append(prediction)\n",
    "    print(f'True label: {label} Predicted label: {prediction}')\n",
    "    \n",
    "print('Predictions complete.')\n",
    "\n",
    "acc_score = sklearn.metrics.accuracy_score(y_true, y_pred, normalize=True, sample_weight=None)\n",
    "print(f'Model accuracy: {acc_score}')\n",
    "    "
   ]
  },
  {
   "cell_type": "code",
   "execution_count": 71,
   "id": "b99654b0-1306-42aa-a81a-eb7617a05193",
   "metadata": {},
   "outputs": [
    {
     "data": {
      "text/plain": [
       "0.6612903225806451"
      ]
     },
     "execution_count": 71,
     "metadata": {},
     "output_type": "execute_result"
    }
   ],
   "source": [
    "acc_score = sklearn.metrics.accuracy_score(list(y_true), y_pred, normalize=True, sample_weight=None)\n",
    "acc_score"
   ]
  },
  {
   "cell_type": "markdown",
   "id": "2dd3e831-e748-4d76-b982-e62d4f4cff39",
   "metadata": {},
   "source": [
    "We achieved at 66.13% accuracy rate with our GMM models! Not bad at all.\n",
    "\n",
    "If we remove Speaker 55's results since we reused training data, we achieved an overall score of 40/61 or 65.8%\n",
    "\n",
    "Now to visualize the confusion matrix:"
   ]
  },
  {
   "cell_type": "code",
   "execution_count": 77,
   "id": "165d1218-2a78-4a39-a2e4-2e8bb62d9a64",
   "metadata": {},
   "outputs": [
    {
     "data": {
      "image/png": "[encoded data removed]",
      "text/plain": [
       "<Figure size 432x288 with 2 Axes>"
      ]
     },
     "metadata": {
      "needs_background": "light"
     },
     "output_type": "display_data"
    }
   ],
   "source": [
    "from sklearn.metrics import ConfusionMatrixDisplay\n",
    "con_mat_disp = ConfusionMatrixDisplay.from_predictions(y_true=list(y_true), y_pred=y_pred, display_labels=np.arange(62))"
   ]
  },
  {
   "cell_type": "markdown",
   "id": "9556866e-c516-481a-842e-37b1b3ebbcda",
   "metadata": {},
   "source": [
    "This doesn't look good at all, let's try to make it larger:"
   ]
  },
  {
   "cell_type": "code",
   "execution_count": 78,
   "id": "5755e24d-14a0-4f49-9d83-d3efc07c30bc",
   "metadata": {},
   "outputs": [
    {
     "data": {
      "image/png": "[encoded data removed]",
      "text/plain": [
       "<Figure size 1296x1296 with 2 Axes>"
      ]
     },
     "metadata": {
      "needs_background": "light"
     },
     "output_type": "display_data"
    }
   ],
   "source": [
    "#con_mat_disp = ConfusionMatrixDisplay.from_predictions(y_true=list(y_true), y_pred=y_pred, display_labels=np.arange(62))\n",
    "fig, ax = plt.subplots(figsize=(18,18))\n",
    "con_mat_disp.plot(ax=ax)\n",
    "plt.savefig('../images/conf_matrix_display.png')"
   ]
  },
  {
   "cell_type": "markdown",
   "id": "a86615b9-6b9b-4856-87c4-36187149ec8d",
   "metadata": {},
   "source": [
    "Our GMM models were able to accurately identify unseen data surprisingly well given the lack of data for some speakers and other data issues (speakers changing during a call).\n",
    "\n",
    "Applying these same techniques to a cleaner, more robust dataset would likely lead to even better results"
   ]
  }
 ],
 "metadata": {
  "kernelspec": {
   "display_name": "Python 3 (ipykernel)",
   "language": "python",
   "name": "python3"
  },
  "language_info": {
   "codemirror_mode": {
    "name": "ipython",
    "version": 3
   },
   "file_extension": ".py",
   "mimetype": "text/x-python",
   "name": "python",
   "nbconvert_exporter": "python",
   "pygments_lexer": "ipython3",
   "version": "3.9.7"
  }
 },
 "nbformat": 4,
 "nbformat_minor": 5
}
